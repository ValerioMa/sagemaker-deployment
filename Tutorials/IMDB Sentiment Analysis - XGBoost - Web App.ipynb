{
 "cells": [
  {
   "cell_type": "markdown",
   "metadata": {},
   "source": [
    "# Sentiment Analysis Web App\n",
    "\n",
    "_Deep Learning Nanodegree Program | Deployment_\n",
    "\n",
    "---\n",
    "\n",
    "In this notebook we will use Amazon's SageMaker service to construct a random tree model to predict the sentiment of a movie review. In addition, we will deploy this model to an endpoint and construct a very simple web app which will interact with our model's deployed endpoint.\n",
    "\n",
    "## General Outline\n",
    "\n",
    "Typically, when using a notebook instance with SageMaker, you will proceed through the following steps. Of course, not every step will need to be done with each project. Also, there is quite a lot of room for variation in many of the steps, as you will see throughout these lessons.\n",
    "\n",
    "1. Download or otherwise retrieve the data.\n",
    "2. Process / Prepare the data.\n",
    "3. Upload the processed data to S3.\n",
    "4. Train a chosen model.\n",
    "5. Test the trained model (typically using a batch transform job).\n",
    "6. Deploy the trained model.\n",
    "7. Use the deployed model.\n",
    "\n",
    "In this notebook we will progress through each of the steps above. We will also see that the final step, using the deployed model, can be quite challenging."
   ]
  },
  {
   "cell_type": "markdown",
   "metadata": {},
   "source": [
    "## Step 1: Downloading the data\n",
    "\n",
    "The dataset we are going to use is very popular among researchers in Natural Language Processing, usually referred to as the [IMDb dataset](http://ai.stanford.edu/~amaas/data/sentiment/). It consists of movie reviews from the website [imdb.com](http://www.imdb.com/), each labeled as either '**pos**itive', if the reviewer enjoyed the film, or '**neg**ative' otherwise.\n",
    "\n",
    "> Maas, Andrew L., et al. [Learning Word Vectors for Sentiment Analysis](http://ai.stanford.edu/~amaas/data/sentiment/). In _Proceedings of the 49th Annual Meeting of the Association for Computational Linguistics: Human Language Technologies_. Association for Computational Linguistics, 2011.\n",
    "\n",
    "We begin by using some Jupyter Notebook magic to download and extract the dataset."
   ]
  },
  {
   "cell_type": "code",
   "execution_count": 1,
   "metadata": {},
   "outputs": [
    {
     "name": "stdout",
     "output_type": "stream",
     "text": [
      "mkdir: cannot create directory ‘../data’: File exists\n",
      "--2020-10-03 07:23:37--  http://ai.stanford.edu/~amaas/data/sentiment/aclImdb_v1.tar.gz\n",
      "Resolving ai.stanford.edu (ai.stanford.edu)... 171.64.68.10\n",
      "Connecting to ai.stanford.edu (ai.stanford.edu)|171.64.68.10|:80... connected.\n",
      "HTTP request sent, awaiting response... 200 OK\n",
      "Length: 84125825 (80M) [application/x-gzip]\n",
      "Saving to: ‘../data/aclImdb_v1.tar.gz’\n",
      "\n",
      "../data/aclImdb_v1. 100%[===================>]  80.23M  10.2MB/s    in 11s     \n",
      "\n",
      "2020-10-03 07:23:49 (7.07 MB/s) - ‘../data/aclImdb_v1.tar.gz’ saved [84125825/84125825]\n",
      "\n"
     ]
    }
   ],
   "source": [
    "%mkdir ../data\n",
    "!wget -O ../data/aclImdb_v1.tar.gz http://ai.stanford.edu/~amaas/data/sentiment/aclImdb_v1.tar.gz\n",
    "!tar -zxf ../data/aclImdb_v1.tar.gz -C ../data"
   ]
  },
  {
   "cell_type": "markdown",
   "metadata": {},
   "source": [
    "## Step 2: Preparing and Processing the data\n",
    "\n",
    "The data we have downloaded is split into various files, each of which contains a single review. It will be much easier going forward if we combine these individual files into two large files, one for training and one for testing."
   ]
  },
  {
   "cell_type": "code",
   "execution_count": 2,
   "metadata": {},
   "outputs": [],
   "source": [
    "import os\n",
    "import glob\n",
    "\n",
    "def read_imdb_data(data_dir='../data/aclImdb'):\n",
    "    data = {}\n",
    "    labels = {}\n",
    "    \n",
    "    for data_type in ['train', 'test']:\n",
    "        data[data_type] = {}\n",
    "        labels[data_type] = {}\n",
    "        \n",
    "        for sentiment in ['pos', 'neg']:\n",
    "            data[data_type][sentiment] = []\n",
    "            labels[data_type][sentiment] = []\n",
    "            \n",
    "            path = os.path.join(data_dir, data_type, sentiment, '*.txt')\n",
    "            files = glob.glob(path)\n",
    "            \n",
    "            for f in files:\n",
    "                with open(f) as review:\n",
    "                    data[data_type][sentiment].append(review.read())\n",
    "                    # Here we represent a positive review by '1' and a negative review by '0'\n",
    "                    labels[data_type][sentiment].append(1 if sentiment == 'pos' else 0)\n",
    "                    \n",
    "            assert len(data[data_type][sentiment]) == len(labels[data_type][sentiment]), \\\n",
    "                    \"{}/{} data size does not match labels size\".format(data_type, sentiment)\n",
    "                \n",
    "    return data, labels"
   ]
  },
  {
   "cell_type": "code",
   "execution_count": 3,
   "metadata": {},
   "outputs": [
    {
     "name": "stdout",
     "output_type": "stream",
     "text": [
      "IMDB reviews: train = 12500 pos / 12500 neg, test = 12500 pos / 12500 neg\n"
     ]
    }
   ],
   "source": [
    "data, labels = read_imdb_data()\n",
    "print(\"IMDB reviews: train = {} pos / {} neg, test = {} pos / {} neg\".format(\n",
    "            len(data['train']['pos']), len(data['train']['neg']),\n",
    "            len(data['test']['pos']), len(data['test']['neg'])))"
   ]
  },
  {
   "cell_type": "code",
   "execution_count": 4,
   "metadata": {},
   "outputs": [],
   "source": [
    "from sklearn.utils import shuffle\n",
    "\n",
    "def prepare_imdb_data(data, labels):\n",
    "    \"\"\"Prepare training and test sets from IMDb movie reviews.\"\"\"\n",
    "    \n",
    "    #Combine positive and negative reviews and labels\n",
    "    data_train = data['train']['pos'] + data['train']['neg']\n",
    "    data_test = data['test']['pos'] + data['test']['neg']\n",
    "    labels_train = labels['train']['pos'] + labels['train']['neg']\n",
    "    labels_test = labels['test']['pos'] + labels['test']['neg']\n",
    "    \n",
    "    #Shuffle reviews and corresponding labels within training and test sets\n",
    "    data_train, labels_train = shuffle(data_train, labels_train)\n",
    "    data_test, labels_test = shuffle(data_test, labels_test)\n",
    "    \n",
    "    # Return a unified training data, test data, training labels, test labets\n",
    "    return data_train, data_test, labels_train, labels_test"
   ]
  },
  {
   "cell_type": "code",
   "execution_count": 5,
   "metadata": {},
   "outputs": [
    {
     "name": "stdout",
     "output_type": "stream",
     "text": [
      "IMDb reviews (combined): train = 25000, test = 25000\n"
     ]
    }
   ],
   "source": [
    "train_X, test_X, train_y, test_y = prepare_imdb_data(data, labels)\n",
    "print(\"IMDb reviews (combined): train = {}, test = {}\".format(len(train_X), len(test_X)))"
   ]
  },
  {
   "cell_type": "code",
   "execution_count": 6,
   "metadata": {},
   "outputs": [
    {
     "data": {
      "text/plain": [
       "\"Germans think smirking is funny (just like Americans think mumbling is sexy and that women with English accents are acting). I had to cross my eyes whenever the screen was filled yet again with a giant close-up of a smirking face. One of those 'housewife hacks corporate mainframe' tales where she defrauds a bank by tapping a few random keys on her home PC which is connected only to a power socket. The director obviously loves the rather large leading lady. Can't say I share his feelings. There's quite a funny bit when the entire family sit in front of the television chanting tonelessly along with the adverts. Apparently this review needs to be one line longer so here it is.\""
      ]
     },
     "execution_count": 6,
     "metadata": {},
     "output_type": "execute_result"
    }
   ],
   "source": [
    "train_X[100]"
   ]
  },
  {
   "cell_type": "markdown",
   "metadata": {},
   "source": [
    "## Processing the data\n",
    "\n",
    "Now that we have our training and testing datasets merged and ready to use, we need to start processing the raw data into something that will be useable by our machine learning algorithm. To begin with, we remove any html formatting and any non-alpha numeric characters that may appear in the reviews. We will do this in a very simplistic way using Python's regular expression module. We will discuss the reason for this rather simplistic pre-processing later on."
   ]
  },
  {
   "cell_type": "code",
   "execution_count": 7,
   "metadata": {},
   "outputs": [],
   "source": [
    "import re\n",
    "\n",
    "REPLACE_NO_SPACE = re.compile(\"(\\.)|(\\;)|(\\:)|(\\!)|(\\')|(\\?)|(\\,)|(\\\")|(\\()|(\\))|(\\[)|(\\])\")\n",
    "REPLACE_WITH_SPACE = re.compile(\"(<br\\s*/><br\\s*/>)|(\\-)|(\\/)\")\n",
    "\n",
    "def review_to_words(review):\n",
    "    words = REPLACE_NO_SPACE.sub(\"\", review.lower())\n",
    "    words = REPLACE_WITH_SPACE.sub(\" \", words)\n",
    "    return words"
   ]
  },
  {
   "cell_type": "code",
   "execution_count": 8,
   "metadata": {},
   "outputs": [
    {
     "data": {
      "text/plain": [
       "'germans think smirking is funny just like americans think mumbling is sexy and that women with english accents are acting i had to cross my eyes whenever the screen was filled yet again with a giant close up of a smirking face one of those housewife hacks corporate mainframe tales where she defrauds a bank by tapping a few random keys on her home pc which is connected only to a power socket the director obviously loves the rather large leading lady cant say i share his feelings theres quite a funny bit when the entire family sit in front of the television chanting tonelessly along with the adverts apparently this review needs to be one line longer so here it is'"
      ]
     },
     "execution_count": 8,
     "metadata": {},
     "output_type": "execute_result"
    }
   ],
   "source": [
    "review_to_words(train_X[100])"
   ]
  },
  {
   "cell_type": "code",
   "execution_count": 9,
   "metadata": {},
   "outputs": [],
   "source": [
    "import pickle\n",
    "\n",
    "cache_dir = os.path.join(\"../cache\", \"sentiment_web_app\")  # where to store cache files\n",
    "os.makedirs(cache_dir, exist_ok=True)  # ensure cache directory exists\n",
    "\n",
    "def preprocess_data(data_train, data_test, labels_train, labels_test,\n",
    "                    cache_dir=cache_dir, cache_file=\"preprocessed_data.pkl\"):\n",
    "    \"\"\"Convert each review to words; read from cache if available.\"\"\"\n",
    "\n",
    "    # If cache_file is not None, try to read from it first\n",
    "    cache_data = None\n",
    "    if cache_file is not None:\n",
    "        try:\n",
    "            with open(os.path.join(cache_dir, cache_file), \"rb\") as f:\n",
    "                cache_data = pickle.load(f)\n",
    "            print(\"Read preprocessed data from cache file:\", cache_file)\n",
    "        except:\n",
    "            pass  # unable to read from cache, but that's okay\n",
    "    \n",
    "    # If cache is missing, then do the heavy lifting\n",
    "    if cache_data is None:\n",
    "        # Preprocess training and test data to obtain words for each review\n",
    "        #words_train = list(map(review_to_words, data_train))\n",
    "        #words_test = list(map(review_to_words, data_test))\n",
    "        words_train = [review_to_words(review) for review in data_train]\n",
    "        words_test = [review_to_words(review) for review in data_test]\n",
    "        \n",
    "        # Write to cache file for future runs\n",
    "        if cache_file is not None:\n",
    "            cache_data = dict(words_train=words_train, words_test=words_test,\n",
    "                              labels_train=labels_train, labels_test=labels_test)\n",
    "            with open(os.path.join(cache_dir, cache_file), \"wb\") as f:\n",
    "                pickle.dump(cache_data, f)\n",
    "            print(\"Wrote preprocessed data to cache file:\", cache_file)\n",
    "    else:\n",
    "        # Unpack data loaded from cache file\n",
    "        words_train, words_test, labels_train, labels_test = (cache_data['words_train'],\n",
    "                cache_data['words_test'], cache_data['labels_train'], cache_data['labels_test'])\n",
    "    \n",
    "    return words_train, words_test, labels_train, labels_test"
   ]
  },
  {
   "cell_type": "code",
   "execution_count": 10,
   "metadata": {},
   "outputs": [
    {
     "name": "stdout",
     "output_type": "stream",
     "text": [
      "Wrote preprocessed data to cache file: preprocessed_data.pkl\n"
     ]
    }
   ],
   "source": [
    "# Preprocess data\n",
    "train_X, test_X, train_y, test_y = preprocess_data(train_X, test_X, train_y, test_y)"
   ]
  },
  {
   "cell_type": "markdown",
   "metadata": {},
   "source": [
    "### Extract Bag-of-Words features\n",
    "\n",
    "For the model we will be implementing, rather than using the reviews directly, we are going to transform each review into a Bag-of-Words feature representation. Keep in mind that 'in the wild' we will only have access to the training set so our transformer can only use the training set to construct a representation."
   ]
  },
  {
   "cell_type": "code",
   "execution_count": 13,
   "metadata": {},
   "outputs": [],
   "source": [
    "import numpy as np\n",
    "from sklearn.feature_extraction.text import CountVectorizer\n",
    "import joblib\n",
    "\n",
    "def extract_BoW_features(words_train, words_test, vocabulary_size=5000,\n",
    "                         cache_dir=cache_dir, cache_file=\"bow_features.pkl\"):\n",
    "    \"\"\"Extract Bag-of-Words for a given set of documents, already preprocessed into words.\"\"\"\n",
    "    \n",
    "    # If cache_file is not None, try to read from it first\n",
    "    cache_data = None\n",
    "    if cache_file is not None:\n",
    "        try:\n",
    "            with open(os.path.join(cache_dir, cache_file), \"rb\") as f:\n",
    "                cache_data = joblib.load(f)\n",
    "            print(\"Read features from cache file:\", cache_file)\n",
    "        except:\n",
    "            pass  # unable to read from cache, but that's okay\n",
    "    \n",
    "    # If cache is missing, then do the heavy lifting\n",
    "    if cache_data is None:\n",
    "        # Fit a vectorizer to training documents and use it to transform them\n",
    "        # NOTE: Training documents have already been preprocessed and tokenized into words;\n",
    "        #       pass in dummy functions to skip those steps, e.g. preprocessor=lambda x: x\n",
    "        vectorizer = CountVectorizer(max_features=vocabulary_size)\n",
    "        features_train = vectorizer.fit_transform(words_train).toarray()\n",
    "\n",
    "        # Apply the same vectorizer to transform the test documents (ignore unknown words)\n",
    "        features_test = vectorizer.transform(words_test).toarray()\n",
    "        \n",
    "        # NOTE: Remember to convert the features using .toarray() for a compact representation\n",
    "        \n",
    "        # Write to cache file for future runs (store vocabulary as well)\n",
    "        if cache_file is not None:\n",
    "            vocabulary = vectorizer.vocabulary_\n",
    "            cache_data = dict(features_train=features_train, features_test=features_test,\n",
    "                             vocabulary=vocabulary)\n",
    "            with open(os.path.join(cache_dir, cache_file), \"wb\") as f:\n",
    "                joblib.dump(cache_data, f)\n",
    "            print(\"Wrote features to cache file:\", cache_file)\n",
    "    else:\n",
    "        # Unpack data loaded from cache file\n",
    "        features_train, features_test, vocabulary = (cache_data['features_train'],\n",
    "                cache_data['features_test'], cache_data['vocabulary'])\n",
    "    \n",
    "    # Return both the extracted features as well as the vocabulary\n",
    "    return features_train, features_test, vocabulary"
   ]
  },
  {
   "cell_type": "code",
   "execution_count": 14,
   "metadata": {},
   "outputs": [
    {
     "name": "stdout",
     "output_type": "stream",
     "text": [
      "Wrote features to cache file: bow_features.pkl\n"
     ]
    }
   ],
   "source": [
    "# Extract Bag of Words features for both training and test datasets\n",
    "train_X, test_X, vocabulary = extract_BoW_features(train_X, test_X)"
   ]
  },
  {
   "cell_type": "code",
   "execution_count": 15,
   "metadata": {},
   "outputs": [
    {
     "data": {
      "text/plain": [
       "5000"
      ]
     },
     "execution_count": 15,
     "metadata": {},
     "output_type": "execute_result"
    }
   ],
   "source": [
    "len(train_X[100])"
   ]
  },
  {
   "cell_type": "markdown",
   "metadata": {},
   "source": [
    "## Step 3: Upload data to S3\n",
    "\n",
    "Now that we have created the feature representation of our training (and testing) data, it is time to start setting up and using the XGBoost classifier provided by SageMaker.\n",
    "\n",
    "### Writing the datasets\n",
    "\n",
    "The XGBoost classifier that we will be using requires the dataset to be written to a file and stored using Amazon S3. To do this, we will start by splitting the training dataset into two parts, the data we will train the model with and a validation set. Then, we will write those datasets to a file locally and then upload the files to S3. In addition, we will write the test set to a file and upload that file to S3. This is so that we can use SageMakers Batch Transform functionality to test our model once we've fit it."
   ]
  },
  {
   "cell_type": "code",
   "execution_count": 16,
   "metadata": {},
   "outputs": [],
   "source": [
    "import pandas as pd\n",
    "\n",
    "# Earlier we shuffled the training dataset so to make things simple we can just assign\n",
    "# the first 10 000 reviews to the validation set and use the remaining reviews for training.\n",
    "val_X = pd.DataFrame(train_X[:10000])\n",
    "train_X = pd.DataFrame(train_X[10000:])\n",
    "\n",
    "val_y = pd.DataFrame(train_y[:10000])\n",
    "train_y = pd.DataFrame(train_y[10000:])"
   ]
  },
  {
   "cell_type": "markdown",
   "metadata": {},
   "source": [
    "The documentation for the XGBoost algorithm in SageMaker requires that the training and validation datasets should contain no headers or index and that the label should occur first for each sample.\n",
    "\n",
    "For more information about this and other algorithms, the SageMaker developer documentation can be found on __[Amazon's website.](https://docs.aws.amazon.com/sagemaker/latest/dg/)__"
   ]
  },
  {
   "cell_type": "code",
   "execution_count": 17,
   "metadata": {},
   "outputs": [],
   "source": [
    "# First we make sure that the local directory in which we'd like to store the training and validation csv files exists.\n",
    "data_dir = '../data/sentiment_web_app'\n",
    "if not os.path.exists(data_dir):\n",
    "    os.makedirs(data_dir)"
   ]
  },
  {
   "cell_type": "code",
   "execution_count": 18,
   "metadata": {},
   "outputs": [],
   "source": [
    "pd.DataFrame(test_X).to_csv(os.path.join(data_dir, 'test.csv'), header=False, index=False)\n",
    "\n",
    "pd.concat([val_y, val_X], axis=1).to_csv(os.path.join(data_dir, 'validation.csv'), header=False, index=False)\n",
    "pd.concat([train_y, train_X], axis=1).to_csv(os.path.join(data_dir, 'train.csv'), header=False, index=False)"
   ]
  },
  {
   "cell_type": "code",
   "execution_count": 19,
   "metadata": {},
   "outputs": [],
   "source": [
    "# To save a bit of memory we can set text_X, train_X, val_X, train_y and val_y to None.\n",
    "\n",
    "test_X = train_X = val_X = train_y = val_y = None"
   ]
  },
  {
   "cell_type": "markdown",
   "metadata": {},
   "source": [
    "### Uploading Training / Validation files to S3\n",
    "\n",
    "Amazon's S3 service allows us to store files that can be accessed by both the built-in training models such as the XGBoost model we will be using as well as custom models such as the one we will see a little later.\n",
    "\n",
    "For this and most other tasks we will be doing using SageMaker, there are two methods we could use. The first is to use the low level functionality of SageMaker which requires knowing each of the objects involved in the SageMaker environment. The second is to use the high level functionality in which certain choices have been made on the user's behalf. The low level approach benefits from allowing the user a great deal of flexibility while the high level approach makes development much quicker. For our purposes we will opt to use the high level approach although using the low-level approach is certainly an option.\n",
    "\n",
    "Recall the method `upload_data()` which is a member of the object representing our current SageMaker session. What this method does is upload the data to the default bucket (which is created if it does not exist) into the path described by the key_prefix variable. To see this for yourself, once you have uploaded the data files, go to the S3 console and look to see where the files have been uploaded.\n",
    "\n",
    "For additional resources, see the __[SageMaker API documentation](http://sagemaker.readthedocs.io/en/latest/)__ and in addition the __[SageMaker Developer Guide.](https://docs.aws.amazon.com/sagemaker/latest/dg/)__"
   ]
  },
  {
   "cell_type": "code",
   "execution_count": 20,
   "metadata": {},
   "outputs": [],
   "source": [
    "import sagemaker\n",
    "\n",
    "session = sagemaker.Session() # Store the current SageMaker session\n",
    "\n",
    "# S3 prefix (which folder will we use)\n",
    "prefix = 'sentiment-web-app'\n",
    "\n",
    "test_location = session.upload_data(os.path.join(data_dir, 'test.csv'), key_prefix=prefix)\n",
    "val_location = session.upload_data(os.path.join(data_dir, 'validation.csv'), key_prefix=prefix)\n",
    "train_location = session.upload_data(os.path.join(data_dir, 'train.csv'), key_prefix=prefix)"
   ]
  },
  {
   "cell_type": "markdown",
   "metadata": {},
   "source": [
    "## Step 4: Creating the XGBoost model\n",
    "\n",
    "Now that the data has been uploaded it is time to create the XGBoost model. To begin with, we need to do some setup. At this point it is worth discussing what a model is in SageMaker. It is easiest to think of a model of comprising three different objects in the SageMaker ecosystem, which interact with one another.\n",
    "\n",
    "- Model Artifacts\n",
    "- Training Code (Container)\n",
    "- Inference Code (Container)\n",
    "\n",
    "The Model Artifacts are what you might think of as the actual model itself. For example, if you were building a neural network, the model artifacts would be the weights of the various layers. In our case, for an XGBoost model, the artifacts are the actual trees that are created during training.\n",
    "\n",
    "The other two objects, the training code and the inference code are then used to manipulate the training artifacts. More precisely, the training code uses the training data that is provided and creates the model artifacts, while the inference code uses the model artifacts to make predictions on new data.\n",
    "\n",
    "The way that SageMaker runs the training and inference code is by making use of Docker containers. For now, think of a container as being a way of packaging code up so that dependencies aren't an issue."
   ]
  },
  {
   "cell_type": "code",
   "execution_count": 21,
   "metadata": {},
   "outputs": [],
   "source": [
    "from sagemaker import get_execution_role\n",
    "\n",
    "# Our current execution role is required when creating the model as the training\n",
    "# and inference code will need to access the model artifacts.\n",
    "role = get_execution_role()"
   ]
  },
  {
   "cell_type": "code",
   "execution_count": 22,
   "metadata": {},
   "outputs": [
    {
     "name": "stderr",
     "output_type": "stream",
     "text": [
      "'get_image_uri' method will be deprecated in favor of 'ImageURIProvider' class in SageMaker Python SDK v2.\n",
      "There is a more up to date SageMaker XGBoost image. To use the newer image, please set 'repo_version'='1.0-1'. For example:\n",
      "\tget_image_uri(region, 'xgboost', '1.0-1').\n"
     ]
    }
   ],
   "source": [
    "# We need to retrieve the location of the container which is provided by Amazon for using XGBoost.\n",
    "# As a matter of convenience, the training and inference code both use the same container.\n",
    "from sagemaker.amazon.amazon_estimator import get_image_uri\n",
    "\n",
    "container = get_image_uri(session.boto_region_name, 'xgboost')"
   ]
  },
  {
   "cell_type": "code",
   "execution_count": 23,
   "metadata": {},
   "outputs": [
    {
     "name": "stderr",
     "output_type": "stream",
     "text": [
      "Parameter image_name will be renamed to image_uri in SageMaker Python SDK v2.\n"
     ]
    }
   ],
   "source": [
    "# First we create a SageMaker estimator object for our model.\n",
    "xgb = sagemaker.estimator.Estimator(container, # The location of the container we wish to use\n",
    "                                    role,                                    # What is our current IAM Role\n",
    "                                    train_instance_count=1,                  # How many compute instances\n",
    "                                    train_instance_type='ml.m4.xlarge',      # What kind of compute instances\n",
    "                                    output_path='s3://{}/{}/output'.format(session.default_bucket(), prefix),\n",
    "                                    sagemaker_session=session)\n",
    "\n",
    "# And then set the algorithm specific parameters.\n",
    "xgb.set_hyperparameters(max_depth=5,\n",
    "                        eta=0.2,\n",
    "                        gamma=4,\n",
    "                        min_child_weight=6,\n",
    "                        subsample=0.8,\n",
    "                        silent=0,\n",
    "                        objective='binary:logistic',\n",
    "                        early_stopping_rounds=10,\n",
    "                        num_round=500)"
   ]
  },
  {
   "cell_type": "markdown",
   "metadata": {},
   "source": [
    "### Fit the XGBoost model\n",
    "\n",
    "Now that our model has been set up we simply need to attach the training and validation datasets and then ask SageMaker to set up the computation."
   ]
  },
  {
   "cell_type": "code",
   "execution_count": 24,
   "metadata": {},
   "outputs": [
    {
     "name": "stderr",
     "output_type": "stream",
     "text": [
      "'s3_input' class will be renamed to 'TrainingInput' in SageMaker Python SDK v2.\n",
      "'s3_input' class will be renamed to 'TrainingInput' in SageMaker Python SDK v2.\n"
     ]
    }
   ],
   "source": [
    "s3_input_train = sagemaker.s3_input(s3_data=train_location, content_type='csv')\n",
    "s3_input_validation = sagemaker.s3_input(s3_data=val_location, content_type='csv')"
   ]
  },
  {
   "cell_type": "code",
   "execution_count": 25,
   "metadata": {},
   "outputs": [
    {
     "name": "stdout",
     "output_type": "stream",
     "text": [
      "2020-10-03 07:31:08 Starting - Starting the training job...\n",
      "2020-10-03 07:31:10 Starting - Launching requested ML instances...\n",
      "2020-10-03 07:32:08 Starting - Preparing the instances for training............\n",
      "2020-10-03 07:33:46 Downloading - Downloading input data...\n",
      "2020-10-03 07:34:37 Training - Training image download completed. Training in progress..\u001b[34mArguments: train\u001b[0m\n",
      "\u001b[34m[2020-10-03:07:34:38:INFO] Running standalone xgboost training.\u001b[0m\n",
      "\u001b[34m[2020-10-03:07:34:38:INFO] File size need to be processed in the node: 238.5mb. Available memory size in the node: 8490.68mb\u001b[0m\n",
      "\u001b[34m[2020-10-03:07:34:38:INFO] Determined delimiter of CSV input is ','\u001b[0m\n",
      "\u001b[34m[07:34:38] S3DistributionType set as FullyReplicated\u001b[0m\n",
      "\u001b[34m[07:34:40] 15000x5000 matrix with 75000000 entries loaded from /opt/ml/input/data/train?format=csv&label_column=0&delimiter=,\u001b[0m\n",
      "\u001b[34m[2020-10-03:07:34:40:INFO] Determined delimiter of CSV input is ','\u001b[0m\n",
      "\u001b[34m[07:34:40] S3DistributionType set as FullyReplicated\u001b[0m\n",
      "\u001b[34m[07:34:41] 10000x5000 matrix with 50000000 entries loaded from /opt/ml/input/data/validation?format=csv&label_column=0&delimiter=,\u001b[0m\n",
      "\u001b[34m[07:34:44] src/tree/updater_prune.cc:74: tree pruning end, 1 roots, 48 extra nodes, 0 pruned nodes, max_depth=5\u001b[0m\n",
      "\u001b[34m[0]#011train-error:0.306067#011validation-error:0.3054\u001b[0m\n",
      "\u001b[34mMultiple eval metrics have been passed: 'validation-error' will be used for early stopping.\n",
      "\u001b[0m\n",
      "\u001b[34mWill train until validation-error hasn't improved in 10 rounds.\u001b[0m\n",
      "\u001b[34m[07:34:45] src/tree/updater_prune.cc:74: tree pruning end, 1 roots, 38 extra nodes, 6 pruned nodes, max_depth=5\u001b[0m\n",
      "\u001b[34m[1]#011train-error:0.291667#011validation-error:0.2924\u001b[0m\n",
      "\u001b[34m[07:34:47] src/tree/updater_prune.cc:74: tree pruning end, 1 roots, 34 extra nodes, 6 pruned nodes, max_depth=5\u001b[0m\n",
      "\u001b[34m[2]#011train-error:0.281733#011validation-error:0.2832\u001b[0m\n",
      "\u001b[34m[07:34:48] src/tree/updater_prune.cc:74: tree pruning end, 1 roots, 42 extra nodes, 2 pruned nodes, max_depth=5\u001b[0m\n",
      "\u001b[34m[3]#011train-error:0.272933#011validation-error:0.2784\u001b[0m\n",
      "\u001b[34m[07:34:50] src/tree/updater_prune.cc:74: tree pruning end, 1 roots, 44 extra nodes, 4 pruned nodes, max_depth=5\u001b[0m\n",
      "\u001b[34m[4]#011train-error:0.2632#011validation-error:0.272\u001b[0m\n",
      "\u001b[34m[07:34:51] src/tree/updater_prune.cc:74: tree pruning end, 1 roots, 30 extra nodes, 12 pruned nodes, max_depth=5\u001b[0m\n",
      "\u001b[34m[5]#011train-error:0.2492#011validation-error:0.2622\u001b[0m\n",
      "\u001b[34m[07:34:52] src/tree/updater_prune.cc:74: tree pruning end, 1 roots, 32 extra nodes, 8 pruned nodes, max_depth=5\u001b[0m\n",
      "\u001b[34m[6]#011train-error:0.2462#011validation-error:0.2613\u001b[0m\n",
      "\u001b[34m[07:34:54] src/tree/updater_prune.cc:74: tree pruning end, 1 roots, 36 extra nodes, 0 pruned nodes, max_depth=5\u001b[0m\n",
      "\u001b[34m[7]#011train-error:0.239667#011validation-error:0.2537\u001b[0m\n",
      "\u001b[34m[07:34:55] src/tree/updater_prune.cc:74: tree pruning end, 1 roots, 30 extra nodes, 8 pruned nodes, max_depth=5\u001b[0m\n",
      "\u001b[34m[8]#011train-error:0.232#011validation-error:0.2441\u001b[0m\n",
      "\u001b[34m[07:34:56] src/tree/updater_prune.cc:74: tree pruning end, 1 roots, 28 extra nodes, 16 pruned nodes, max_depth=5\u001b[0m\n",
      "\u001b[34m[9]#011train-error:0.226933#011validation-error:0.2435\u001b[0m\n",
      "\u001b[34m[07:34:58] src/tree/updater_prune.cc:74: tree pruning end, 1 roots, 30 extra nodes, 6 pruned nodes, max_depth=5\u001b[0m\n",
      "\u001b[34m[10]#011train-error:0.224067#011validation-error:0.2395\u001b[0m\n",
      "\u001b[34m[07:34:59] src/tree/updater_prune.cc:74: tree pruning end, 1 roots, 50 extra nodes, 2 pruned nodes, max_depth=5\u001b[0m\n",
      "\u001b[34m[11]#011train-error:0.2172#011validation-error:0.2324\u001b[0m\n",
      "\u001b[34m[07:35:00] src/tree/updater_prune.cc:74: tree pruning end, 1 roots, 28 extra nodes, 2 pruned nodes, max_depth=5\u001b[0m\n",
      "\u001b[34m[12]#011train-error:0.2136#011validation-error:0.229\u001b[0m\n",
      "\u001b[34m[07:35:01] src/tree/updater_prune.cc:74: tree pruning end, 1 roots, 32 extra nodes, 6 pruned nodes, max_depth=5\u001b[0m\n",
      "\u001b[34m[13]#011train-error:0.210467#011validation-error:0.2246\u001b[0m\n",
      "\u001b[34m[07:35:03] src/tree/updater_prune.cc:74: tree pruning end, 1 roots, 34 extra nodes, 12 pruned nodes, max_depth=5\u001b[0m\n",
      "\u001b[34m[14]#011train-error:0.206467#011validation-error:0.2262\u001b[0m\n",
      "\u001b[34m[07:35:04] src/tree/updater_prune.cc:74: tree pruning end, 1 roots, 32 extra nodes, 12 pruned nodes, max_depth=5\u001b[0m\n",
      "\u001b[34m[15]#011train-error:0.201533#011validation-error:0.2207\u001b[0m\n",
      "\u001b[34m[07:35:05] src/tree/updater_prune.cc:74: tree pruning end, 1 roots, 26 extra nodes, 8 pruned nodes, max_depth=5\u001b[0m\n",
      "\u001b[34m[16]#011train-error:0.1998#011validation-error:0.219\u001b[0m\n",
      "\u001b[34m[07:35:06] src/tree/updater_prune.cc:74: tree pruning end, 1 roots, 32 extra nodes, 4 pruned nodes, max_depth=5\u001b[0m\n",
      "\u001b[34m[17]#011train-error:0.195133#011validation-error:0.2165\u001b[0m\n",
      "\u001b[34m[07:35:08] src/tree/updater_prune.cc:74: tree pruning end, 1 roots, 26 extra nodes, 8 pruned nodes, max_depth=5\u001b[0m\n",
      "\u001b[34m[18]#011train-error:0.193467#011validation-error:0.2148\u001b[0m\n",
      "\u001b[34m[07:35:09] src/tree/updater_prune.cc:74: tree pruning end, 1 roots, 26 extra nodes, 6 pruned nodes, max_depth=5\u001b[0m\n",
      "\u001b[34m[19]#011train-error:0.191133#011validation-error:0.2116\u001b[0m\n",
      "\u001b[34m[07:35:10] src/tree/updater_prune.cc:74: tree pruning end, 1 roots, 32 extra nodes, 2 pruned nodes, max_depth=5\u001b[0m\n",
      "\u001b[34m[20]#011train-error:0.1896#011validation-error:0.2098\u001b[0m\n",
      "\u001b[34m[07:35:12] src/tree/updater_prune.cc:74: tree pruning end, 1 roots, 24 extra nodes, 8 pruned nodes, max_depth=5\u001b[0m\n",
      "\u001b[34m[21]#011train-error:0.186867#011validation-error:0.2072\u001b[0m\n",
      "\u001b[34m[07:35:13] src/tree/updater_prune.cc:74: tree pruning end, 1 roots, 38 extra nodes, 2 pruned nodes, max_depth=5\u001b[0m\n",
      "\u001b[34m[22]#011train-error:0.181067#011validation-error:0.2048\u001b[0m\n",
      "\u001b[34m[07:35:14] src/tree/updater_prune.cc:74: tree pruning end, 1 roots, 20 extra nodes, 14 pruned nodes, max_depth=5\u001b[0m\n",
      "\u001b[34m[23]#011train-error:0.179533#011validation-error:0.2042\u001b[0m\n",
      "\u001b[34m[07:35:16] src/tree/updater_prune.cc:74: tree pruning end, 1 roots, 28 extra nodes, 8 pruned nodes, max_depth=5\u001b[0m\n",
      "\u001b[34m[24]#011train-error:0.178667#011validation-error:0.2019\u001b[0m\n",
      "\u001b[34m[07:35:17] src/tree/updater_prune.cc:74: tree pruning end, 1 roots, 34 extra nodes, 8 pruned nodes, max_depth=5\u001b[0m\n",
      "\u001b[34m[25]#011train-error:0.177#011validation-error:0.2005\u001b[0m\n",
      "\u001b[34m[07:35:18] src/tree/updater_prune.cc:74: tree pruning end, 1 roots, 20 extra nodes, 10 pruned nodes, max_depth=5\u001b[0m\n",
      "\u001b[34m[26]#011train-error:0.174667#011validation-error:0.1988\u001b[0m\n",
      "\u001b[34m[07:35:19] src/tree/updater_prune.cc:74: tree pruning end, 1 roots, 28 extra nodes, 8 pruned nodes, max_depth=5\u001b[0m\n",
      "\u001b[34m[27]#011train-error:0.172333#011validation-error:0.1977\u001b[0m\n",
      "\u001b[34m[07:35:21] src/tree/updater_prune.cc:74: tree pruning end, 1 roots, 32 extra nodes, 6 pruned nodes, max_depth=5\u001b[0m\n",
      "\u001b[34m[28]#011train-error:0.170133#011validation-error:0.1952\u001b[0m\n",
      "\u001b[34m[07:35:22] src/tree/updater_prune.cc:74: tree pruning end, 1 roots, 26 extra nodes, 12 pruned nodes, max_depth=5\u001b[0m\n",
      "\u001b[34m[29]#011train-error:0.1676#011validation-error:0.1936\u001b[0m\n",
      "\u001b[34m[07:35:23] src/tree/updater_prune.cc:74: tree pruning end, 1 roots, 24 extra nodes, 10 pruned nodes, max_depth=5\u001b[0m\n",
      "\u001b[34m[30]#011train-error:0.1664#011validation-error:0.1935\u001b[0m\n",
      "\u001b[34m[07:35:24] src/tree/updater_prune.cc:74: tree pruning end, 1 roots, 32 extra nodes, 14 pruned nodes, max_depth=5\u001b[0m\n",
      "\u001b[34m[31]#011train-error:0.1632#011validation-error:0.191\u001b[0m\n",
      "\u001b[34m[07:35:26] src/tree/updater_prune.cc:74: tree pruning end, 1 roots, 16 extra nodes, 8 pruned nodes, max_depth=5\u001b[0m\n",
      "\u001b[34m[32]#011train-error:0.162467#011validation-error:0.1918\u001b[0m\n",
      "\u001b[34m[07:35:27] src/tree/updater_prune.cc:74: tree pruning end, 1 roots, 32 extra nodes, 12 pruned nodes, max_depth=5\u001b[0m\n",
      "\u001b[34m[33]#011train-error:0.161#011validation-error:0.1899\u001b[0m\n",
      "\u001b[34m[07:35:28] src/tree/updater_prune.cc:74: tree pruning end, 1 roots, 22 extra nodes, 8 pruned nodes, max_depth=5\u001b[0m\n",
      "\u001b[34m[34]#011train-error:0.1596#011validation-error:0.1897\u001b[0m\n",
      "\u001b[34m[07:35:30] src/tree/updater_prune.cc:74: tree pruning end, 1 roots, 32 extra nodes, 6 pruned nodes, max_depth=5\u001b[0m\n",
      "\u001b[34m[35]#011train-error:0.157667#011validation-error:0.1871\u001b[0m\n",
      "\u001b[34m[07:35:31] src/tree/updater_prune.cc:74: tree pruning end, 1 roots, 12 extra nodes, 10 pruned nodes, max_depth=5\u001b[0m\n",
      "\u001b[34m[36]#011train-error:0.156733#011validation-error:0.1858\u001b[0m\n",
      "\u001b[34m[07:35:32] src/tree/updater_prune.cc:74: tree pruning end, 1 roots, 18 extra nodes, 8 pruned nodes, max_depth=5\u001b[0m\n",
      "\u001b[34m[37]#011train-error:0.155267#011validation-error:0.1842\u001b[0m\n",
      "\u001b[34m[07:35:33] src/tree/updater_prune.cc:74: tree pruning end, 1 roots, 38 extra nodes, 8 pruned nodes, max_depth=5\u001b[0m\n",
      "\u001b[34m[38]#011train-error:0.1546#011validation-error:0.1838\u001b[0m\n",
      "\u001b[34m[07:35:35] src/tree/updater_prune.cc:74: tree pruning end, 1 roots, 26 extra nodes, 12 pruned nodes, max_depth=5\u001b[0m\n",
      "\u001b[34m[39]#011train-error:0.1514#011validation-error:0.1833\u001b[0m\n"
     ]
    },
    {
     "name": "stdout",
     "output_type": "stream",
     "text": [
      "\u001b[34m[07:35:36] src/tree/updater_prune.cc:74: tree pruning end, 1 roots, 36 extra nodes, 8 pruned nodes, max_depth=5\u001b[0m\n",
      "\u001b[34m[40]#011train-error:0.149667#011validation-error:0.1833\u001b[0m\n",
      "\u001b[34m[07:35:37] src/tree/updater_prune.cc:74: tree pruning end, 1 roots, 16 extra nodes, 16 pruned nodes, max_depth=5\u001b[0m\n",
      "\u001b[34m[41]#011train-error:0.148533#011validation-error:0.1827\u001b[0m\n",
      "\u001b[34m[07:35:38] src/tree/updater_prune.cc:74: tree pruning end, 1 roots, 30 extra nodes, 14 pruned nodes, max_depth=5\u001b[0m\n",
      "\u001b[34m[42]#011train-error:0.147933#011validation-error:0.1815\u001b[0m\n",
      "\u001b[34m[07:35:40] src/tree/updater_prune.cc:74: tree pruning end, 1 roots, 20 extra nodes, 14 pruned nodes, max_depth=5\u001b[0m\n",
      "\u001b[34m[43]#011train-error:0.1464#011validation-error:0.18\u001b[0m\n",
      "\u001b[34m[07:35:41] src/tree/updater_prune.cc:74: tree pruning end, 1 roots, 16 extra nodes, 8 pruned nodes, max_depth=5\u001b[0m\n",
      "\u001b[34m[44]#011train-error:0.145667#011validation-error:0.1787\u001b[0m\n",
      "\u001b[34m[07:35:42] src/tree/updater_prune.cc:74: tree pruning end, 1 roots, 26 extra nodes, 8 pruned nodes, max_depth=5\u001b[0m\n",
      "\u001b[34m[45]#011train-error:0.144067#011validation-error:0.1784\u001b[0m\n",
      "\u001b[34m[07:35:44] src/tree/updater_prune.cc:74: tree pruning end, 1 roots, 28 extra nodes, 6 pruned nodes, max_depth=5\u001b[0m\n",
      "\u001b[34m[46]#011train-error:0.142533#011validation-error:0.1776\u001b[0m\n",
      "\u001b[34m[07:35:45] src/tree/updater_prune.cc:74: tree pruning end, 1 roots, 26 extra nodes, 8 pruned nodes, max_depth=5\u001b[0m\n",
      "\u001b[34m[47]#011train-error:0.141667#011validation-error:0.1774\u001b[0m\n",
      "\u001b[34m[07:35:46] src/tree/updater_prune.cc:74: tree pruning end, 1 roots, 26 extra nodes, 10 pruned nodes, max_depth=5\u001b[0m\n",
      "\u001b[34m[48]#011train-error:0.141067#011validation-error:0.1768\u001b[0m\n",
      "\u001b[34m[07:35:47] src/tree/updater_prune.cc:74: tree pruning end, 1 roots, 24 extra nodes, 8 pruned nodes, max_depth=5\u001b[0m\n",
      "\u001b[34m[49]#011train-error:0.1394#011validation-error:0.1754\u001b[0m\n",
      "\u001b[34m[07:35:49] src/tree/updater_prune.cc:74: tree pruning end, 1 roots, 24 extra nodes, 4 pruned nodes, max_depth=5\u001b[0m\n",
      "\u001b[34m[50]#011train-error:0.1392#011validation-error:0.1744\u001b[0m\n",
      "\u001b[34m[07:35:50] src/tree/updater_prune.cc:74: tree pruning end, 1 roots, 22 extra nodes, 12 pruned nodes, max_depth=5\u001b[0m\n",
      "\u001b[34m[51]#011train-error:0.138133#011validation-error:0.1743\u001b[0m\n",
      "\u001b[34m[07:35:51] src/tree/updater_prune.cc:74: tree pruning end, 1 roots, 28 extra nodes, 10 pruned nodes, max_depth=5\u001b[0m\n",
      "\u001b[34m[52]#011train-error:0.1368#011validation-error:0.1745\u001b[0m\n",
      "\u001b[34m[07:35:52] src/tree/updater_prune.cc:74: tree pruning end, 1 roots, 24 extra nodes, 8 pruned nodes, max_depth=5\u001b[0m\n",
      "\u001b[34m[53]#011train-error:0.135533#011validation-error:0.1753\u001b[0m\n",
      "\u001b[34m[07:35:54] src/tree/updater_prune.cc:74: tree pruning end, 1 roots, 12 extra nodes, 8 pruned nodes, max_depth=5\u001b[0m\n",
      "\u001b[34m[54]#011train-error:0.1346#011validation-error:0.175\u001b[0m\n",
      "\u001b[34m[07:35:55] src/tree/updater_prune.cc:74: tree pruning end, 1 roots, 24 extra nodes, 10 pruned nodes, max_depth=5\u001b[0m\n",
      "\u001b[34m[55]#011train-error:0.133333#011validation-error:0.1742\u001b[0m\n",
      "\u001b[34m[07:35:56] src/tree/updater_prune.cc:74: tree pruning end, 1 roots, 20 extra nodes, 10 pruned nodes, max_depth=5\u001b[0m\n",
      "\u001b[34m[56]#011train-error:0.132267#011validation-error:0.1735\u001b[0m\n",
      "\u001b[34m[07:35:57] src/tree/updater_prune.cc:74: tree pruning end, 1 roots, 26 extra nodes, 8 pruned nodes, max_depth=5\u001b[0m\n",
      "\u001b[34m[57]#011train-error:0.1308#011validation-error:0.1728\u001b[0m\n",
      "\u001b[34m[07:35:59] src/tree/updater_prune.cc:74: tree pruning end, 1 roots, 12 extra nodes, 10 pruned nodes, max_depth=5\u001b[0m\n",
      "\u001b[34m[58]#011train-error:0.130667#011validation-error:0.172\u001b[0m\n",
      "\u001b[34m[07:36:00] src/tree/updater_prune.cc:74: tree pruning end, 1 roots, 24 extra nodes, 4 pruned nodes, max_depth=5\u001b[0m\n",
      "\u001b[34m[59]#011train-error:0.129867#011validation-error:0.1723\u001b[0m\n",
      "\u001b[34m[07:36:01] src/tree/updater_prune.cc:74: tree pruning end, 1 roots, 24 extra nodes, 16 pruned nodes, max_depth=5\u001b[0m\n",
      "\u001b[34m[60]#011train-error:0.129667#011validation-error:0.1702\u001b[0m\n",
      "\u001b[34m[07:36:03] src/tree/updater_prune.cc:74: tree pruning end, 1 roots, 34 extra nodes, 4 pruned nodes, max_depth=5\u001b[0m\n",
      "\u001b[34m[61]#011train-error:0.128133#011validation-error:0.1697\u001b[0m\n",
      "\u001b[34m[07:36:04] src/tree/updater_prune.cc:74: tree pruning end, 1 roots, 14 extra nodes, 10 pruned nodes, max_depth=5\u001b[0m\n",
      "\u001b[34m[62]#011train-error:0.1274#011validation-error:0.1693\u001b[0m\n",
      "\u001b[34m[07:36:05] src/tree/updater_prune.cc:74: tree pruning end, 1 roots, 24 extra nodes, 12 pruned nodes, max_depth=5\u001b[0m\n",
      "\u001b[34m[63]#011train-error:0.127333#011validation-error:0.1686\u001b[0m\n",
      "\u001b[34m[07:36:06] src/tree/updater_prune.cc:74: tree pruning end, 1 roots, 22 extra nodes, 2 pruned nodes, max_depth=5\u001b[0m\n",
      "\u001b[34m[64]#011train-error:0.125667#011validation-error:0.1678\u001b[0m\n",
      "\u001b[34m[07:36:08] src/tree/updater_prune.cc:74: tree pruning end, 1 roots, 24 extra nodes, 8 pruned nodes, max_depth=5\u001b[0m\n",
      "\u001b[34m[65]#011train-error:0.124067#011validation-error:0.1677\u001b[0m\n",
      "\u001b[34m[07:36:09] src/tree/updater_prune.cc:74: tree pruning end, 1 roots, 34 extra nodes, 8 pruned nodes, max_depth=5\u001b[0m\n",
      "\u001b[34m[66]#011train-error:0.1236#011validation-error:0.1672\u001b[0m\n",
      "\u001b[34m[07:36:10] src/tree/updater_prune.cc:74: tree pruning end, 1 roots, 34 extra nodes, 6 pruned nodes, max_depth=5\u001b[0m\n",
      "\u001b[34m[67]#011train-error:0.124067#011validation-error:0.167\u001b[0m\n",
      "\u001b[34m[07:36:11] src/tree/updater_prune.cc:74: tree pruning end, 1 roots, 34 extra nodes, 8 pruned nodes, max_depth=5\u001b[0m\n",
      "\u001b[34m[68]#011train-error:0.123267#011validation-error:0.1659\u001b[0m\n",
      "\u001b[34m[07:36:13] src/tree/updater_prune.cc:74: tree pruning end, 1 roots, 16 extra nodes, 10 pruned nodes, max_depth=5\u001b[0m\n",
      "\u001b[34m[69]#011train-error:0.122733#011validation-error:0.1659\u001b[0m\n",
      "\u001b[34m[07:36:14] src/tree/updater_prune.cc:74: tree pruning end, 1 roots, 36 extra nodes, 6 pruned nodes, max_depth=5\u001b[0m\n",
      "\u001b[34m[70]#011train-error:0.1214#011validation-error:0.1654\u001b[0m\n",
      "\u001b[34m[07:36:15] src/tree/updater_prune.cc:74: tree pruning end, 1 roots, 14 extra nodes, 8 pruned nodes, max_depth=5\u001b[0m\n",
      "\u001b[34m[71]#011train-error:0.121067#011validation-error:0.1652\u001b[0m\n",
      "\u001b[34m[07:36:17] src/tree/updater_prune.cc:74: tree pruning end, 1 roots, 24 extra nodes, 8 pruned nodes, max_depth=5\u001b[0m\n",
      "\u001b[34m[72]#011train-error:0.1196#011validation-error:0.1656\u001b[0m\n",
      "\u001b[34m[07:36:18] src/tree/updater_prune.cc:74: tree pruning end, 1 roots, 28 extra nodes, 12 pruned nodes, max_depth=5\u001b[0m\n",
      "\u001b[34m[73]#011train-error:0.117667#011validation-error:0.1658\u001b[0m\n",
      "\u001b[34m[07:36:19] src/tree/updater_prune.cc:74: tree pruning end, 1 roots, 38 extra nodes, 12 pruned nodes, max_depth=5\u001b[0m\n",
      "\u001b[34m[74]#011train-error:0.1178#011validation-error:0.1641\u001b[0m\n",
      "\u001b[34m[07:36:20] src/tree/updater_prune.cc:74: tree pruning end, 1 roots, 28 extra nodes, 10 pruned nodes, max_depth=5\u001b[0m\n",
      "\u001b[34m[75]#011train-error:0.1174#011validation-error:0.1645\u001b[0m\n",
      "\u001b[34m[07:36:22] src/tree/updater_prune.cc:74: tree pruning end, 1 roots, 16 extra nodes, 4 pruned nodes, max_depth=5\u001b[0m\n",
      "\u001b[34m[76]#011train-error:0.116333#011validation-error:0.1649\u001b[0m\n",
      "\u001b[34m[07:36:23] src/tree/updater_prune.cc:74: tree pruning end, 1 roots, 16 extra nodes, 0 pruned nodes, max_depth=5\u001b[0m\n",
      "\u001b[34m[77]#011train-error:0.1158#011validation-error:0.1642\u001b[0m\n",
      "\u001b[34m[07:36:24] src/tree/updater_prune.cc:74: tree pruning end, 1 roots, 14 extra nodes, 14 pruned nodes, max_depth=5\u001b[0m\n",
      "\u001b[34m[78]#011train-error:0.114867#011validation-error:0.164\u001b[0m\n",
      "\u001b[34m[07:36:25] src/tree/updater_prune.cc:74: tree pruning end, 1 roots, 18 extra nodes, 10 pruned nodes, max_depth=5\u001b[0m\n",
      "\u001b[34m[79]#011train-error:0.114133#011validation-error:0.1621\u001b[0m\n",
      "\u001b[34m[07:36:27] src/tree/updater_prune.cc:74: tree pruning end, 1 roots, 10 extra nodes, 4 pruned nodes, max_depth=5\u001b[0m\n",
      "\u001b[34m[80]#011train-error:0.114133#011validation-error:0.1622\u001b[0m\n",
      "\u001b[34m[07:36:28] src/tree/updater_prune.cc:74: tree pruning end, 1 roots, 18 extra nodes, 10 pruned nodes, max_depth=5\u001b[0m\n",
      "\u001b[34m[81]#011train-error:0.112933#011validation-error:0.1614\u001b[0m\n",
      "\u001b[34m[07:36:29] src/tree/updater_prune.cc:74: tree pruning end, 1 roots, 26 extra nodes, 12 pruned nodes, max_depth=5\u001b[0m\n",
      "\u001b[34m[82]#011train-error:0.112067#011validation-error:0.16\u001b[0m\n",
      "\u001b[34m[07:36:31] src/tree/updater_prune.cc:74: tree pruning end, 1 roots, 16 extra nodes, 4 pruned nodes, max_depth=5\u001b[0m\n",
      "\u001b[34m[83]#011train-error:0.111267#011validation-error:0.16\u001b[0m\n",
      "\u001b[34m[07:36:32] src/tree/updater_prune.cc:74: tree pruning end, 1 roots, 26 extra nodes, 6 pruned nodes, max_depth=5\u001b[0m\n",
      "\u001b[34m[84]#011train-error:0.111#011validation-error:0.1602\u001b[0m\n",
      "\u001b[34m[07:36:33] src/tree/updater_prune.cc:74: tree pruning end, 1 roots, 18 extra nodes, 10 pruned nodes, max_depth=5\u001b[0m\n",
      "\u001b[34m[85]#011train-error:0.110133#011validation-error:0.1596\u001b[0m\n",
      "\u001b[34m[07:36:34] src/tree/updater_prune.cc:74: tree pruning end, 1 roots, 16 extra nodes, 4 pruned nodes, max_depth=5\u001b[0m\n",
      "\u001b[34m[86]#011train-error:0.1098#011validation-error:0.1599\u001b[0m\n",
      "\u001b[34m[07:36:36] src/tree/updater_prune.cc:74: tree pruning end, 1 roots, 14 extra nodes, 10 pruned nodes, max_depth=5\u001b[0m\n",
      "\u001b[34m[87]#011train-error:0.109467#011validation-error:0.1597\u001b[0m\n"
     ]
    },
    {
     "name": "stdout",
     "output_type": "stream",
     "text": [
      "\u001b[34m[07:36:37] src/tree/updater_prune.cc:74: tree pruning end, 1 roots, 22 extra nodes, 2 pruned nodes, max_depth=5\u001b[0m\n",
      "\u001b[34m[88]#011train-error:0.109467#011validation-error:0.1587\u001b[0m\n",
      "\u001b[34m[07:36:38] src/tree/updater_prune.cc:74: tree pruning end, 1 roots, 18 extra nodes, 14 pruned nodes, max_depth=5\u001b[0m\n",
      "\u001b[34m[89]#011train-error:0.109#011validation-error:0.1583\u001b[0m\n",
      "\u001b[34m[07:36:39] src/tree/updater_prune.cc:74: tree pruning end, 1 roots, 24 extra nodes, 6 pruned nodes, max_depth=5\u001b[0m\n",
      "\u001b[34m[90]#011train-error:0.107667#011validation-error:0.1588\u001b[0m\n",
      "\u001b[34m[07:36:41] src/tree/updater_prune.cc:74: tree pruning end, 1 roots, 16 extra nodes, 8 pruned nodes, max_depth=5\u001b[0m\n",
      "\u001b[34m[91]#011train-error:0.1068#011validation-error:0.1587\u001b[0m\n",
      "\u001b[34m[07:36:42] src/tree/updater_prune.cc:74: tree pruning end, 1 roots, 20 extra nodes, 8 pruned nodes, max_depth=5\u001b[0m\n",
      "\u001b[34m[92]#011train-error:0.106333#011validation-error:0.1582\u001b[0m\n",
      "\u001b[34m[07:36:43] src/tree/updater_prune.cc:74: tree pruning end, 1 roots, 18 extra nodes, 2 pruned nodes, max_depth=5\u001b[0m\n",
      "\u001b[34m[93]#011train-error:0.1054#011validation-error:0.1571\u001b[0m\n",
      "\u001b[34m[07:36:45] src/tree/updater_prune.cc:74: tree pruning end, 1 roots, 10 extra nodes, 6 pruned nodes, max_depth=5\u001b[0m\n",
      "\u001b[34m[94]#011train-error:0.1046#011validation-error:0.1565\u001b[0m\n",
      "\u001b[34m[07:36:46] src/tree/updater_prune.cc:74: tree pruning end, 1 roots, 16 extra nodes, 4 pruned nodes, max_depth=5\u001b[0m\n",
      "\u001b[34m[95]#011train-error:0.103933#011validation-error:0.1561\u001b[0m\n",
      "\u001b[34m[07:36:47] src/tree/updater_prune.cc:74: tree pruning end, 1 roots, 20 extra nodes, 4 pruned nodes, max_depth=5\u001b[0m\n",
      "\u001b[34m[96]#011train-error:0.1036#011validation-error:0.1563\u001b[0m\n",
      "\u001b[34m[07:36:48] src/tree/updater_prune.cc:74: tree pruning end, 1 roots, 12 extra nodes, 6 pruned nodes, max_depth=5\u001b[0m\n",
      "\u001b[34m[97]#011train-error:0.103#011validation-error:0.1563\u001b[0m\n",
      "\u001b[34m[07:36:50] src/tree/updater_prune.cc:74: tree pruning end, 1 roots, 24 extra nodes, 18 pruned nodes, max_depth=5\u001b[0m\n",
      "\u001b[34m[98]#011train-error:0.102533#011validation-error:0.1554\u001b[0m\n",
      "\u001b[34m[07:36:51] src/tree/updater_prune.cc:74: tree pruning end, 1 roots, 22 extra nodes, 10 pruned nodes, max_depth=5\u001b[0m\n",
      "\u001b[34m[99]#011train-error:0.1024#011validation-error:0.1539\u001b[0m\n",
      "\u001b[34m[07:36:52] src/tree/updater_prune.cc:74: tree pruning end, 1 roots, 12 extra nodes, 4 pruned nodes, max_depth=5\u001b[0m\n",
      "\u001b[34m[100]#011train-error:0.102333#011validation-error:0.1534\u001b[0m\n",
      "\u001b[34m[07:36:53] src/tree/updater_prune.cc:74: tree pruning end, 1 roots, 12 extra nodes, 8 pruned nodes, max_depth=5\u001b[0m\n",
      "\u001b[34m[101]#011train-error:0.101467#011validation-error:0.153\u001b[0m\n",
      "\u001b[34m[07:36:55] src/tree/updater_prune.cc:74: tree pruning end, 1 roots, 16 extra nodes, 10 pruned nodes, max_depth=5\u001b[0m\n",
      "\u001b[34m[102]#011train-error:0.1012#011validation-error:0.1528\u001b[0m\n",
      "\u001b[34m[07:36:56] src/tree/updater_prune.cc:74: tree pruning end, 1 roots, 26 extra nodes, 10 pruned nodes, max_depth=5\u001b[0m\n",
      "\u001b[34m[103]#011train-error:0.0996#011validation-error:0.1516\u001b[0m\n",
      "\u001b[34m[07:36:57] src/tree/updater_prune.cc:74: tree pruning end, 1 roots, 16 extra nodes, 6 pruned nodes, max_depth=5\u001b[0m\n",
      "\u001b[34m[104]#011train-error:0.099333#011validation-error:0.1524\u001b[0m\n",
      "\u001b[34m[07:36:58] src/tree/updater_prune.cc:74: tree pruning end, 1 roots, 20 extra nodes, 6 pruned nodes, max_depth=5\u001b[0m\n",
      "\u001b[34m[105]#011train-error:0.099#011validation-error:0.1519\u001b[0m\n",
      "\u001b[34m[07:37:00] src/tree/updater_prune.cc:74: tree pruning end, 1 roots, 32 extra nodes, 16 pruned nodes, max_depth=5\u001b[0m\n",
      "\u001b[34m[106]#011train-error:0.0988#011validation-error:0.1511\u001b[0m\n",
      "\u001b[34m[07:37:01] src/tree/updater_prune.cc:74: tree pruning end, 1 roots, 12 extra nodes, 10 pruned nodes, max_depth=5\u001b[0m\n",
      "\u001b[34m[107]#011train-error:0.098467#011validation-error:0.1509\u001b[0m\n",
      "\u001b[34m[07:37:02] src/tree/updater_prune.cc:74: tree pruning end, 1 roots, 16 extra nodes, 10 pruned nodes, max_depth=5\u001b[0m\n",
      "\u001b[34m[108]#011train-error:0.098267#011validation-error:0.1514\u001b[0m\n",
      "\u001b[34m[07:37:03] src/tree/updater_prune.cc:74: tree pruning end, 1 roots, 16 extra nodes, 6 pruned nodes, max_depth=5\u001b[0m\n",
      "\u001b[34m[109]#011train-error:0.098#011validation-error:0.151\u001b[0m\n",
      "\u001b[34m[07:37:05] src/tree/updater_prune.cc:74: tree pruning end, 1 roots, 18 extra nodes, 8 pruned nodes, max_depth=5\u001b[0m\n",
      "\u001b[34m[110]#011train-error:0.097267#011validation-error:0.1521\u001b[0m\n",
      "\u001b[34m[07:37:06] src/tree/updater_prune.cc:74: tree pruning end, 1 roots, 16 extra nodes, 6 pruned nodes, max_depth=5\u001b[0m\n",
      "\u001b[34m[111]#011train-error:0.096733#011validation-error:0.1519\u001b[0m\n",
      "\u001b[34m[07:37:07] src/tree/updater_prune.cc:74: tree pruning end, 1 roots, 12 extra nodes, 6 pruned nodes, max_depth=5\u001b[0m\n",
      "\u001b[34m[112]#011train-error:0.0968#011validation-error:0.1509\u001b[0m\n",
      "\u001b[34m[07:37:09] src/tree/updater_prune.cc:74: tree pruning end, 1 roots, 14 extra nodes, 14 pruned nodes, max_depth=5\u001b[0m\n",
      "\u001b[34m[113]#011train-error:0.096333#011validation-error:0.1515\u001b[0m\n",
      "\u001b[34m[07:37:10] src/tree/updater_prune.cc:74: tree pruning end, 1 roots, 18 extra nodes, 2 pruned nodes, max_depth=5\u001b[0m\n",
      "\u001b[34m[114]#011train-error:0.096333#011validation-error:0.151\u001b[0m\n",
      "\u001b[34m[07:37:11] src/tree/updater_prune.cc:74: tree pruning end, 1 roots, 20 extra nodes, 12 pruned nodes, max_depth=5\u001b[0m\n",
      "\u001b[34m[115]#011train-error:0.094867#011validation-error:0.1504\u001b[0m\n",
      "\u001b[34m[07:37:12] src/tree/updater_prune.cc:74: tree pruning end, 1 roots, 10 extra nodes, 6 pruned nodes, max_depth=5\u001b[0m\n",
      "\u001b[34m[116]#011train-error:0.095133#011validation-error:0.1504\u001b[0m\n",
      "\u001b[34m[07:37:14] src/tree/updater_prune.cc:74: tree pruning end, 1 roots, 20 extra nodes, 2 pruned nodes, max_depth=5\u001b[0m\n",
      "\u001b[34m[117]#011train-error:0.0944#011validation-error:0.1499\u001b[0m\n",
      "\u001b[34m[07:37:15] src/tree/updater_prune.cc:74: tree pruning end, 1 roots, 12 extra nodes, 4 pruned nodes, max_depth=5\u001b[0m\n",
      "\u001b[34m[118]#011train-error:0.094467#011validation-error:0.1495\u001b[0m\n",
      "\u001b[34m[07:37:16] src/tree/updater_prune.cc:74: tree pruning end, 1 roots, 20 extra nodes, 8 pruned nodes, max_depth=5\u001b[0m\n",
      "\u001b[34m[119]#011train-error:0.093333#011validation-error:0.1488\u001b[0m\n",
      "\u001b[34m[07:37:18] src/tree/updater_prune.cc:74: tree pruning end, 1 roots, 14 extra nodes, 14 pruned nodes, max_depth=5\u001b[0m\n",
      "\u001b[34m[120]#011train-error:0.0934#011validation-error:0.1488\u001b[0m\n",
      "\u001b[34m[07:37:19] src/tree/updater_prune.cc:74: tree pruning end, 1 roots, 10 extra nodes, 10 pruned nodes, max_depth=5\u001b[0m\n",
      "\u001b[34m[121]#011train-error:0.093333#011validation-error:0.1484\u001b[0m\n",
      "\u001b[34m[07:37:20] src/tree/updater_prune.cc:74: tree pruning end, 1 roots, 38 extra nodes, 18 pruned nodes, max_depth=5\u001b[0m\n",
      "\u001b[34m[122]#011train-error:0.091867#011validation-error:0.1485\u001b[0m\n",
      "\u001b[34m[07:37:21] src/tree/updater_prune.cc:74: tree pruning end, 1 roots, 30 extra nodes, 10 pruned nodes, max_depth=5\u001b[0m\n",
      "\u001b[34m[123]#011train-error:0.090267#011validation-error:0.1481\u001b[0m\n",
      "\u001b[34m[07:37:23] src/tree/updater_prune.cc:74: tree pruning end, 1 roots, 12 extra nodes, 4 pruned nodes, max_depth=5\u001b[0m\n",
      "\u001b[34m[124]#011train-error:0.089867#011validation-error:0.1475\u001b[0m\n",
      "\u001b[34m[07:37:24] src/tree/updater_prune.cc:74: tree pruning end, 1 roots, 10 extra nodes, 12 pruned nodes, max_depth=5\u001b[0m\n",
      "\u001b[34m[125]#011train-error:0.090133#011validation-error:0.1477\u001b[0m\n",
      "\u001b[34m[07:37:25] src/tree/updater_prune.cc:74: tree pruning end, 1 roots, 16 extra nodes, 4 pruned nodes, max_depth=5\u001b[0m\n",
      "\u001b[34m[126]#011train-error:0.089533#011validation-error:0.1476\u001b[0m\n",
      "\u001b[34m[07:37:26] src/tree/updater_prune.cc:74: tree pruning end, 1 roots, 16 extra nodes, 2 pruned nodes, max_depth=5\u001b[0m\n",
      "\u001b[34m[127]#011train-error:0.0896#011validation-error:0.1475\u001b[0m\n",
      "\u001b[34m[07:37:28] src/tree/updater_prune.cc:74: tree pruning end, 1 roots, 12 extra nodes, 8 pruned nodes, max_depth=5\u001b[0m\n",
      "\u001b[34m[128]#011train-error:0.089067#011validation-error:0.147\u001b[0m\n",
      "\u001b[34m[07:37:29] src/tree/updater_prune.cc:74: tree pruning end, 1 roots, 10 extra nodes, 2 pruned nodes, max_depth=5\u001b[0m\n",
      "\u001b[34m[129]#011train-error:0.0886#011validation-error:0.1466\u001b[0m\n",
      "\u001b[34m[07:37:30] src/tree/updater_prune.cc:74: tree pruning end, 1 roots, 12 extra nodes, 14 pruned nodes, max_depth=5\u001b[0m\n",
      "\u001b[34m[130]#011train-error:0.088867#011validation-error:0.1468\u001b[0m\n",
      "\u001b[34m[07:37:32] src/tree/updater_prune.cc:74: tree pruning end, 1 roots, 12 extra nodes, 4 pruned nodes, max_depth=5\u001b[0m\n",
      "\u001b[34m[131]#011train-error:0.0888#011validation-error:0.1471\u001b[0m\n",
      "\u001b[34m[07:37:33] src/tree/updater_prune.cc:74: tree pruning end, 1 roots, 10 extra nodes, 6 pruned nodes, max_depth=5\u001b[0m\n",
      "\u001b[34m[132]#011train-error:0.087933#011validation-error:0.147\u001b[0m\n",
      "\u001b[34m[07:37:34] src/tree/updater_prune.cc:74: tree pruning end, 1 roots, 14 extra nodes, 28 pruned nodes, max_depth=5\u001b[0m\n",
      "\u001b[34m[133]#011train-error:0.087533#011validation-error:0.1476\u001b[0m\n",
      "\u001b[34m[07:37:35] src/tree/updater_prune.cc:74: tree pruning end, 1 roots, 10 extra nodes, 12 pruned nodes, max_depth=5\u001b[0m\n",
      "\u001b[34m[134]#011train-error:0.087333#011validation-error:0.1473\u001b[0m\n",
      "\u001b[34m[07:37:37] src/tree/updater_prune.cc:74: tree pruning end, 1 roots, 10 extra nodes, 6 pruned nodes, max_depth=5\u001b[0m\n",
      "\u001b[34m[135]#011train-error:0.087067#011validation-error:0.1475\u001b[0m\n"
     ]
    },
    {
     "name": "stdout",
     "output_type": "stream",
     "text": [
      "\u001b[34m[07:37:38] src/tree/updater_prune.cc:74: tree pruning end, 1 roots, 24 extra nodes, 6 pruned nodes, max_depth=5\u001b[0m\n",
      "\u001b[34m[136]#011train-error:0.086267#011validation-error:0.1471\u001b[0m\n",
      "\u001b[34m[07:37:39] src/tree/updater_prune.cc:74: tree pruning end, 1 roots, 12 extra nodes, 6 pruned nodes, max_depth=5\u001b[0m\n",
      "\u001b[34m[137]#011train-error:0.085333#011validation-error:0.1472\u001b[0m\n",
      "\u001b[34m[07:37:40] src/tree/updater_prune.cc:74: tree pruning end, 1 roots, 14 extra nodes, 6 pruned nodes, max_depth=5\u001b[0m\n",
      "\u001b[34m[138]#011train-error:0.084933#011validation-error:0.1465\u001b[0m\n",
      "\u001b[34m[07:37:42] src/tree/updater_prune.cc:74: tree pruning end, 1 roots, 14 extra nodes, 8 pruned nodes, max_depth=5\u001b[0m\n",
      "\u001b[34m[139]#011train-error:0.085#011validation-error:0.1463\u001b[0m\n",
      "\u001b[34m[07:37:43] src/tree/updater_prune.cc:74: tree pruning end, 1 roots, 12 extra nodes, 14 pruned nodes, max_depth=5\u001b[0m\n",
      "\u001b[34m[140]#011train-error:0.084733#011validation-error:0.1463\u001b[0m\n",
      "\u001b[34m[07:37:44] src/tree/updater_prune.cc:74: tree pruning end, 1 roots, 16 extra nodes, 10 pruned nodes, max_depth=5\u001b[0m\n",
      "\u001b[34m[141]#011train-error:0.085267#011validation-error:0.1456\u001b[0m\n",
      "\u001b[34m[07:37:46] src/tree/updater_prune.cc:74: tree pruning end, 1 roots, 20 extra nodes, 2 pruned nodes, max_depth=5\u001b[0m\n",
      "\u001b[34m[142]#011train-error:0.084267#011validation-error:0.1453\u001b[0m\n",
      "\u001b[34m[07:37:47] src/tree/updater_prune.cc:74: tree pruning end, 1 roots, 38 extra nodes, 4 pruned nodes, max_depth=5\u001b[0m\n",
      "\u001b[34m[143]#011train-error:0.0836#011validation-error:0.146\u001b[0m\n",
      "\u001b[34m[07:37:48] src/tree/updater_prune.cc:74: tree pruning end, 1 roots, 20 extra nodes, 10 pruned nodes, max_depth=5\u001b[0m\n",
      "\u001b[34m[144]#011train-error:0.083533#011validation-error:0.1457\u001b[0m\n",
      "\u001b[34m[07:37:49] src/tree/updater_prune.cc:74: tree pruning end, 1 roots, 12 extra nodes, 6 pruned nodes, max_depth=5\u001b[0m\n",
      "\u001b[34m[145]#011train-error:0.0834#011validation-error:0.1456\u001b[0m\n",
      "\u001b[34m[07:37:51] src/tree/updater_prune.cc:74: tree pruning end, 1 roots, 12 extra nodes, 6 pruned nodes, max_depth=5\u001b[0m\n",
      "\u001b[34m[146]#011train-error:0.083067#011validation-error:0.1454\u001b[0m\n",
      "\u001b[34m[07:37:52] src/tree/updater_prune.cc:74: tree pruning end, 1 roots, 22 extra nodes, 4 pruned nodes, max_depth=5\u001b[0m\n",
      "\u001b[34m[147]#011train-error:0.0828#011validation-error:0.145\u001b[0m\n",
      "\u001b[34m[07:37:53] src/tree/updater_prune.cc:74: tree pruning end, 1 roots, 12 extra nodes, 12 pruned nodes, max_depth=5\u001b[0m\n",
      "\u001b[34m[148]#011train-error:0.082467#011validation-error:0.1451\u001b[0m\n",
      "\u001b[34m[07:37:54] src/tree/updater_prune.cc:74: tree pruning end, 1 roots, 10 extra nodes, 2 pruned nodes, max_depth=5\u001b[0m\n",
      "\u001b[34m[149]#011train-error:0.082067#011validation-error:0.1447\u001b[0m\n",
      "\u001b[34m[07:37:56] src/tree/updater_prune.cc:74: tree pruning end, 1 roots, 22 extra nodes, 10 pruned nodes, max_depth=5\u001b[0m\n",
      "\u001b[34m[150]#011train-error:0.081467#011validation-error:0.1451\u001b[0m\n",
      "\u001b[34m[07:37:57] src/tree/updater_prune.cc:74: tree pruning end, 1 roots, 12 extra nodes, 6 pruned nodes, max_depth=5\u001b[0m\n",
      "\u001b[34m[151]#011train-error:0.081333#011validation-error:0.145\u001b[0m\n",
      "\u001b[34m[07:37:58] src/tree/updater_prune.cc:74: tree pruning end, 1 roots, 18 extra nodes, 0 pruned nodes, max_depth=5\u001b[0m\n",
      "\u001b[34m[152]#011train-error:0.081133#011validation-error:0.145\u001b[0m\n",
      "\u001b[34m[07:37:59] src/tree/updater_prune.cc:74: tree pruning end, 1 roots, 24 extra nodes, 8 pruned nodes, max_depth=5\u001b[0m\n",
      "\u001b[34m[153]#011train-error:0.0802#011validation-error:0.1453\u001b[0m\n",
      "\u001b[34m[07:38:01] src/tree/updater_prune.cc:74: tree pruning end, 1 roots, 10 extra nodes, 10 pruned nodes, max_depth=5\u001b[0m\n",
      "\u001b[34m[154]#011train-error:0.0804#011validation-error:0.1456\u001b[0m\n",
      "\u001b[34m[07:38:02] src/tree/updater_prune.cc:74: tree pruning end, 1 roots, 16 extra nodes, 14 pruned nodes, max_depth=5\u001b[0m\n",
      "\u001b[34m[155]#011train-error:0.0802#011validation-error:0.1451\u001b[0m\n",
      "\u001b[34m[07:38:03] src/tree/updater_prune.cc:74: tree pruning end, 1 roots, 14 extra nodes, 10 pruned nodes, max_depth=5\u001b[0m\n",
      "\u001b[34m[156]#011train-error:0.08#011validation-error:0.1461\u001b[0m\n",
      "\u001b[34m[07:38:05] src/tree/updater_prune.cc:74: tree pruning end, 1 roots, 18 extra nodes, 10 pruned nodes, max_depth=5\u001b[0m\n",
      "\u001b[34m[157]#011train-error:0.080733#011validation-error:0.1449\u001b[0m\n",
      "\u001b[34m[07:38:06] src/tree/updater_prune.cc:74: tree pruning end, 1 roots, 16 extra nodes, 14 pruned nodes, max_depth=5\u001b[0m\n",
      "\u001b[34m[158]#011train-error:0.080333#011validation-error:0.1448\u001b[0m\n",
      "\u001b[34m[07:38:07] src/tree/updater_prune.cc:74: tree pruning end, 1 roots, 12 extra nodes, 0 pruned nodes, max_depth=5\u001b[0m\n",
      "\u001b[34m[159]#011train-error:0.08#011validation-error:0.1437\u001b[0m\n",
      "\u001b[34m[07:38:08] src/tree/updater_prune.cc:74: tree pruning end, 1 roots, 14 extra nodes, 6 pruned nodes, max_depth=5\u001b[0m\n",
      "\u001b[34m[160]#011train-error:0.079333#011validation-error:0.1444\u001b[0m\n",
      "\u001b[34m[07:38:10] src/tree/updater_prune.cc:74: tree pruning end, 1 roots, 10 extra nodes, 4 pruned nodes, max_depth=5\u001b[0m\n",
      "\u001b[34m[161]#011train-error:0.079133#011validation-error:0.1442\u001b[0m\n",
      "\u001b[34m[07:38:11] src/tree/updater_prune.cc:74: tree pruning end, 1 roots, 18 extra nodes, 6 pruned nodes, max_depth=5\u001b[0m\n",
      "\u001b[34m[162]#011train-error:0.0786#011validation-error:0.1437\u001b[0m\n",
      "\u001b[34m[07:38:12] src/tree/updater_prune.cc:74: tree pruning end, 1 roots, 20 extra nodes, 8 pruned nodes, max_depth=5\u001b[0m\n",
      "\u001b[34m[163]#011train-error:0.077867#011validation-error:0.1442\u001b[0m\n",
      "\u001b[34m[07:38:14] src/tree/updater_prune.cc:74: tree pruning end, 1 roots, 20 extra nodes, 12 pruned nodes, max_depth=5\u001b[0m\n",
      "\u001b[34m[164]#011train-error:0.078067#011validation-error:0.1443\u001b[0m\n",
      "\u001b[34m[07:38:15] src/tree/updater_prune.cc:74: tree pruning end, 1 roots, 10 extra nodes, 6 pruned nodes, max_depth=5\u001b[0m\n",
      "\u001b[34m[165]#011train-error:0.077867#011validation-error:0.1444\u001b[0m\n",
      "\u001b[34m[07:38:16] src/tree/updater_prune.cc:74: tree pruning end, 1 roots, 20 extra nodes, 14 pruned nodes, max_depth=5\u001b[0m\n",
      "\u001b[34m[166]#011train-error:0.077467#011validation-error:0.1438\u001b[0m\n",
      "\u001b[34m[07:38:17] src/tree/updater_prune.cc:74: tree pruning end, 1 roots, 16 extra nodes, 10 pruned nodes, max_depth=5\u001b[0m\n",
      "\u001b[34m[167]#011train-error:0.077267#011validation-error:0.1435\u001b[0m\n",
      "\u001b[34m[07:38:19] src/tree/updater_prune.cc:74: tree pruning end, 1 roots, 12 extra nodes, 12 pruned nodes, max_depth=5\u001b[0m\n",
      "\u001b[34m[168]#011train-error:0.0768#011validation-error:0.1433\u001b[0m\n",
      "\u001b[34m[07:38:20] src/tree/updater_prune.cc:74: tree pruning end, 1 roots, 14 extra nodes, 6 pruned nodes, max_depth=5\u001b[0m\n",
      "\u001b[34m[169]#011train-error:0.076467#011validation-error:0.1426\u001b[0m\n",
      "\u001b[34m[07:38:21] src/tree/updater_prune.cc:74: tree pruning end, 1 roots, 16 extra nodes, 6 pruned nodes, max_depth=5\u001b[0m\n",
      "\u001b[34m[170]#011train-error:0.076067#011validation-error:0.144\u001b[0m\n",
      "\u001b[34m[07:38:22] src/tree/updater_prune.cc:74: tree pruning end, 1 roots, 12 extra nodes, 14 pruned nodes, max_depth=5\u001b[0m\n",
      "\u001b[34m[171]#011train-error:0.076067#011validation-error:0.1432\u001b[0m\n",
      "\u001b[34m[07:38:24] src/tree/updater_prune.cc:74: tree pruning end, 1 roots, 14 extra nodes, 4 pruned nodes, max_depth=5\u001b[0m\n",
      "\u001b[34m[172]#011train-error:0.076333#011validation-error:0.1439\u001b[0m\n",
      "\u001b[34m[07:38:25] src/tree/updater_prune.cc:74: tree pruning end, 1 roots, 10 extra nodes, 4 pruned nodes, max_depth=5\u001b[0m\n",
      "\u001b[34m[173]#011train-error:0.076267#011validation-error:0.1437\u001b[0m\n",
      "\u001b[34m[07:38:26] src/tree/updater_prune.cc:74: tree pruning end, 1 roots, 10 extra nodes, 2 pruned nodes, max_depth=5\u001b[0m\n",
      "\u001b[34m[174]#011train-error:0.076067#011validation-error:0.1439\u001b[0m\n",
      "\u001b[34m[07:38:27] src/tree/updater_prune.cc:74: tree pruning end, 1 roots, 12 extra nodes, 10 pruned nodes, max_depth=5\u001b[0m\n",
      "\u001b[34m[175]#011train-error:0.0756#011validation-error:0.1438\u001b[0m\n",
      "\n",
      "2020-10-03 07:38:36 Uploading - Uploading generated training model\u001b[34m[07:38:29] src/tree/updater_prune.cc:74: tree pruning end, 1 roots, 18 extra nodes, 10 pruned nodes, max_depth=5\u001b[0m\n",
      "\u001b[34m[176]#011train-error:0.075267#011validation-error:0.1438\u001b[0m\n",
      "\u001b[34m[07:38:30] src/tree/updater_prune.cc:74: tree pruning end, 1 roots, 16 extra nodes, 8 pruned nodes, max_depth=5\u001b[0m\n",
      "\u001b[34m[177]#011train-error:0.074667#011validation-error:0.1436\u001b[0m\n",
      "\u001b[34m[07:38:31] src/tree/updater_prune.cc:74: tree pruning end, 1 roots, 20 extra nodes, 10 pruned nodes, max_depth=5\u001b[0m\n",
      "\u001b[34m[178]#011train-error:0.074#011validation-error:0.1437\u001b[0m\n",
      "\u001b[34m[07:38:33] src/tree/updater_prune.cc:74: tree pruning end, 1 roots, 14 extra nodes, 12 pruned nodes, max_depth=5\u001b[0m\n",
      "\u001b[34m[179]#011train-error:0.073867#011validation-error:0.1434\u001b[0m\n",
      "\u001b[34mStopping. Best iteration:\u001b[0m\n",
      "\u001b[34m[169]#011train-error:0.076467#011validation-error:0.1426\n",
      "\u001b[0m\n"
     ]
    },
    {
     "name": "stdout",
     "output_type": "stream",
     "text": [
      "\n",
      "2020-10-03 07:38:43 Completed - Training job completed\n",
      "Training seconds: 297\n",
      "Billable seconds: 297\n"
     ]
    }
   ],
   "source": [
    "xgb.fit({'train': s3_input_train, 'validation': s3_input_validation})"
   ]
  },
  {
   "cell_type": "markdown",
   "metadata": {},
   "source": [
    "## Step 5: Testing the model\n",
    "\n",
    "Now that we've fit our XGBoost model, it's time to see how well it performs. To do this we will use SageMakers Batch Transform functionality. Batch Transform is a convenient way to perform inference on a large dataset in a way that is not realtime. That is, we don't necessarily need to use our model's results immediately and instead we can perform inference on a large number of samples. An example of this in industry might be performing an end of month report. This method of inference can also be useful to us as it means that we can perform inference on our entire test set. \n",
    "\n",
    "To perform a Batch Transformation we need to first create a transformer objects from our trained estimator object."
   ]
  },
  {
   "cell_type": "code",
   "execution_count": 26,
   "metadata": {},
   "outputs": [
    {
     "name": "stderr",
     "output_type": "stream",
     "text": [
      "Parameter image will be renamed to image_uri in SageMaker Python SDK v2.\n"
     ]
    }
   ],
   "source": [
    "xgb_transformer = xgb.transformer(instance_count = 1, instance_type = 'ml.m4.xlarge')"
   ]
  },
  {
   "cell_type": "markdown",
   "metadata": {},
   "source": [
    "Next we actually perform the transform job. When doing so we need to make sure to specify the type of data we are sending so that it is serialized correctly in the background. In our case we are providing our model with csv data so we specify `text/csv`. Also, if the test data that we have provided is too large to process all at once then we need to specify how the data file should be split up. Since each line is a single entry in our data set we tell SageMaker that it can split the input on each line."
   ]
  },
  {
   "cell_type": "code",
   "execution_count": 27,
   "metadata": {},
   "outputs": [],
   "source": [
    "xgb_transformer.transform(test_location, content_type='text/csv', split_type='Line')"
   ]
  },
  {
   "cell_type": "markdown",
   "metadata": {},
   "source": [
    "Currently the transform job is running but it is doing so in the background. Since we wish to wait until the transform job is done and we would like a bit of feedback we can run the `wait()` method."
   ]
  },
  {
   "cell_type": "code",
   "execution_count": 28,
   "metadata": {},
   "outputs": [
    {
     "name": "stdout",
     "output_type": "stream",
     "text": [
      "..........................\u001b[32m2020-10-03T07:43:37.372:[sagemaker logs]: MaxConcurrentTransforms=4, MaxPayloadInMB=6, BatchStrategy=MULTI_RECORD\u001b[0m\n",
      "\u001b[34mArguments: serve\u001b[0m\n",
      "\u001b[34m[2020-10-03 07:43:37 +0000] [1] [INFO] Starting gunicorn 19.7.1\u001b[0m\n",
      "\u001b[34m[2020-10-03 07:43:37 +0000] [1] [INFO] Listening at: http://0.0.0.0:8080 (1)\u001b[0m\n",
      "\u001b[34m[2020-10-03 07:43:37 +0000] [1] [INFO] Using worker: gevent\u001b[0m\n",
      "\u001b[34m[2020-10-03 07:43:37 +0000] [37] [INFO] Booting worker with pid: 37\u001b[0m\n",
      "\u001b[34m[2020-10-03 07:43:37 +0000] [38] [INFO] Booting worker with pid: 38\u001b[0m\n",
      "\u001b[34m[2020-10-03 07:43:37 +0000] [39] [INFO] Booting worker with pid: 39\u001b[0m\n",
      "\u001b[34m[2020-10-03 07:43:37 +0000] [40] [INFO] Booting worker with pid: 40\u001b[0m\n",
      "\u001b[34m[2020-10-03:07:43:37:INFO] Model loaded successfully for worker : 37\u001b[0m\n",
      "\u001b[34m[2020-10-03:07:43:37:INFO] Model loaded successfully for worker : 39\u001b[0m\n",
      "\u001b[34m[2020-10-03:07:43:37:INFO] Model loaded successfully for worker : 38\u001b[0m\n",
      "\u001b[34m[2020-10-03:07:43:37:INFO] Model loaded successfully for worker : 40\u001b[0m\n",
      "\u001b[34m[2020-10-03:07:43:37:INFO] Sniff delimiter as ','\u001b[0m\n",
      "\u001b[35mArguments: serve\u001b[0m\n",
      "\u001b[35m[2020-10-03 07:43:37 +0000] [1] [INFO] Starting gunicorn 19.7.1\u001b[0m\n",
      "\u001b[35m[2020-10-03 07:43:37 +0000] [1] [INFO] Listening at: http://0.0.0.0:8080 (1)\u001b[0m\n",
      "\u001b[35m[2020-10-03 07:43:37 +0000] [1] [INFO] Using worker: gevent\u001b[0m\n",
      "\u001b[35m[2020-10-03 07:43:37 +0000] [37] [INFO] Booting worker with pid: 37\u001b[0m\n",
      "\u001b[35m[2020-10-03 07:43:37 +0000] [38] [INFO] Booting worker with pid: 38\u001b[0m\n",
      "\u001b[35m[2020-10-03 07:43:37 +0000] [39] [INFO] Booting worker with pid: 39\u001b[0m\n",
      "\u001b[35m[2020-10-03 07:43:37 +0000] [40] [INFO] Booting worker with pid: 40\u001b[0m\n",
      "\u001b[35m[2020-10-03:07:43:37:INFO] Model loaded successfully for worker : 37\u001b[0m\n",
      "\u001b[35m[2020-10-03:07:43:37:INFO] Model loaded successfully for worker : 39\u001b[0m\n",
      "\u001b[35m[2020-10-03:07:43:37:INFO] Model loaded successfully for worker : 38\u001b[0m\n",
      "\u001b[35m[2020-10-03:07:43:37:INFO] Model loaded successfully for worker : 40\u001b[0m\n",
      "\u001b[35m[2020-10-03:07:43:37:INFO] Sniff delimiter as ','\u001b[0m\n",
      "\u001b[34m[2020-10-03:07:43:37:INFO] Determined delimiter of CSV input is ','\u001b[0m\n",
      "\u001b[34m[2020-10-03:07:43:37:INFO] Sniff delimiter as ','\u001b[0m\n",
      "\u001b[34m[2020-10-03:07:43:37:INFO] Determined delimiter of CSV input is ','\u001b[0m\n",
      "\u001b[34m[2020-10-03:07:43:38:INFO] Sniff delimiter as ','\u001b[0m\n",
      "\u001b[34m[2020-10-03:07:43:38:INFO] Determined delimiter of CSV input is ','\u001b[0m\n",
      "\u001b[34m[2020-10-03:07:43:38:INFO] Sniff delimiter as ','\u001b[0m\n",
      "\u001b[34m[2020-10-03:07:43:38:INFO] Determined delimiter of CSV input is ','\u001b[0m\n",
      "\u001b[35m[2020-10-03:07:43:37:INFO] Determined delimiter of CSV input is ','\u001b[0m\n",
      "\u001b[35m[2020-10-03:07:43:37:INFO] Sniff delimiter as ','\u001b[0m\n",
      "\u001b[35m[2020-10-03:07:43:37:INFO] Determined delimiter of CSV input is ','\u001b[0m\n",
      "\u001b[35m[2020-10-03:07:43:38:INFO] Sniff delimiter as ','\u001b[0m\n",
      "\u001b[35m[2020-10-03:07:43:38:INFO] Determined delimiter of CSV input is ','\u001b[0m\n",
      "\u001b[35m[2020-10-03:07:43:38:INFO] Sniff delimiter as ','\u001b[0m\n",
      "\u001b[35m[2020-10-03:07:43:38:INFO] Determined delimiter of CSV input is ','\u001b[0m\n",
      "\u001b[34m[2020-10-03:07:43:40:INFO] Sniff delimiter as ','\u001b[0m\n",
      "\u001b[35m[2020-10-03:07:43:40:INFO] Sniff delimiter as ','\u001b[0m\n",
      "\u001b[34m[2020-10-03:07:43:40:INFO] Determined delimiter of CSV input is ','\u001b[0m\n",
      "\u001b[34m[2020-10-03:07:43:40:INFO] Sniff delimiter as ','\u001b[0m\n",
      "\u001b[34m[2020-10-03:07:43:40:INFO] Determined delimiter of CSV input is ','\u001b[0m\n",
      "\u001b[34m[2020-10-03:07:43:40:INFO] Sniff delimiter as ','\u001b[0m\n",
      "\u001b[34m[2020-10-03:07:43:40:INFO] Determined delimiter of CSV input is ','\u001b[0m\n",
      "\u001b[34m[2020-10-03:07:43:40:INFO] Sniff delimiter as ','\u001b[0m\n",
      "\u001b[34m[2020-10-03:07:43:40:INFO] Determined delimiter of CSV input is ','\u001b[0m\n",
      "\u001b[35m[2020-10-03:07:43:40:INFO] Determined delimiter of CSV input is ','\u001b[0m\n",
      "\u001b[35m[2020-10-03:07:43:40:INFO] Sniff delimiter as ','\u001b[0m\n",
      "\u001b[35m[2020-10-03:07:43:40:INFO] Determined delimiter of CSV input is ','\u001b[0m\n",
      "\u001b[35m[2020-10-03:07:43:40:INFO] Sniff delimiter as ','\u001b[0m\n",
      "\u001b[35m[2020-10-03:07:43:40:INFO] Determined delimiter of CSV input is ','\u001b[0m\n",
      "\u001b[35m[2020-10-03:07:43:40:INFO] Sniff delimiter as ','\u001b[0m\n",
      "\u001b[35m[2020-10-03:07:43:40:INFO] Determined delimiter of CSV input is ','\u001b[0m\n",
      "\u001b[34m[2020-10-03:07:43:43:INFO] Determined delimiter of CSV input is ','\u001b[0m\n",
      "\u001b[35m[2020-10-03:07:43:43:INFO] Determined delimiter of CSV input is ','\u001b[0m\n",
      "\u001b[34m[2020-10-03:07:43:45:INFO] Sniff delimiter as ','\u001b[0m\n",
      "\u001b[34m[2020-10-03:07:43:45:INFO] Determined delimiter of CSV input is ','\u001b[0m\n",
      "\u001b[34m[2020-10-03:07:43:45:INFO] Sniff delimiter as ','\u001b[0m\n",
      "\u001b[34m[2020-10-03:07:43:45:INFO] Determined delimiter of CSV input is ','\u001b[0m\n",
      "\u001b[34m[2020-10-03:07:43:45:INFO] Sniff delimiter as ','\u001b[0m\n",
      "\u001b[35m[2020-10-03:07:43:45:INFO] Sniff delimiter as ','\u001b[0m\n",
      "\u001b[35m[2020-10-03:07:43:45:INFO] Determined delimiter of CSV input is ','\u001b[0m\n",
      "\u001b[35m[2020-10-03:07:43:45:INFO] Sniff delimiter as ','\u001b[0m\n",
      "\u001b[35m[2020-10-03:07:43:45:INFO] Determined delimiter of CSV input is ','\u001b[0m\n",
      "\u001b[35m[2020-10-03:07:43:45:INFO] Sniff delimiter as ','\u001b[0m\n",
      "\u001b[34m[2020-10-03:07:43:45:INFO] Determined delimiter of CSV input is ','\u001b[0m\n",
      "\u001b[34m[2020-10-03:07:43:45:INFO] Sniff delimiter as ','\u001b[0m\n",
      "\u001b[34m[2020-10-03:07:43:45:INFO] Determined delimiter of CSV input is ','\u001b[0m\n",
      "\u001b[35m[2020-10-03:07:43:45:INFO] Determined delimiter of CSV input is ','\u001b[0m\n",
      "\u001b[35m[2020-10-03:07:43:45:INFO] Sniff delimiter as ','\u001b[0m\n",
      "\u001b[35m[2020-10-03:07:43:45:INFO] Determined delimiter of CSV input is ','\u001b[0m\n",
      "\u001b[34m[2020-10-03:07:43:47:INFO] Sniff delimiter as ','\u001b[0m\n",
      "\u001b[34m[2020-10-03:07:43:47:INFO] Determined delimiter of CSV input is ','\u001b[0m\n",
      "\u001b[35m[2020-10-03:07:43:47:INFO] Sniff delimiter as ','\u001b[0m\n",
      "\u001b[35m[2020-10-03:07:43:47:INFO] Determined delimiter of CSV input is ','\u001b[0m\n",
      "\u001b[34m[2020-10-03:07:43:47:INFO] Sniff delimiter as ','\u001b[0m\n",
      "\u001b[34m[2020-10-03:07:43:47:INFO] Determined delimiter of CSV input is ','\u001b[0m\n",
      "\u001b[34m[2020-10-03:07:43:47:INFO] Sniff delimiter as ','\u001b[0m\n",
      "\u001b[34m[2020-10-03:07:43:47:INFO] Determined delimiter of CSV input is ','\u001b[0m\n",
      "\u001b[34m[2020-10-03:07:43:48:INFO] Sniff delimiter as ','\u001b[0m\n",
      "\u001b[34m[2020-10-03:07:43:48:INFO] Determined delimiter of CSV input is ','\u001b[0m\n",
      "\u001b[35m[2020-10-03:07:43:47:INFO] Sniff delimiter as ','\u001b[0m\n",
      "\u001b[35m[2020-10-03:07:43:47:INFO] Determined delimiter of CSV input is ','\u001b[0m\n",
      "\u001b[35m[2020-10-03:07:43:47:INFO] Sniff delimiter as ','\u001b[0m\n",
      "\u001b[35m[2020-10-03:07:43:47:INFO] Determined delimiter of CSV input is ','\u001b[0m\n",
      "\u001b[35m[2020-10-03:07:43:48:INFO] Sniff delimiter as ','\u001b[0m\n",
      "\u001b[35m[2020-10-03:07:43:48:INFO] Determined delimiter of CSV input is ','\u001b[0m\n",
      "\u001b[34m[2020-10-03:07:43:50:INFO] Sniff delimiter as ','\u001b[0m\n",
      "\u001b[34m[2020-10-03:07:43:50:INFO] Determined delimiter of CSV input is ','\u001b[0m\n",
      "\u001b[34m[2020-10-03:07:43:50:INFO] Sniff delimiter as ','\u001b[0m\n",
      "\u001b[34m[2020-10-03:07:43:50:INFO] Determined delimiter of CSV input is ','\u001b[0m\n",
      "\u001b[34m[2020-10-03:07:43:50:INFO] Sniff delimiter as ','\u001b[0m\n",
      "\u001b[34m[2020-10-03:07:43:50:INFO] Determined delimiter of CSV input is ','\u001b[0m\n",
      "\u001b[34m[2020-10-03:07:43:50:INFO] Sniff delimiter as ','\u001b[0m\n",
      "\u001b[34m[2020-10-03:07:43:50:INFO] Determined delimiter of CSV input is ','\u001b[0m\n",
      "\u001b[35m[2020-10-03:07:43:50:INFO] Sniff delimiter as ','\u001b[0m\n",
      "\u001b[35m[2020-10-03:07:43:50:INFO] Determined delimiter of CSV input is ','\u001b[0m\n",
      "\u001b[35m[2020-10-03:07:43:50:INFO] Sniff delimiter as ','\u001b[0m\n",
      "\u001b[35m[2020-10-03:07:43:50:INFO] Determined delimiter of CSV input is ','\u001b[0m\n",
      "\u001b[35m[2020-10-03:07:43:50:INFO] Sniff delimiter as ','\u001b[0m\n",
      "\u001b[35m[2020-10-03:07:43:50:INFO] Determined delimiter of CSV input is ','\u001b[0m\n",
      "\u001b[35m[2020-10-03:07:43:50:INFO] Sniff delimiter as ','\u001b[0m\n",
      "\u001b[35m[2020-10-03:07:43:50:INFO] Determined delimiter of CSV input is ','\u001b[0m\n",
      "\u001b[34m[2020-10-03:07:43:52:INFO] Sniff delimiter as ','\u001b[0m\n",
      "\u001b[34m[2020-10-03:07:43:52:INFO] Determined delimiter of CSV input is ','\u001b[0m\n",
      "\u001b[34m[2020-10-03:07:43:52:INFO] Sniff delimiter as ','\u001b[0m\n",
      "\u001b[34m[2020-10-03:07:43:52:INFO] Determined delimiter of CSV input is ','\u001b[0m\n",
      "\u001b[35m[2020-10-03:07:43:52:INFO] Sniff delimiter as ','\u001b[0m\n",
      "\u001b[35m[2020-10-03:07:43:52:INFO] Determined delimiter of CSV input is ','\u001b[0m\n",
      "\u001b[35m[2020-10-03:07:43:52:INFO] Sniff delimiter as ','\u001b[0m\n",
      "\u001b[35m[2020-10-03:07:43:52:INFO] Determined delimiter of CSV input is ','\u001b[0m\n",
      "\u001b[34m[2020-10-03:07:43:54:INFO] Sniff delimiter as ','\u001b[0m\n",
      "\u001b[34m[2020-10-03:07:43:54:INFO] Determined delimiter of CSV input is ','\u001b[0m\n",
      "\u001b[34m[2020-10-03:07:43:55:INFO] Sniff delimiter as ','\u001b[0m\n",
      "\u001b[35m[2020-10-03:07:43:54:INFO] Sniff delimiter as ','\u001b[0m\n",
      "\u001b[35m[2020-10-03:07:43:54:INFO] Determined delimiter of CSV input is ','\u001b[0m\n",
      "\u001b[35m[2020-10-03:07:43:55:INFO] Sniff delimiter as ','\u001b[0m\n",
      "\u001b[34m[2020-10-03:07:43:55:INFO] Determined delimiter of CSV input is ','\u001b[0m\n",
      "\u001b[34m[2020-10-03:07:43:55:INFO] Sniff delimiter as ','\u001b[0m\n",
      "\u001b[34m[2020-10-03:07:43:55:INFO] Determined delimiter of CSV input is ','\u001b[0m\n",
      "\u001b[34m[2020-10-03:07:43:55:INFO] Sniff delimiter as ','\u001b[0m\n",
      "\u001b[34m[2020-10-03:07:43:55:INFO] Determined delimiter of CSV input is ','\u001b[0m\n",
      "\u001b[35m[2020-10-03:07:43:55:INFO] Determined delimiter of CSV input is ','\u001b[0m\n",
      "\u001b[35m[2020-10-03:07:43:55:INFO] Sniff delimiter as ','\u001b[0m\n",
      "\u001b[35m[2020-10-03:07:43:55:INFO] Determined delimiter of CSV input is ','\u001b[0m\n",
      "\u001b[35m[2020-10-03:07:43:55:INFO] Sniff delimiter as ','\u001b[0m\n",
      "\u001b[35m[2020-10-03:07:43:55:INFO] Determined delimiter of CSV input is ','\u001b[0m\n",
      "\u001b[34m[2020-10-03:07:43:57:INFO] Sniff delimiter as ','\u001b[0m\n",
      "\u001b[35m[2020-10-03:07:43:57:INFO] Sniff delimiter as ','\u001b[0m\n",
      "\u001b[34m[2020-10-03:07:43:57:INFO] Determined delimiter of CSV input is ','\u001b[0m\n",
      "\u001b[34m[2020-10-03:07:43:57:INFO] Sniff delimiter as ','\u001b[0m\n",
      "\u001b[34m[2020-10-03:07:43:57:INFO] Determined delimiter of CSV input is ','\u001b[0m\n",
      "\u001b[34m[2020-10-03:07:43:57:INFO] Sniff delimiter as ','\u001b[0m\n",
      "\u001b[34m[2020-10-03:07:43:57:INFO] Determined delimiter of CSV input is ','\u001b[0m\n",
      "\u001b[35m[2020-10-03:07:43:57:INFO] Determined delimiter of CSV input is ','\u001b[0m\n",
      "\u001b[35m[2020-10-03:07:43:57:INFO] Sniff delimiter as ','\u001b[0m\n",
      "\u001b[35m[2020-10-03:07:43:57:INFO] Determined delimiter of CSV input is ','\u001b[0m\n",
      "\u001b[35m[2020-10-03:07:43:57:INFO] Sniff delimiter as ','\u001b[0m\n",
      "\u001b[35m[2020-10-03:07:43:57:INFO] Determined delimiter of CSV input is ','\u001b[0m\n",
      "\u001b[34m[2020-10-03:07:43:58:INFO] Sniff delimiter as ','\u001b[0m\n",
      "\u001b[34m[2020-10-03:07:43:58:INFO] Determined delimiter of CSV input is ','\u001b[0m\n",
      "\u001b[35m[2020-10-03:07:43:58:INFO] Sniff delimiter as ','\u001b[0m\n",
      "\u001b[35m[2020-10-03:07:43:58:INFO] Determined delimiter of CSV input is ','\u001b[0m\n",
      "\u001b[34m[2020-10-03:07:43:59:INFO] Sniff delimiter as ','\u001b[0m\n",
      "\u001b[34m[2020-10-03:07:43:59:INFO] Determined delimiter of CSV input is ','\u001b[0m\n",
      "\u001b[34m[2020-10-03:07:43:59:INFO] Sniff delimiter as ','\u001b[0m\n",
      "\u001b[34m[2020-10-03:07:43:59:INFO] Determined delimiter of CSV input is ','\u001b[0m\n",
      "\u001b[34m[2020-10-03:07:44:00:INFO] Sniff delimiter as ','\u001b[0m\n",
      "\u001b[34m[2020-10-03:07:44:00:INFO] Determined delimiter of CSV input is ','\u001b[0m\n",
      "\u001b[34m[2020-10-03:07:44:00:INFO] Sniff delimiter as ','\u001b[0m\n",
      "\u001b[34m[2020-10-03:07:44:00:INFO] Determined delimiter of CSV input is ','\u001b[0m\n",
      "\u001b[35m[2020-10-03:07:43:59:INFO] Sniff delimiter as ','\u001b[0m\n",
      "\u001b[35m[2020-10-03:07:43:59:INFO] Determined delimiter of CSV input is ','\u001b[0m\n",
      "\u001b[35m[2020-10-03:07:43:59:INFO] Sniff delimiter as ','\u001b[0m\n",
      "\u001b[35m[2020-10-03:07:43:59:INFO] Determined delimiter of CSV input is ','\u001b[0m\n",
      "\u001b[35m[2020-10-03:07:44:00:INFO] Sniff delimiter as ','\u001b[0m\n",
      "\u001b[35m[2020-10-03:07:44:00:INFO] Determined delimiter of CSV input is ','\u001b[0m\n",
      "\u001b[35m[2020-10-03:07:44:00:INFO] Sniff delimiter as ','\u001b[0m\n",
      "\u001b[35m[2020-10-03:07:44:00:INFO] Determined delimiter of CSV input is ','\u001b[0m\n"
     ]
    },
    {
     "name": "stdout",
     "output_type": "stream",
     "text": [
      "\n"
     ]
    }
   ],
   "source": [
    "xgb_transformer.wait()"
   ]
  },
  {
   "cell_type": "markdown",
   "metadata": {},
   "source": [
    "Now the transform job has executed and the result, the estimated sentiment of each review, has been saved on S3. Since we would rather work on this file locally we can perform a bit of notebook magic to copy the file to the `data_dir`."
   ]
  },
  {
   "cell_type": "code",
   "execution_count": 29,
   "metadata": {},
   "outputs": [
    {
     "name": "stdout",
     "output_type": "stream",
     "text": [
      "Completed 256.0 KiB/370.0 KiB (4.2 MiB/s) with 1 file(s) remaining\r",
      "Completed 370.0 KiB/370.0 KiB (6.0 MiB/s) with 1 file(s) remaining\r",
      "download: s3://sagemaker-eu-central-1-039510115932/xgboost-2020-10-03-07-39-23-209/test.csv.out to ../data/sentiment_web_app/test.csv.out\r\n"
     ]
    }
   ],
   "source": [
    "!aws s3 cp --recursive $xgb_transformer.output_path $data_dir"
   ]
  },
  {
   "cell_type": "markdown",
   "metadata": {},
   "source": [
    "The last step is now to read in the output from our model, convert the output to something a little more usable, in this case we want the sentiment to be either `1` (positive) or `0` (negative), and then compare to the ground truth labels."
   ]
  },
  {
   "cell_type": "code",
   "execution_count": 30,
   "metadata": {},
   "outputs": [],
   "source": [
    "predictions = pd.read_csv(os.path.join(data_dir, 'test.csv.out'), header=None)\n",
    "predictions = [round(num) for num in predictions.squeeze().values]"
   ]
  },
  {
   "cell_type": "code",
   "execution_count": 31,
   "metadata": {},
   "outputs": [
    {
     "data": {
      "text/plain": [
       "0.86328"
      ]
     },
     "execution_count": 31,
     "metadata": {},
     "output_type": "execute_result"
    }
   ],
   "source": [
    "from sklearn.metrics import accuracy_score\n",
    "accuracy_score(test_y, predictions)"
   ]
  },
  {
   "cell_type": "markdown",
   "metadata": {},
   "source": [
    "## Step 6: Deploying the model\n",
    "\n",
    "Once we construct and fit our model, SageMaker stores the resulting model artifacts and we can use those to deploy an endpoint (inference code). To see this, look in the SageMaker console and you should see that a model has been created along with a link to the S3 location where the model artifacts have been stored.\n",
    "\n",
    "Deploying an endpoint is a lot like training the model with a few important differences. The first is that a deployed model doesn't change the model artifacts, so as you send it various testing instances the model won't change. Another difference is that since we aren't performing a fixed computation, as we were in the training step or while performing a batch transform, the compute instance that gets started stays running until we tell it to stop. This is important to note as if we forget and leave it running we will be charged the entire time.\n",
    "\n",
    "In other words **If you are no longer using a deployed endpoint, shut it down!**"
   ]
  },
  {
   "cell_type": "code",
   "execution_count": 32,
   "metadata": {},
   "outputs": [
    {
     "name": "stderr",
     "output_type": "stream",
     "text": [
      "Parameter image will be renamed to image_uri in SageMaker Python SDK v2.\n",
      "Using already existing model: xgboost-2020-10-03-07-31-08-028\n"
     ]
    },
    {
     "name": "stdout",
     "output_type": "stream",
     "text": [
      "-------------!"
     ]
    }
   ],
   "source": [
    "xgb_predictor = xgb.deploy(initial_instance_count = 1, instance_type = 'ml.m4.xlarge')"
   ]
  },
  {
   "cell_type": "markdown",
   "metadata": {},
   "source": [
    "### Testing the model (again)\n",
    "\n",
    "Now that we have deployed our endpoint, we can send the testing data to it and get back the inference results. We already did this earlier using the batch transform functionality of SageMaker, however, we will test our model again using the newly deployed endpoint so that we can make sure that it works properly and to get a bit of a feel for how the endpoint works.\n",
    "\n",
    "When using the created endpoint it is important to know that we are limited in the amount of information we can send in each call so we need to break the testing data up into chunks and then send each chunk. Also, we need to serialize our data before we send it to the endpoint to ensure that our data is transmitted properly. Fortunately, SageMaker can do the serialization part for us provided we tell it the format of our data."
   ]
  },
  {
   "cell_type": "code",
   "execution_count": 33,
   "metadata": {},
   "outputs": [],
   "source": [
    "from sagemaker.predictor import csv_serializer\n",
    "\n",
    "# We need to tell the endpoint what format the data we are sending is in so that SageMaker can perform the serialization.\n",
    "xgb_predictor.content_type = 'text/csv'\n",
    "xgb_predictor.serializer = csv_serializer"
   ]
  },
  {
   "cell_type": "code",
   "execution_count": 34,
   "metadata": {},
   "outputs": [],
   "source": [
    "# We split the data into chunks and send each chunk seperately, accumulating the results.\n",
    "\n",
    "def predict(data, rows=512):\n",
    "    split_array = np.array_split(data, int(data.shape[0] / float(rows) + 1))\n",
    "    predictions = ''\n",
    "    for array in split_array:\n",
    "        predictions = ','.join([predictions, xgb_predictor.predict(array).decode('utf-8')])\n",
    "    \n",
    "    return np.fromstring(predictions[1:], sep=',')"
   ]
  },
  {
   "cell_type": "code",
   "execution_count": 35,
   "metadata": {},
   "outputs": [],
   "source": [
    "test_X = pd.read_csv(os.path.join(data_dir, 'test.csv'), header=None).values\n",
    "\n",
    "predictions = predict(test_X)\n",
    "predictions = [round(num) for num in predictions]"
   ]
  },
  {
   "cell_type": "markdown",
   "metadata": {},
   "source": [
    "Lastly, we check to see what the accuracy of our model is."
   ]
  },
  {
   "cell_type": "code",
   "execution_count": 36,
   "metadata": {},
   "outputs": [
    {
     "data": {
      "text/plain": [
       "0.86328"
      ]
     },
     "execution_count": 36,
     "metadata": {},
     "output_type": "execute_result"
    }
   ],
   "source": [
    "from sklearn.metrics import accuracy_score\n",
    "accuracy_score(test_y, predictions)"
   ]
  },
  {
   "cell_type": "markdown",
   "metadata": {},
   "source": [
    "And the results here should agree with the model testing that we did earlier using the batch transform job.\n",
    "\n",
    "### Cleaning up\n",
    "\n",
    "Now that we've determined that deploying our model works as expected, we are going to shut it down. Remember that the longer the endpoint is left running, the greater the cost and since we have a bit more work to do before we are able to use our endpoint with our simple web app, we should shut everything down."
   ]
  },
  {
   "cell_type": "code",
   "execution_count": 37,
   "metadata": {},
   "outputs": [],
   "source": [
    "xgb_predictor.delete_endpoint()"
   ]
  },
  {
   "cell_type": "markdown",
   "metadata": {},
   "source": [
    "## Step 7: Putting our model to work\n",
    "\n",
    "As we've mentioned a few times now, our goal is to have our model deployed and then access it using a very simple web app. The intent is for this web app to take some user submitted data (a review), send it off to our endpoint (the model) and then display the result.\n",
    "\n",
    "However, there is a small catch. Currently the only way we can access the endpoint to send it data is using the SageMaker API. We can, if we wish, expose the actual URL that our model's endpoint is receiving data from, however, if we just send it data ourselves we will not get anything in return. This is because the endpoint created by SageMaker requires the entity accessing it have the correct permissions. So, we would need to somehow authenticate our web app with AWS.\n",
    "\n",
    "Having a website that authenticates to AWS seems a bit beyond the scope of this lesson so we will opt for an alternative approach. Namely, we will create a new endpoint which does not require authentication and which acts as a proxy for the SageMaker endpoint.\n",
    "\n",
    "As an additional constraint, we will try to avoid doing any data processing in the web app itself. Remember that when we constructed and tested our model we started with a movie review, then we simplified it by removing any html formatting and punctuation, then we constructed a bag of words embedding and the resulting vector is what we sent to our model. All of this needs to be done to our user input as well.\n",
    "\n",
    "Fortunately we can do all of this data processing in the backend, using Amazon's Lambda service.\n",
    "\n",
    "<img src=\"Web App Diagram.svg\">\n",
    "\n",
    "The diagram above gives an overview of how the various services will work together. On the far right is the model which we trained above and which will be deployed using SageMaker. On the far left is our web app that collects a user's movie review, sends it off and expects a positive or negative sentiment in return.\n",
    "\n",
    "In the middle is where some of the magic happens. We will construct a Lambda function, which you can think of as a straightforward Python function that can be executed whenever a specified event occurs. This Python function will do the data processing we need to perform on a user submitted review. In addition, we will give this function permission to send and recieve data from a SageMaker endpoint.\n",
    "\n",
    "Lastly, the method we will use to execute the Lambda function is a new endpoint that we will create using API Gateway. This endpoint will be a url that listens for data to be sent to it. Once it gets some data it will pass that data on to the Lambda function and then return whatever the Lambda function returns. Essentially it will act as an interface that lets our web app communicate with the Lambda function.\n",
    "\n",
    "### Processing a single review\n",
    "\n",
    "For now, suppose we are given a movie review by our user in the form of a string, like so:"
   ]
  },
  {
   "cell_type": "code",
   "execution_count": 38,
   "metadata": {},
   "outputs": [],
   "source": [
    "test_review = \"Nothing but a disgusting materialistic pageant of glistening abed remote control greed zombies, totally devoid of any heart or heat. A romantic comedy that has zero romantic chemestry and zero laughs!\""
   ]
  },
  {
   "cell_type": "markdown",
   "metadata": {},
   "source": [
    "How do we go from this string to the bag of words feature vector that is expected by our model?\n",
    "\n",
    "If we recall at the beginning of this notebook, the first step is to remove any unnecessary characters using the `review_to_words` method. Remember that we intentionally did this in a very simplistic way. This is because we are going to have to copy this method to our (eventual) Lambda function (we will go into more detail later) and this means it needs to be rather simplistic."
   ]
  },
  {
   "cell_type": "code",
   "execution_count": 39,
   "metadata": {},
   "outputs": [
    {
     "name": "stdout",
     "output_type": "stream",
     "text": [
      "nothing but a disgusting materialistic pageant of glistening abed remote control greed zombies totally devoid of any heart or heat a romantic comedy that has zero romantic chemestry and zero laughs\n"
     ]
    }
   ],
   "source": [
    "test_words = review_to_words(test_review)\n",
    "print(test_words)"
   ]
  },
  {
   "cell_type": "markdown",
   "metadata": {},
   "source": [
    "Next, we need to construct a bag of words embedding of the `test_words` string. To do this, remember that a bag of words embedding uses a `vocabulary` consisting of the most frequently appearing words in a set of documents. Then, for each word in the vocabulary we record the number of times that word appears in `test_words`. We constructed the `vocabulary` earlier using the training set for our problem so encoding `test_words` is relatively straightforward."
   ]
  },
  {
   "cell_type": "code",
   "execution_count": 40,
   "metadata": {},
   "outputs": [],
   "source": [
    "def bow_encoding(words, vocabulary):\n",
    "    bow = [0] * len(vocabulary) # Start by setting the count for each word in the vocabulary to zero.\n",
    "    for word in words.split():  # For each word in the string\n",
    "        if word in vocabulary:  # If the word is one that occurs in the vocabulary, increase its count.\n",
    "            bow[vocabulary[word]] += 1\n",
    "    return bow"
   ]
  },
  {
   "cell_type": "code",
   "execution_count": 41,
   "metadata": {},
   "outputs": [
    {
     "name": "stdout",
     "output_type": "stream",
     "text": [
      "[0, 0, 0, 0, 0, 0, 0, 0, 0, 0, 0, 0, 0, 0, 0, 0, 0, 0, 0, 0, 0, 0, 0, 0, 0, 0, 0, 0, 0, 0, 0, 0, 0, 0, 0, 0, 0, 0, 0, 0, 0, 0, 0, 0, 0, 0, 0, 0, 0, 0, 0, 0, 0, 0, 0, 0, 0, 0, 0, 0, 0, 0, 0, 0, 0, 0, 0, 0, 0, 0, 0, 0, 0, 0, 0, 0, 0, 0, 0, 0, 0, 0, 0, 0, 0, 0, 0, 0, 0, 0, 0, 0, 0, 0, 0, 0, 0, 0, 0, 0, 0, 0, 0, 0, 0, 0, 0, 0, 0, 0, 0, 0, 0, 0, 0, 0, 0, 0, 0, 0, 0, 0, 0, 0, 0, 0, 0, 0, 0, 0, 0, 0, 0, 0, 0, 0, 0, 0, 0, 0, 0, 0, 0, 0, 0, 0, 0, 0, 0, 0, 0, 0, 0, 0, 0, 0, 0, 0, 0, 0, 0, 0, 0, 0, 0, 0, 0, 0, 0, 0, 0, 0, 0, 0, 0, 0, 0, 0, 0, 0, 0, 0, 0, 0, 0, 0, 0, 0, 0, 0, 0, 0, 0, 0, 0, 0, 0, 0, 0, 0, 0, 0, 0, 0, 0, 0, 0, 0, 0, 0, 0, 0, 0, 0, 0, 0, 0, 0, 0, 0, 0, 0, 0, 0, 0, 0, 1, 0, 0, 0, 0, 0, 0, 0, 0, 0, 0, 0, 0, 0, 0, 0, 0, 0, 0, 0, 0, 0, 0, 0, 0, 0, 0, 0, 0, 1, 0, 0, 0, 0, 0, 0, 0, 0, 0, 0, 0, 0, 0, 0, 0, 0, 0, 0, 0, 0, 0, 0, 0, 0, 0, 0, 0, 0, 0, 0, 0, 0, 0, 0, 0, 0, 0, 0, 0, 0, 0, 0, 0, 0, 0, 0, 0, 0, 0, 0, 0, 0, 0, 0, 0, 0, 0, 0, 0, 0, 0, 0, 0, 0, 0, 0, 0, 0, 0, 0, 0, 0, 0, 0, 0, 0, 0, 0, 0, 0, 0, 0, 0, 0, 0, 0, 0, 0, 0, 0, 0, 0, 0, 0, 0, 0, 0, 0, 0, 0, 0, 0, 0, 0, 0, 0, 0, 0, 0, 0, 0, 0, 0, 0, 0, 0, 0, 0, 0, 0, 0, 0, 0, 0, 0, 0, 0, 0, 0, 0, 0, 0, 0, 0, 0, 0, 0, 0, 0, 0, 0, 0, 0, 0, 0, 0, 0, 0, 0, 0, 0, 0, 0, 0, 0, 0, 0, 0, 0, 0, 0, 0, 0, 0, 0, 0, 0, 0, 0, 0, 0, 0, 0, 0, 0, 0, 0, 0, 0, 0, 0, 0, 0, 0, 0, 0, 0, 0, 0, 0, 0, 0, 0, 0, 0, 0, 0, 0, 0, 0, 0, 0, 0, 0, 0, 0, 0, 0, 0, 0, 0, 0, 0, 0, 0, 0, 0, 0, 0, 0, 0, 0, 0, 0, 0, 0, 0, 0, 0, 0, 0, 0, 0, 0, 0, 0, 0, 0, 0, 0, 0, 0, 0, 0, 0, 0, 0, 0, 0, 0, 0, 0, 0, 0, 0, 0, 0, 0, 0, 0, 0, 0, 0, 0, 0, 0, 0, 0, 0, 0, 0, 0, 0, 0, 0, 0, 0, 0, 0, 0, 0, 0, 0, 0, 0, 0, 0, 0, 0, 0, 0, 0, 0, 0, 0, 0, 0, 0, 0, 0, 0, 0, 0, 0, 0, 0, 0, 0, 0, 0, 0, 0, 0, 0, 0, 0, 0, 0, 0, 0, 0, 0, 0, 0, 0, 0, 0, 0, 0, 0, 0, 0, 0, 0, 0, 0, 0, 0, 0, 0, 0, 0, 0, 0, 0, 0, 0, 0, 0, 0, 0, 0, 0, 0, 0, 0, 0, 0, 0, 0, 0, 0, 0, 0, 0, 0, 0, 0, 0, 0, 0, 0, 0, 0, 0, 0, 0, 0, 0, 1, 0, 0, 0, 0, 0, 0, 0, 0, 0, 0, 0, 0, 0, 0, 0, 0, 0, 0, 0, 0, 0, 0, 0, 0, 0, 0, 0, 0, 0, 0, 0, 0, 0, 0, 0, 0, 0, 0, 0, 0, 0, 0, 0, 0, 0, 0, 0, 0, 0, 0, 0, 0, 0, 0, 0, 0, 0, 0, 0, 0, 0, 0, 0, 0, 0, 0, 0, 0, 0, 0, 0, 0, 0, 0, 0, 0, 0, 0, 0, 0, 0, 0, 0, 0, 0, 0, 0, 0, 0, 0, 0, 0, 0, 0, 0, 0, 0, 0, 0, 0, 0, 0, 0, 0, 0, 0, 0, 0, 0, 0, 0, 0, 0, 0, 0, 0, 0, 0, 0, 0, 0, 0, 0, 0, 0, 0, 0, 0, 0, 0, 0, 0, 0, 0, 0, 0, 0, 0, 0, 0, 0, 0, 0, 0, 0, 0, 0, 0, 0, 0, 0, 0, 0, 0, 0, 0, 0, 0, 0, 0, 0, 0, 0, 0, 0, 0, 0, 0, 0, 0, 0, 0, 0, 0, 0, 0, 0, 0, 0, 0, 0, 0, 0, 0, 0, 0, 0, 0, 0, 0, 0, 0, 0, 0, 0, 0, 0, 0, 0, 0, 0, 0, 0, 0, 0, 0, 0, 0, 0, 0, 0, 0, 0, 0, 0, 0, 0, 0, 0, 0, 0, 0, 0, 0, 0, 0, 0, 0, 0, 0, 0, 0, 0, 0, 0, 0, 0, 0, 0, 0, 0, 0, 0, 0, 0, 0, 0, 0, 0, 0, 0, 0, 0, 1, 0, 0, 0, 0, 0, 0, 0, 0, 0, 0, 0, 0, 0, 0, 0, 0, 0, 0, 0, 0, 0, 0, 0, 0, 0, 0, 0, 0, 0, 0, 0, 0, 0, 0, 0, 0, 0, 0, 0, 0, 0, 0, 0, 0, 0, 0, 0, 0, 0, 0, 0, 0, 0, 0, 0, 0, 0, 0, 0, 0, 0, 0, 0, 0, 0, 0, 0, 0, 0, 0, 0, 0, 0, 0, 0, 0, 0, 0, 0, 0, 0, 0, 0, 0, 0, 0, 0, 1, 0, 0, 0, 0, 0, 0, 0, 0, 0, 0, 0, 0, 0, 0, 0, 0, 0, 0, 0, 0, 0, 0, 0, 0, 0, 0, 0, 0, 0, 0, 0, 0, 0, 0, 0, 0, 0, 0, 0, 0, 0, 0, 0, 0, 0, 0, 0, 0, 0, 0, 0, 0, 0, 0, 0, 0, 0, 0, 0, 0, 0, 0, 0, 0, 0, 0, 0, 0, 0, 0, 0, 0, 0, 0, 0, 0, 0, 0, 0, 0, 0, 0, 0, 0, 0, 0, 0, 0, 0, 0, 0, 0, 0, 0, 0, 0, 0, 0, 0, 0, 0, 0, 0, 0, 0, 0, 0, 0, 0, 0, 0, 0, 0, 0, 0, 0, 0, 0, 0, 0, 0, 0, 0, 0, 0, 0, 0, 0, 0, 0, 0, 0, 0, 0, 0, 0, 0, 0, 0, 0, 0, 0, 0, 0, 0, 0, 0, 0, 0, 0, 0, 0, 0, 0, 0, 0, 0, 0, 0, 0, 0, 0, 0, 0, 0, 0, 0, 0, 0, 0, 0, 0, 0, 0, 0, 0, 0, 0, 0, 0, 0, 0, 0, 0, 0, 0, 0, 0, 0, 0, 0, 0, 0, 0, 0, 0, 0, 0, 0, 0, 0, 0, 0, 0, 0, 0, 0, 0, 0, 0, 0, 0, 0, 0, 0, 0, 0, 0, 0, 0, 0, 0, 0, 0, 0, 0, 0, 0, 0, 0, 0, 0, 0, 0, 0, 0, 0, 0, 0, 0, 0, 0, 0, 0, 0, 0, 0, 0, 0, 0, 0, 1, 0, 0, 0, 0, 0, 0, 0, 0, 0, 0, 0, 0, 0, 0, 0, 0, 0, 0, 0, 0, 0, 0, 0, 0, 0, 0, 0, 0, 0, 0, 0, 0, 0, 0, 0, 0, 0, 0, 0, 0, 0, 0, 0, 0, 0, 0, 0, 0, 0, 0, 0, 0, 0, 0, 0, 1, 0, 0, 0, 0, 0, 0, 0, 0, 0, 0, 0, 0, 0, 0, 0, 0, 0, 0, 0, 0, 0, 0, 0, 0, 0, 0, 0, 0, 0, 0, 0, 0, 0, 0, 0, 0, 0, 0, 0, 0, 0, 0, 0, 0, 0, 0, 0, 0, 0, 0, 0, 0, 0, 0, 0, 0, 0, 0, 0, 0, 0, 0, 0, 0, 0, 0, 0, 0, 0, 0, 0, 0, 0, 0, 0, 0, 0, 0, 0, 0, 0, 0, 0, 0, 0, 0, 0, 0, 0, 0, 0, 0, 0, 0, 0, 0, 0, 0, 0, 0, 0, 0, 0, 0, 0, 0, 0, 0, 0, 0, 0, 0, 0, 0, 0, 0, 0, 0, 0, 0, 0, 0, 0, 0, 0, 0, 0, 0, 0, 0, 0, 0, 0, 0, 0, 0, 0, 0, 0, 0, 0, 0, 0, 0, 0, 0, 0, 0, 0, 0, 0, 0, 0, 0, 0, 0, 0, 0, 0, 0, 0, 0, 0, 0, 0, 0, 0, 0, 0, 0, 0, 0, 0, 0, 0, 0, 0, 0, 0, 0, 0, 0, 0, 0, 0, 0, 0, 0, 0, 0, 0, 0, 0, 0, 0, 0, 0, 0, 0, 0, 0, 0, 0, 0, 0, 0, 0, 0, 0, 0, 0, 0, 0, 0, 0, 0, 0, 0, 0, 0, 0, 0, 0, 0, 0, 0, 0, 0, 0, 0, 0, 0, 0, 0, 0, 0, 0, 0, 0, 0, 0, 0, 0, 0, 0, 0, 0, 0, 0, 0, 0, 0, 0, 0, 0, 0, 0, 0, 0, 0, 0, 0, 0, 0, 0, 0, 0, 0, 0, 0, 0, 0, 0, 0, 0, 0, 0, 0, 0, 0, 0, 0, 0, 0, 0, 0, 0, 0, 0, 0, 0, 0, 0, 0, 0, 0, 0, 0, 0, 0, 0, 0, 0, 0, 0, 0, 0, 0, 0, 0, 0, 0, 0, 0, 0, 0, 0, 0, 0, 0, 0, 0, 0, 0, 0, 0, 0, 0, 0, 0, 0, 0, 0, 0, 0, 0, 0, 0, 0, 0, 0, 0, 0, 0, 0, 0, 0, 0, 0, 0, 0, 0, 0, 0, 0, 0, 0, 0, 0, 0, 0, 0, 0, 0, 0, 0, 0, 0, 0, 0, 0, 0, 0, 0, 0, 0, 0, 0, 0, 0, 0, 0, 0, 0, 0, 0, 0, 0, 0, 0, 0, 0, 0, 0, 0, 0, 0, 0, 0, 0, 0, 0, 0, 0, 0, 0, 0, 0, 0, 0, 0, 0, 0, 0, 0, 0, 0, 0, 0, 0, 0, 0, 0, 0, 0, 0, 0, 0, 0, 0, 0, 0, 0, 0, 0, 0, 0, 0, 0, 0, 0, 0, 0, 0, 0, 0, 0, 0, 0, 0, 0, 0, 0, 0, 0, 0, 0, 0, 0, 0, 0, 0, 0, 0, 0, 0, 0, 0, 0, 0, 0, 0, 0, 0, 0, 0, 0, 0, 0, 0, 0, 0, 0, 0, 0, 0, 0, 0, 0, 0, 0, 0, 0, 0, 0, 0, 0, 0, 0, 0, 0, 0, 0, 0, 0, 0, 0, 0, 0, 0, 0, 0, 0, 0, 0, 0, 0, 0, 0, 0, 0, 0, 0, 0, 0, 0, 0, 0, 0, 0, 0, 0, 0, 0, 0, 0, 0, 0, 0, 0, 0, 0, 0, 0, 0, 0, 0, 0, 0, 0, 0, 0, 0, 0, 0, 0, 0, 0, 0, 0, 0, 0, 0, 0, 0, 0, 0, 0, 0, 0, 0, 0, 0, 0, 0, 0, 0, 0, 0, 0, 0, 0, 0, 0, 0, 0, 0, 0, 0, 0, 0, 0, 0, 0, 0, 0, 0, 0, 0, 0, 0, 0, 0, 0, 0, 0, 0, 0, 0, 0, 0, 0, 0, 0, 0, 0, 0, 0, 0, 0, 0, 0, 0, 0, 0, 0, 0, 0, 0, 0, 0, 0, 0, 0, 0, 0, 0, 0, 0, 0, 0, 0, 0, 0, 0, 0, 0, 0, 0, 0, 0, 0, 0, 0, 0, 0, 0, 0, 0, 0, 0, 0, 0, 0, 0, 0, 0, 0, 0, 0, 0, 0, 0, 0, 0, 0, 0, 0, 0, 0, 0, 1, 0, 0, 0, 0, 0, 0, 0, 0, 0, 0, 0, 0, 0, 0, 0, 0, 0, 0, 0, 0, 0, 0, 0, 0, 0, 0, 0, 0, 0, 0, 0, 0, 0, 0, 0, 0, 0, 0, 0, 0, 0, 0, 0, 0, 0, 0, 0, 0, 0, 0, 0, 0, 0, 0, 0, 0, 0, 0, 0, 0, 0, 0, 0, 0, 0, 0, 0, 0, 0, 0, 0, 0, 0, 0, 1, 0, 0, 0, 0, 0, 0, 0, 0, 0, 0, 0, 0, 0, 0, 0, 0, 0, 0, 0, 0, 1, 0, 0, 1, 0, 0, 0, 0, 0, 0, 0, 0, 0, 0, 0, 0, 0, 0, 0, 0, 0, 0, 0, 0, 0, 0, 0, 0, 0, 0, 0, 0, 0, 0, 0, 0, 0, 0, 0, 0, 0, 0, 0, 0, 0, 0, 0, 0, 0, 0, 0, 0, 0, 0, 0, 0, 0, 0, 0, 0, 0, 0, 0, 0, 0, 0, 0, 0, 0, 0, 0, 0, 0, 0, 0, 0, 0, 0, 0, 0, 0, 0, 0, 0, 0, 0, 0, 0, 0, 0, 0, 0, 0, 0, 0, 0, 0, 0, 0, 0, 0, 0, 0, 0, 0, 0, 0, 0, 0, 0, 0, 0, 0, 0, 0, 0, 0, 0, 0, 0, 0, 0, 0, 0, 0, 0, 0, 0, 0, 0, 0, 0, 0, 0, 0, 0, 0, 0, 0, 0, 0, 0, 0, 0, 0, 0, 0, 0, 0, 0, 0, 0, 0, 0, 0, 0, 0, 0, 0, 0, 0, 0, 0, 0, 0, 0, 0, 0, 0, 0, 0, 0, 0, 0, 0, 0, 0, 0, 0, 0, 0, 0, 0, 0, 0, 0, 0, 0, 0, 0, 0, 0, 0, 0, 0, 0, 0, 0, 0, 0, 0, 0, 0, 0, 0, 0, 0, 0, 0, 0, 0, 0, 0, 0, 0, 0, 0, 0, 0, 0, 0, 0, 0, 0, 0, 0, 0, 0, 0, 0, 0, 0, 0, 0, 0, 0, 0, 0, 0, 0, 0, 0, 0, 0, 0, 0, 0, 0, 0, 0, 0, 0, 0, 0, 0, 0, 0, 0, 0, 0, 0, 0, 0, 0, 0, 0, 0, 0, 0, 0, 0, 0, 0, 0, 0, 0, 0, 0, 0, 0, 0, 0, 0, 0, 0, 0, 0, 0, 0, 0, 0, 0, 0, 0, 0, 0, 0, 0, 0, 0, 0, 0, 0, 0, 0, 0, 0, 0, 0, 0, 0, 0, 0, 0, 0, 0, 0, 0, 0, 0, 0, 0, 0, 0, 0, 0, 0, 0, 0, 0, 0, 0, 0, 0, 0, 0, 0, 0, 0, 0, 0, 0, 0, 0, 0, 0, 0, 0, 0, 0, 0, 0, 0, 0, 0, 0, 0, 0, 0, 0, 0, 0, 0, 0, 0, 0, 0, 0, 0, 0, 0, 0, 0, 0, 0, 0, 0, 0, 0, 0, 0, 0, 0, 0, 0, 0, 0, 0, 0, 0, 0, 0, 0, 0, 0, 0, 0, 0, 0, 0, 0, 0, 0, 0, 0, 0, 0, 0, 0, 0, 0, 0, 0, 0, 0, 0, 0, 0, 0, 0, 0, 0, 0, 0, 0, 0, 0, 0, 0, 0, 0, 0, 0, 0, 0, 0, 0, 0, 0, 0, 0, 0, 0, 0, 0, 0, 0, 0, 0, 0, 0, 0, 0, 0, 0, 0, 0, 0, 0, 0, 0, 0, 0, 0, 0, 0, 0, 0, 0, 0, 0, 1, 0, 0, 0, 0, 0, 0, 0, 0, 0, 0, 0, 0, 0, 0, 0, 0, 0, 0, 0, 0, 0, 0, 0, 0, 0, 0, 0, 0, 0, 0, 0, 0, 0, 0, 0, 0, 0, 0, 0, 0, 0, 0, 0, 0, 0, 0, 0, 0, 0, 0, 0, 0, 0, 0, 0, 0, 0, 0, 0, 0, 0, 0, 0, 0, 0, 0, 0, 0, 0, 0, 0, 0, 0, 0, 0, 0, 0, 0, 0, 0, 0, 0, 0, 0, 0, 0, 0, 0, 0, 0, 0, 0, 0, 0, 0, 0, 0, 0, 0, 0, 0, 0, 0, 0, 0, 0, 0, 0, 0, 0, 0, 0, 0, 0, 0, 0, 0, 0, 0, 0, 0, 0, 0, 0, 0, 0, 0, 0, 0, 0, 0, 0, 0, 0, 0, 0, 0, 0, 0, 0, 0, 0, 0, 0, 0, 0, 0, 0, 0, 0, 0, 0, 0, 0, 0, 0, 0, 0, 0, 0, 0, 0, 0, 0, 0, 0, 0, 0, 0, 0, 0, 0, 0, 0, 0, 0, 0, 0, 0, 0, 0, 0, 0, 0, 0, 0, 0, 0, 0, 0, 0, 0, 0, 0, 0, 0, 0, 0, 0, 0, 0, 0, 0, 0, 0, 0, 0, 0, 0, 0, 0, 0, 0, 0, 0, 0, 0, 0, 0, 0, 0, 0, 0, 0, 0, 0, 0, 0, 0, 0, 0, 0, 0, 0, 0, 0, 0, 0, 0, 0, 0, 0, 0, 0, 0, 0, 0, 0, 0, 0, 0, 0, 0, 0, 0, 0, 0, 0, 0, 0, 0, 0, 0, 0, 0, 0, 0, 0, 0, 0, 0, 0, 0, 0, 0, 0, 0, 0, 0, 0, 0, 0, 0, 0, 0, 0, 0, 0, 0, 0, 0, 0, 0, 0, 0, 0, 0, 0, 0, 0, 0, 0, 0, 0, 0, 0, 0, 0, 0, 0, 0, 0, 0, 0, 0, 0, 0, 0, 0, 0, 0, 0, 0, 0, 0, 0, 0, 0, 0, 0, 0, 0, 0, 0, 0, 0, 0, 0, 0, 0, 0, 0, 0, 0, 0, 0, 0, 0, 0, 0, 0, 0, 0, 0, 0, 0, 0, 0, 0, 0, 0, 0, 0, 0, 0, 0, 0, 0, 0, 0, 0, 0, 0, 0, 0, 0, 0, 0, 0, 0, 0, 0, 0, 0, 0, 0, 0, 0, 0, 0, 0, 0, 0, 0, 0, 0, 0, 0, 0, 0, 0, 0, 0, 0, 0, 0, 0, 0, 0, 0, 0, 0, 0, 0, 0, 0, 0, 0, 0, 0, 0, 0, 0, 0, 0, 0, 0, 0, 0, 0, 0, 0, 0, 0, 0, 0, 0, 0, 0, 0, 0, 0, 0, 0, 0, 0, 0, 0, 0, 0, 0, 0, 0, 0, 0, 0, 0, 0, 0, 0, 0, 0, 0, 0, 0, 0, 0, 0, 0, 0, 0, 0, 0, 0, 0, 0, 0, 0, 0, 0, 0, 0, 0, 0, 0, 0, 0, 0, 0, 0, 0, 0, 0, 0, 0, 0, 0, 0, 0, 0, 0, 0, 0, 0, 0, 0, 0, 0, 0, 0, 0, 0, 1, 0, 0, 0, 0, 0, 0, 0, 0, 0, 0, 0, 0, 0, 0, 0, 0, 0, 0, 0, 0, 0, 0, 0, 0, 0, 0, 0, 0, 0, 0, 0, 0, 0, 0, 0, 2, 0, 0, 0, 0, 0, 0, 0, 0, 0, 0, 0, 0, 0, 0, 0, 0, 0, 0, 0, 0, 0, 0, 0, 0, 0, 0, 0, 0, 0, 0, 0, 0, 0, 0, 0, 0, 0, 0, 0, 0, 1, 0, 0, 0, 0, 0, 0, 0, 0, 0, 0, 0, 0, 0, 0, 0, 0, 0, 0, 0, 0, 0, 0, 0, 0, 0, 0, 0, 0, 0, 0, 0, 0, 0, 0, 0, 0, 0, 0, 0, 0, 0, 0, 0, 0, 0, 0, 0, 0, 0, 0, 0, 0, 0, 0, 0, 0, 0, 0, 0, 0, 0, 0, 0, 0, 0, 0, 0, 0, 0, 0, 0, 0, 0, 0, 0, 0, 0, 0, 0, 0, 0, 0, 0, 0, 0, 0, 0, 0, 0, 0, 0, 0, 0, 0, 0, 0, 0, 0, 0, 0, 0, 0, 0, 0, 0, 0, 0, 0, 0, 0, 0, 0, 0, 0, 0, 0, 0, 0, 0, 0, 0, 0, 0, 0, 0, 0, 0, 0, 0, 0, 0, 0, 0, 0, 0, 0, 0, 0, 0, 0, 0, 0, 0, 0, 0, 0, 0, 0, 0, 0, 0, 0, 0, 0, 0, 0, 0, 0, 0, 0, 0, 0, 0, 0, 0, 0, 0, 0, 0, 0, 0, 0, 0, 0, 0, 0, 0, 0, 0, 0, 0, 0, 0, 0, 0, 0, 0, 0, 0, 0, 0, 0, 0, 0, 0, 0, 0, 0, 0, 0, 0, 0, 0, 0, 0, 0, 0, 0, 0, 0, 0, 0, 0, 0, 0, 0, 0, 0, 0, 0, 0, 0, 0, 0, 0, 0, 0, 0, 0, 0, 0, 0, 0, 0, 0, 0, 0, 0, 0, 0, 0, 0, 0, 0, 0, 0, 0, 0, 0, 0, 0, 0, 0, 0, 0, 0, 0, 0, 0, 0, 0, 0, 0, 0, 0, 0, 0, 0, 0, 0, 0, 0, 0, 0, 0, 0, 0, 0, 0, 0, 0, 0, 0, 0, 0, 0, 0, 0, 0, 0, 0, 0, 0, 0, 0, 0, 0, 0, 0, 0, 0, 0, 0, 0, 0, 0, 0, 0, 0, 0, 0, 0, 0, 0, 0, 0, 0, 0, 0, 0, 0, 0, 0, 0, 0, 0, 0, 0, 0, 0, 0, 0, 0, 0, 0, 0, 0, 0, 0, 0, 0, 0, 0, 0, 0, 0, 0, 0, 0, 0, 0, 0, 0, 0, 0, 0, 0, 0, 0, 0, 0, 0, 0, 0, 0, 0, 0, 0, 0, 0, 0, 0, 0, 0, 0, 0, 0, 0, 0, 0, 0, 0, 0, 0, 0, 0, 0, 0, 0, 0, 0, 0, 0, 0, 0, 0, 0, 0, 0, 0, 0, 0, 0, 0, 0, 0, 0, 0, 0, 0, 0, 0, 0, 0, 0, 0, 0, 0, 0, 0, 0, 0, 0, 0, 0, 0, 0, 0, 0, 0, 0, 0, 0, 0, 0, 0, 0, 0, 0, 0, 0, 0, 0, 0, 0, 0, 0, 0, 0, 0, 0, 0, 0, 0, 0, 0, 0, 0, 0, 0, 0, 0, 0, 0, 0, 0, 0, 0, 0, 0, 0, 0, 0, 0, 0, 0, 0, 0, 0, 0, 0, 0, 0, 0, 0, 0, 0, 0, 0, 0, 0, 0, 0, 0, 0, 0, 0, 0, 1, 0, 0, 0, 0, 0, 0, 0, 0, 0, 0, 0, 0, 0, 0, 0, 0, 0, 0, 0, 0, 0, 0, 0, 0, 0, 0, 0, 0, 0, 0, 0, 0, 0, 0, 0, 0, 0, 0, 0, 0, 0, 0, 0, 0, 0, 0, 0, 0, 0, 0, 0, 0, 0, 0, 0, 0, 0, 0, 0, 0, 0, 0, 0, 0, 0, 0, 0, 0, 0, 0, 0, 0, 0, 0, 0, 0, 0, 0, 0, 0, 0, 0, 0, 0, 0, 0, 0, 0, 0, 0, 0, 0, 0, 0, 0, 0, 0, 0, 0, 0, 0, 0, 0, 0, 0, 0, 0, 0, 0, 0, 2, 0, 0, 0, 0, 0, 0, 0, 0, 0, 0, 0, 0, 0, 0, 0, 0, 0, 0, 0, 0, 0, 0, 0, 0, 0, 0, 0, 0, 0, 0, 0, 0, 0, 0, 0, 0, 0, 0, 0, 0, 0, 0, 0, 0, 0, 0, 0, 0, 0, 0, 0, 0, 0, 0, 0, 0, 0, 0, 0, 0, 0, 0, 0, 0, 0, 0, 0, 0, 0, 0, 0, 0, 0, 0, 0, 0, 0, 0, 0, 0, 0, 0, 0, 0, 0, 0, 0, 0, 0, 0, 0, 0, 0, 0, 0, 0, 0, 0, 0, 0, 0, 0, 0, 0, 0, 0, 0, 0, 0, 0, 0, 0, 0, 0, 0, 0, 0, 0, 0, 0, 0, 0, 0, 0, 0, 0, 0, 0, 0, 0, 0, 0, 0, 0, 0, 0, 0, 0, 0, 0, 0, 0, 0, 0, 0, 0, 0, 0, 0, 0, 0, 0, 0, 0, 0, 0, 0, 0, 0, 0, 0, 0, 0, 0, 0, 0, 0, 0, 0, 0, 0, 0, 0, 0, 0, 0, 0, 0, 0, 0, 0, 0, 0, 0, 0, 0, 0, 0, 0, 0, 0, 0, 0, 0, 0, 0, 0, 0, 0, 0, 0, 0, 0, 0, 0, 0, 0, 0, 0, 0, 0, 0, 0, 0, 0, 0, 0, 0, 0, 0, 0, 0, 0, 0, 0, 0, 0, 0, 0, 0, 0, 0, 0, 0, 0, 0, 0, 0, 0, 0, 0, 0, 0, 0, 0, 0, 0, 0, 0, 0, 0, 0, 0, 0, 0, 0, 0, 0, 0, 0, 0, 0, 0, 0, 0, 0, 0, 0, 0, 0, 0, 0, 0, 0, 0, 0, 0, 0, 0, 0, 0, 0, 0, 0, 0, 0, 0, 0, 0, 0, 0, 0, 0, 0, 0, 0, 0, 0, 0, 0, 0, 0, 0, 0, 0, 0, 0, 0, 0, 0, 0, 0, 0, 0, 0, 0, 0, 0, 0, 0, 0, 0, 0, 0, 0, 0, 0, 0, 0, 0, 0, 0, 0, 0, 0, 0, 0, 0, 0, 0, 0, 0, 0, 0, 0, 0, 0, 0, 0, 0, 0, 0, 0, 0, 0, 0, 0, 0, 0, 0, 0, 0, 0, 0, 0, 0, 0, 0, 0, 0, 0, 0, 0, 0, 0, 0, 0, 0, 0, 0, 0, 0, 0, 0, 0, 0, 0, 0, 0, 0, 0, 0, 0, 0, 0, 0, 0, 0, 0, 0, 0, 0, 0, 0, 0, 0, 0, 0, 0, 0, 0, 0, 0, 0, 0, 0, 0, 0, 0, 0, 0, 0, 0, 0, 0, 0, 0, 0, 0, 0, 0, 0, 0, 0, 0, 0, 0, 0, 0, 0, 0, 0, 0, 0, 0, 0, 0, 0, 0, 0, 0, 0, 0, 0, 0, 0, 0, 0, 0, 0, 0, 0, 0, 0, 0, 0, 0, 0, 0, 0, 0, 0, 0, 0, 0, 0, 0, 0, 0, 0, 0, 0, 0, 0, 0, 0, 0, 0, 0, 0, 0, 0, 0, 0, 0, 0, 0, 0, 0, 0, 0, 0, 0, 0, 0, 0, 0, 0, 0, 0, 0, 0, 0, 0, 0, 0, 0, 0, 0, 0, 0, 0, 0, 0, 0, 0, 0, 0, 0, 0, 0, 0, 0, 0, 0, 0, 0, 0, 0, 0, 0, 0, 0, 0, 0, 0, 0, 0, 0, 0, 0, 0, 0, 0, 0, 0, 0, 0, 0, 0, 0, 0, 0, 0, 0, 0, 0, 0, 0, 0, 0, 0, 0, 0, 0, 0, 0, 0, 0, 0, 0, 0, 0, 0, 0, 0, 0, 0, 0, 0, 0, 0, 0, 0, 0, 0, 0, 0, 0, 0, 0, 0, 0, 0, 0, 0, 0, 0, 0, 0, 0, 0, 0, 0, 0, 0, 0, 0, 0, 0, 0, 0, 0, 0, 0, 0, 0, 0, 0, 0, 0, 0, 0, 0, 0, 0, 0, 0, 0, 0, 0, 0, 0, 0, 0, 0, 0, 0, 0, 0, 0, 0, 0, 0, 0, 0, 0, 0, 0, 0, 0, 0, 0, 0, 0, 0, 0, 0, 0, 0, 0, 0, 0, 0, 0, 0, 0, 0, 0, 0, 0, 0, 0, 0, 0, 0, 0, 0, 0, 0, 1, 0, 0, 0, 0, 0, 0, 0, 0, 0, 0, 0, 0, 0, 0, 0, 0, 0, 0, 0, 0, 0, 0, 0, 0, 0, 0, 0, 0, 0, 0, 0, 0, 0, 0, 0, 0, 0, 0, 0, 0, 0, 0, 0, 0, 0, 0, 0, 0, 0, 0, 0, 0, 0, 0, 0, 0, 0, 0, 0, 0, 0, 0, 0, 0, 0, 0, 0, 0, 0, 0, 0, 0, 0, 0, 0, 0, 0, 0, 0, 0, 0, 0, 0, 0, 0, 0, 0, 0, 0, 0, 0, 0, 0, 0, 0, 0, 0, 0, 0, 0, 0, 0, 0, 0, 0, 0, 0, 1, 0, 0, 0, 0, 0, 0, 0, 0, 0, 0, 0, 0, 0, 0, 0, 0, 0, 0, 0, 0, 0, 0, 0, 0, 0, 0, 0, 0, 0, 0, 0, 0, 0, 0, 0, 0, 0, 0, 0, 0, 0, 0, 0, 0, 0, 0, 0, 0, 0, 0, 0, 0, 0, 0, 0, 0, 0, 0, 0, 0, 0, 0, 0, 0, 0, 0, 0, 0, 0, 0, 0, 0, 0, 0, 0, 0, 0, 0, 0, 0, 0, 0, 0, 0, 0, 0, 0, 0, 0, 0, 0, 0, 0, 0, 0, 0, 0, 0, 0, 0, 0, 0, 0, 0, 0, 0, 0, 0, 0, 0, 0, 0, 0, 0, 0, 0, 0, 0, 0, 0, 0, 0, 0, 0, 0, 0, 0, 0, 0, 0, 0, 0, 0, 0, 0, 0, 0, 0, 0, 0, 0, 0, 0, 0, 0, 0, 0, 0, 0, 0, 0, 0, 0, 0, 0, 0, 0, 0, 0, 0, 0, 0, 0, 0, 0, 0, 0, 0, 0, 0, 0, 0, 0, 0, 0, 0, 0, 0, 0, 0, 0, 0, 0, 0, 0, 0, 0, 0, 0, 0, 0, 0, 0, 0, 0, 0, 0, 0, 0, 0, 0, 0, 0, 0, 0, 0, 0, 0, 0, 0, 0, 0, 0, 0, 0, 0, 0, 0, 0, 0, 0, 0, 0, 0, 0, 0, 0, 0, 0, 0, 0, 0, 0, 0, 0, 0, 0, 0, 0, 0, 0, 0, 0, 0, 0, 0, 0, 0, 0, 0, 0, 0, 0, 0, 0, 0, 0, 0, 0, 0, 0, 0, 0, 0, 0, 0, 0, 0, 0, 0, 0, 0, 0, 0, 0, 0, 0, 0, 0, 0, 0, 0, 0, 0, 0, 0, 0, 0, 0, 0, 0, 0, 0, 0, 0, 0, 0, 0, 0, 0, 0, 0, 0, 0, 0, 0, 0, 0, 0, 0, 0, 0, 0, 0, 0, 0, 0, 0, 0, 0, 0, 0, 0, 0, 0, 0, 0, 0, 0, 0, 0, 0, 0, 0, 0, 0, 0, 0, 0, 0, 0, 0, 0, 0, 0, 0, 0, 0, 0, 0, 0, 0, 0, 0, 0, 0, 0, 0, 0, 0, 0, 0, 0, 0, 0, 0, 0, 0, 0, 0, 0, 0, 0, 0, 0, 0, 0, 0, 0, 0, 0, 0, 0, 0, 0, 0, 0, 0, 0, 0, 0, 0, 0, 0, 0, 0, 0, 0, 0, 0, 0, 0, 0, 0, 0, 0, 0, 0, 0, 0, 0, 0, 0, 0, 0, 0, 0, 0, 0, 0, 0, 0, 0, 0, 0, 0, 0, 0, 0, 0, 0, 0, 0, 0, 0, 0, 0, 0, 0, 0, 0, 0, 0, 0, 0, 0, 0, 0, 0, 0, 0, 0, 0, 0, 0, 0, 0, 0, 0, 0, 0, 0, 2, 0, 1, 0]\n"
     ]
    }
   ],
   "source": [
    "test_bow = bow_encoding(test_words, vocabulary)\n",
    "print(test_bow)"
   ]
  },
  {
   "cell_type": "code",
   "execution_count": 42,
   "metadata": {},
   "outputs": [
    {
     "data": {
      "text/plain": [
       "5000"
      ]
     },
     "execution_count": 42,
     "metadata": {},
     "output_type": "execute_result"
    }
   ],
   "source": [
    "len(test_bow)"
   ]
  },
  {
   "cell_type": "markdown",
   "metadata": {},
   "source": [
    "So now we know how to construct a bag of words encoding of a user provided review, how to we send it to our endpoint? First, we need to start the endpoint back up."
   ]
  },
  {
   "cell_type": "code",
   "execution_count": 58,
   "metadata": {},
   "outputs": [
    {
     "name": "stderr",
     "output_type": "stream",
     "text": [
      "Parameter image will be renamed to image_uri in SageMaker Python SDK v2.\n",
      "Using already existing model: xgboost-2020-10-03-07-31-08-028\n"
     ]
    },
    {
     "name": "stdout",
     "output_type": "stream",
     "text": [
      "---------------!"
     ]
    }
   ],
   "source": [
    "xgb_predictor = xgb.deploy(initial_instance_count = 1, instance_type = 'ml.m4.xlarge')"
   ]
  },
  {
   "cell_type": "markdown",
   "metadata": {},
   "source": [
    "At this point we could just do the same thing that we did earlier when we tested our deployed model and send `test_bow` to our endpoint using the `xgb_predictor` object. However, when we eventually construct our Lambda function we won't have access to this object, so how do we call a SageMaker endpoint?\n",
    "\n",
    "It turns out that Python functions that are used in Lambda have access to another Amazon library called `boto3`. This library provides an API for working with Amazon services, including SageMaker. To start with, we need to get a handle to the SageMaker runtime."
   ]
  },
  {
   "cell_type": "code",
   "execution_count": 59,
   "metadata": {},
   "outputs": [],
   "source": [
    "import boto3\n",
    "\n",
    "runtime = boto3.Session().client('sagemaker-runtime')"
   ]
  },
  {
   "cell_type": "markdown",
   "metadata": {},
   "source": [
    "And now that we have access to the SageMaker runtime, we can ask it to make use of (invoke) an endpoint that has already been created. However, we need to provide SageMaker with the name of the deployed endpoint. To find this out we can print it out using the `xgb_predictor` object."
   ]
  },
  {
   "cell_type": "code",
   "execution_count": 60,
   "metadata": {},
   "outputs": [
    {
     "data": {
      "text/plain": [
       "'xgboost-2020-10-03-07-31-08-028'"
      ]
     },
     "execution_count": 60,
     "metadata": {},
     "output_type": "execute_result"
    }
   ],
   "source": [
    "xgb_predictor.endpoint"
   ]
  },
  {
   "cell_type": "markdown",
   "metadata": {},
   "source": [
    "Using the SageMaker runtime and the name of our endpoint, we can invoke the endpoint and send it the `test_bow` data."
   ]
  },
  {
   "cell_type": "code",
   "execution_count": 52,
   "metadata": {},
   "outputs": [
    {
     "ename": "ParamValidationError",
     "evalue": "Parameter validation failed:\nInvalid type for parameter Body, value: [0, 0, 0, 0, 0, 0, 0, 0, 0, 0, 0, 0, 0, 0, 0, 0, 0, 0, 0, 0, 0, 0, 0, 0, 0, 0, 0, 0, 0, 0, 0, 0, 0, 0, 0, 0, 0, 0, 0, 0, 0, 0, 0, 0, 0, 0, 0, 0, 0, 0, 0, 0, 0, 0, 0, 0, 0, 0, 0, 0, 0, 0, 0, 0, 0, 0, 0, 0, 0, 0, 0, 0, 0, 0, 0, 0, 0, 0, 0, 0, 0, 0, 0, 0, 0, 0, 0, 0, 0, 0, 0, 0, 0, 0, 0, 0, 0, 0, 0, 0, 0, 0, 0, 0, 0, 0, 0, 0, 0, 0, 0, 0, 0, 0, 0, 0, 0, 0, 0, 0, 0, 0, 0, 0, 0, 0, 0, 0, 0, 0, 0, 0, 0, 0, 0, 0, 0, 0, 0, 0, 0, 0, 0, 0, 0, 0, 0, 0, 0, 0, 0, 0, 0, 0, 0, 0, 0, 0, 0, 0, 0, 0, 0, 0, 0, 0, 0, 0, 0, 0, 0, 0, 0, 0, 0, 0, 0, 0, 0, 0, 0, 0, 0, 0, 0, 0, 0, 0, 0, 0, 0, 0, 0, 0, 0, 0, 0, 0, 0, 0, 0, 0, 0, 0, 0, 0, 0, 0, 0, 0, 0, 0, 0, 0, 0, 0, 0, 0, 0, 0, 0, 0, 0, 0, 0, 0, 1, 0, 0, 0, 0, 0, 0, 0, 0, 0, 0, 0, 0, 0, 0, 0, 0, 0, 0, 0, 0, 0, 0, 0, 0, 0, 0, 0, 0, 1, 0, 0, 0, 0, 0, 0, 0, 0, 0, 0, 0, 0, 0, 0, 0, 0, 0, 0, 0, 0, 0, 0, 0, 0, 0, 0, 0, 0, 0, 0, 0, 0, 0, 0, 0, 0, 0, 0, 0, 0, 0, 0, 0, 0, 0, 0, 0, 0, 0, 0, 0, 0, 0, 0, 0, 0, 0, 0, 0, 0, 0, 0, 0, 0, 0, 0, 0, 0, 0, 0, 0, 0, 0, 0, 0, 0, 0, 0, 0, 0, 0, 0, 0, 0, 0, 0, 0, 0, 0, 0, 0, 0, 0, 0, 0, 0, 0, 0, 0, 0, 0, 0, 0, 0, 0, 0, 0, 0, 0, 0, 0, 0, 0, 0, 0, 0, 0, 0, 0, 0, 0, 0, 0, 0, 0, 0, 0, 0, 0, 0, 0, 0, 0, 0, 0, 0, 0, 0, 0, 0, 0, 0, 0, 0, 0, 0, 0, 0, 0, 0, 0, 0, 0, 0, 0, 0, 0, 0, 0, 0, 0, 0, 0, 0, 0, 0, 0, 0, 0, 0, 0, 0, 0, 0, 0, 0, 0, 0, 0, 0, 0, 0, 0, 0, 0, 0, 0, 0, 0, 0, 0, 0, 0, 0, 0, 0, 0, 0, 0, 0, 0, 0, 0, 0, 0, 0, 0, 0, 0, 0, 0, 0, 0, 0, 0, 0, 0, 0, 0, 0, 0, 0, 0, 0, 0, 0, 0, 0, 0, 0, 0, 0, 0, 0, 0, 0, 0, 0, 0, 0, 0, 0, 0, 0, 0, 0, 0, 0, 0, 0, 0, 0, 0, 0, 0, 0, 0, 0, 0, 0, 0, 0, 0, 0, 0, 0, 0, 0, 0, 0, 0, 0, 0, 0, 0, 0, 0, 0, 0, 0, 0, 0, 0, 0, 0, 0, 0, 0, 0, 0, 0, 0, 0, 0, 0, 0, 0, 0, 0, 0, 0, 0, 0, 0, 0, 0, 0, 0, 0, 0, 0, 0, 0, 0, 0, 0, 0, 0, 0, 0, 0, 0, 0, 0, 0, 0, 0, 0, 0, 0, 0, 0, 0, 0, 0, 0, 0, 0, 0, 0, 0, 0, 0, 0, 0, 0, 0, 0, 0, 0, 0, 0, 0, 0, 0, 0, 0, 0, 0, 0, 0, 0, 0, 0, 0, 0, 0, 0, 0, 0, 0, 0, 0, 0, 0, 0, 0, 0, 0, 1, 0, 0, 0, 0, 0, 0, 0, 0, 0, 0, 0, 0, 0, 0, 0, 0, 0, 0, 0, 0, 0, 0, 0, 0, 0, 0, 0, 0, 0, 0, 0, 0, 0, 0, 0, 0, 0, 0, 0, 0, 0, 0, 0, 0, 0, 0, 0, 0, 0, 0, 0, 0, 0, 0, 0, 0, 0, 0, 0, 0, 0, 0, 0, 0, 0, 0, 0, 0, 0, 0, 0, 0, 0, 0, 0, 0, 0, 0, 0, 0, 0, 0, 0, 0, 0, 0, 0, 0, 0, 0, 0, 0, 0, 0, 0, 0, 0, 0, 0, 0, 0, 0, 0, 0, 0, 0, 0, 0, 0, 0, 0, 0, 0, 0, 0, 0, 0, 0, 0, 0, 0, 0, 0, 0, 0, 0, 0, 0, 0, 0, 0, 0, 0, 0, 0, 0, 0, 0, 0, 0, 0, 0, 0, 0, 0, 0, 0, 0, 0, 0, 0, 0, 0, 0, 0, 0, 0, 0, 0, 0, 0, 0, 0, 0, 0, 0, 0, 0, 0, 0, 0, 0, 0, 0, 0, 0, 0, 0, 0, 0, 0, 0, 0, 0, 0, 0, 0, 0, 0, 0, 0, 0, 0, 0, 0, 0, 0, 0, 0, 0, 0, 0, 0, 0, 0, 0, 0, 0, 0, 0, 0, 0, 0, 0, 0, 0, 0, 0, 0, 0, 0, 0, 0, 0, 0, 0, 0, 0, 0, 0, 0, 0, 0, 0, 0, 0, 0, 0, 0, 0, 0, 0, 0, 0, 0, 0, 0, 0, 0, 0, 0, 0, 0, 1, 0, 0, 0, 0, 0, 0, 0, 0, 0, 0, 0, 0, 0, 0, 0, 0, 0, 0, 0, 0, 0, 0, 0, 0, 0, 0, 0, 0, 0, 0, 0, 0, 0, 0, 0, 0, 0, 0, 0, 0, 0, 0, 0, 0, 0, 0, 0, 0, 0, 0, 0, 0, 0, 0, 0, 0, 0, 0, 0, 0, 0, 0, 0, 0, 0, 0, 0, 0, 0, 0, 0, 0, 0, 0, 0, 0, 0, 0, 0, 0, 0, 0, 0, 0, 0, 0, 0, 1, 0, 0, 0, 0, 0, 0, 0, 0, 0, 0, 0, 0, 0, 0, 0, 0, 0, 0, 0, 0, 0, 0, 0, 0, 0, 0, 0, 0, 0, 0, 0, 0, 0, 0, 0, 0, 0, 0, 0, 0, 0, 0, 0, 0, 0, 0, 0, 0, 0, 0, 0, 0, 0, 0, 0, 0, 0, 0, 0, 0, 0, 0, 0, 0, 0, 0, 0, 0, 0, 0, 0, 0, 0, 0, 0, 0, 0, 0, 0, 0, 0, 0, 0, 0, 0, 0, 0, 0, 0, 0, 0, 0, 0, 0, 0, 0, 0, 0, 0, 0, 0, 0, 0, 0, 0, 0, 0, 0, 0, 0, 0, 0, 0, 0, 0, 0, 0, 0, 0, 0, 0, 0, 0, 0, 0, 0, 0, 0, 0, 0, 0, 0, 0, 0, 0, 0, 0, 0, 0, 0, 0, 0, 0, 0, 0, 0, 0, 0, 0, 0, 0, 0, 0, 0, 0, 0, 0, 0, 0, 0, 0, 0, 0, 0, 0, 0, 0, 0, 0, 0, 0, 0, 0, 0, 0, 0, 0, 0, 0, 0, 0, 0, 0, 0, 0, 0, 0, 0, 0, 0, 0, 0, 0, 0, 0, 0, 0, 0, 0, 0, 0, 0, 0, 0, 0, 0, 0, 0, 0, 0, 0, 0, 0, 0, 0, 0, 0, 0, 0, 0, 0, 0, 0, 0, 0, 0, 0, 0, 0, 0, 0, 0, 0, 0, 0, 0, 0, 0, 0, 0, 0, 0, 0, 0, 0, 0, 0, 0, 0, 0, 0, 1, 0, 0, 0, 0, 0, 0, 0, 0, 0, 0, 0, 0, 0, 0, 0, 0, 0, 0, 0, 0, 0, 0, 0, 0, 0, 0, 0, 0, 0, 0, 0, 0, 0, 0, 0, 0, 0, 0, 0, 0, 0, 0, 0, 0, 0, 0, 0, 0, 0, 0, 0, 0, 0, 0, 0, 1, 0, 0, 0, 0, 0, 0, 0, 0, 0, 0, 0, 0, 0, 0, 0, 0, 0, 0, 0, 0, 0, 0, 0, 0, 0, 0, 0, 0, 0, 0, 0, 0, 0, 0, 0, 0, 0, 0, 0, 0, 0, 0, 0, 0, 0, 0, 0, 0, 0, 0, 0, 0, 0, 0, 0, 0, 0, 0, 0, 0, 0, 0, 0, 0, 0, 0, 0, 0, 0, 0, 0, 0, 0, 0, 0, 0, 0, 0, 0, 0, 0, 0, 0, 0, 0, 0, 0, 0, 0, 0, 0, 0, 0, 0, 0, 0, 0, 0, 0, 0, 0, 0, 0, 0, 0, 0, 0, 0, 0, 0, 0, 0, 0, 0, 0, 0, 0, 0, 0, 0, 0, 0, 0, 0, 0, 0, 0, 0, 0, 0, 0, 0, 0, 0, 0, 0, 0, 0, 0, 0, 0, 0, 0, 0, 0, 0, 0, 0, 0, 0, 0, 0, 0, 0, 0, 0, 0, 0, 0, 0, 0, 0, 0, 0, 0, 0, 0, 0, 0, 0, 0, 0, 0, 0, 0, 0, 0, 0, 0, 0, 0, 0, 0, 0, 0, 0, 0, 0, 0, 0, 0, 0, 0, 0, 0, 0, 0, 0, 0, 0, 0, 0, 0, 0, 0, 0, 0, 0, 0, 0, 0, 0, 0, 0, 0, 0, 0, 0, 0, 0, 0, 0, 0, 0, 0, 0, 0, 0, 0, 0, 0, 0, 0, 0, 0, 0, 0, 0, 0, 0, 0, 0, 0, 0, 0, 0, 0, 0, 0, 0, 0, 0, 0, 0, 0, 0, 0, 0, 0, 0, 0, 0, 0, 0, 0, 0, 0, 0, 0, 0, 0, 0, 0, 0, 0, 0, 0, 0, 0, 0, 0, 0, 0, 0, 0, 0, 0, 0, 0, 0, 0, 0, 0, 0, 0, 0, 0, 0, 0, 0, 0, 0, 0, 0, 0, 0, 0, 0, 0, 0, 0, 0, 0, 0, 0, 0, 0, 0, 0, 0, 0, 0, 0, 0, 0, 0, 0, 0, 0, 0, 0, 0, 0, 0, 0, 0, 0, 0, 0, 0, 0, 0, 0, 0, 0, 0, 0, 0, 0, 0, 0, 0, 0, 0, 0, 0, 0, 0, 0, 0, 0, 0, 0, 0, 0, 0, 0, 0, 0, 0, 0, 0, 0, 0, 0, 0, 0, 0, 0, 0, 0, 0, 0, 0, 0, 0, 0, 0, 0, 0, 0, 0, 0, 0, 0, 0, 0, 0, 0, 0, 0, 0, 0, 0, 0, 0, 0, 0, 0, 0, 0, 0, 0, 0, 0, 0, 0, 0, 0, 0, 0, 0, 0, 0, 0, 0, 0, 0, 0, 0, 0, 0, 0, 0, 0, 0, 0, 0, 0, 0, 0, 0, 0, 0, 0, 0, 0, 0, 0, 0, 0, 0, 0, 0, 0, 0, 0, 0, 0, 0, 0, 0, 0, 0, 0, 0, 0, 0, 0, 0, 0, 0, 0, 0, 0, 0, 0, 0, 0, 0, 0, 0, 0, 0, 0, 0, 0, 0, 0, 0, 0, 0, 0, 0, 0, 0, 0, 0, 0, 0, 0, 0, 0, 0, 0, 0, 0, 0, 0, 0, 0, 0, 0, 0, 0, 0, 0, 0, 0, 0, 0, 0, 0, 0, 0, 0, 0, 0, 0, 0, 0, 0, 0, 0, 0, 0, 0, 0, 0, 0, 0, 0, 0, 0, 0, 0, 0, 0, 0, 0, 0, 0, 0, 0, 0, 0, 0, 0, 0, 0, 0, 0, 0, 0, 0, 0, 0, 0, 0, 0, 0, 0, 0, 0, 0, 0, 0, 0, 0, 0, 0, 0, 0, 0, 0, 0, 0, 0, 0, 0, 0, 0, 0, 0, 0, 0, 0, 0, 0, 0, 0, 0, 0, 0, 0, 0, 0, 0, 0, 0, 0, 0, 0, 0, 0, 0, 0, 0, 0, 0, 0, 0, 0, 0, 0, 0, 0, 0, 0, 0, 0, 0, 0, 0, 0, 0, 0, 0, 0, 0, 0, 0, 0, 0, 0, 0, 0, 0, 0, 0, 0, 0, 0, 0, 0, 0, 0, 0, 0, 0, 0, 0, 0, 0, 0, 0, 0, 0, 0, 0, 0, 0, 0, 0, 0, 0, 0, 0, 0, 0, 0, 1, 0, 0, 0, 0, 0, 0, 0, 0, 0, 0, 0, 0, 0, 0, 0, 0, 0, 0, 0, 0, 0, 0, 0, 0, 0, 0, 0, 0, 0, 0, 0, 0, 0, 0, 0, 0, 0, 0, 0, 0, 0, 0, 0, 0, 0, 0, 0, 0, 0, 0, 0, 0, 0, 0, 0, 0, 0, 0, 0, 0, 0, 0, 0, 0, 0, 0, 0, 0, 0, 0, 0, 0, 0, 0, 1, 0, 0, 0, 0, 0, 0, 0, 0, 0, 0, 0, 0, 0, 0, 0, 0, 0, 0, 0, 0, 1, 0, 0, 1, 0, 0, 0, 0, 0, 0, 0, 0, 0, 0, 0, 0, 0, 0, 0, 0, 0, 0, 0, 0, 0, 0, 0, 0, 0, 0, 0, 0, 0, 0, 0, 0, 0, 0, 0, 0, 0, 0, 0, 0, 0, 0, 0, 0, 0, 0, 0, 0, 0, 0, 0, 0, 0, 0, 0, 0, 0, 0, 0, 0, 0, 0, 0, 0, 0, 0, 0, 0, 0, 0, 0, 0, 0, 0, 0, 0, 0, 0, 0, 0, 0, 0, 0, 0, 0, 0, 0, 0, 0, 0, 0, 0, 0, 0, 0, 0, 0, 0, 0, 0, 0, 0, 0, 0, 0, 0, 0, 0, 0, 0, 0, 0, 0, 0, 0, 0, 0, 0, 0, 0, 0, 0, 0, 0, 0, 0, 0, 0, 0, 0, 0, 0, 0, 0, 0, 0, 0, 0, 0, 0, 0, 0, 0, 0, 0, 0, 0, 0, 0, 0, 0, 0, 0, 0, 0, 0, 0, 0, 0, 0, 0, 0, 0, 0, 0, 0, 0, 0, 0, 0, 0, 0, 0, 0, 0, 0, 0, 0, 0, 0, 0, 0, 0, 0, 0, 0, 0, 0, 0, 0, 0, 0, 0, 0, 0, 0, 0, 0, 0, 0, 0, 0, 0, 0, 0, 0, 0, 0, 0, 0, 0, 0, 0, 0, 0, 0, 0, 0, 0, 0, 0, 0, 0, 0, 0, 0, 0, 0, 0, 0, 0, 0, 0, 0, 0, 0, 0, 0, 0, 0, 0, 0, 0, 0, 0, 0, 0, 0, 0, 0, 0, 0, 0, 0, 0, 0, 0, 0, 0, 0, 0, 0, 0, 0, 0, 0, 0, 0, 0, 0, 0, 0, 0, 0, 0, 0, 0, 0, 0, 0, 0, 0, 0, 0, 0, 0, 0, 0, 0, 0, 0, 0, 0, 0, 0, 0, 0, 0, 0, 0, 0, 0, 0, 0, 0, 0, 0, 0, 0, 0, 0, 0, 0, 0, 0, 0, 0, 0, 0, 0, 0, 0, 0, 0, 0, 0, 0, 0, 0, 0, 0, 0, 0, 0, 0, 0, 0, 0, 0, 0, 0, 0, 0, 0, 0, 0, 0, 0, 0, 0, 0, 0, 0, 0, 0, 0, 0, 0, 0, 0, 0, 0, 0, 0, 0, 0, 0, 0, 0, 0, 0, 0, 0, 0, 0, 0, 0, 0, 0, 0, 0, 0, 0, 0, 0, 0, 0, 0, 0, 0, 0, 0, 0, 0, 0, 0, 0, 0, 0, 0, 0, 0, 0, 0, 0, 0, 0, 0, 0, 0, 0, 0, 0, 0, 0, 0, 0, 0, 0, 0, 0, 0, 0, 0, 0, 0, 0, 0, 0, 0, 0, 0, 0, 0, 0, 0, 0, 0, 0, 0, 0, 0, 0, 0, 0, 0, 0, 0, 0, 0, 0, 0, 0, 0, 0, 0, 0, 0, 0, 0, 0, 0, 0, 0, 0, 0, 0, 1, 0, 0, 0, 0, 0, 0, 0, 0, 0, 0, 0, 0, 0, 0, 0, 0, 0, 0, 0, 0, 0, 0, 0, 0, 0, 0, 0, 0, 0, 0, 0, 0, 0, 0, 0, 0, 0, 0, 0, 0, 0, 0, 0, 0, 0, 0, 0, 0, 0, 0, 0, 0, 0, 0, 0, 0, 0, 0, 0, 0, 0, 0, 0, 0, 0, 0, 0, 0, 0, 0, 0, 0, 0, 0, 0, 0, 0, 0, 0, 0, 0, 0, 0, 0, 0, 0, 0, 0, 0, 0, 0, 0, 0, 0, 0, 0, 0, 0, 0, 0, 0, 0, 0, 0, 0, 0, 0, 0, 0, 0, 0, 0, 0, 0, 0, 0, 0, 0, 0, 0, 0, 0, 0, 0, 0, 0, 0, 0, 0, 0, 0, 0, 0, 0, 0, 0, 0, 0, 0, 0, 0, 0, 0, 0, 0, 0, 0, 0, 0, 0, 0, 0, 0, 0, 0, 0, 0, 0, 0, 0, 0, 0, 0, 0, 0, 0, 0, 0, 0, 0, 0, 0, 0, 0, 0, 0, 0, 0, 0, 0, 0, 0, 0, 0, 0, 0, 0, 0, 0, 0, 0, 0, 0, 0, 0, 0, 0, 0, 0, 0, 0, 0, 0, 0, 0, 0, 0, 0, 0, 0, 0, 0, 0, 0, 0, 0, 0, 0, 0, 0, 0, 0, 0, 0, 0, 0, 0, 0, 0, 0, 0, 0, 0, 0, 0, 0, 0, 0, 0, 0, 0, 0, 0, 0, 0, 0, 0, 0, 0, 0, 0, 0, 0, 0, 0, 0, 0, 0, 0, 0, 0, 0, 0, 0, 0, 0, 0, 0, 0, 0, 0, 0, 0, 0, 0, 0, 0, 0, 0, 0, 0, 0, 0, 0, 0, 0, 0, 0, 0, 0, 0, 0, 0, 0, 0, 0, 0, 0, 0, 0, 0, 0, 0, 0, 0, 0, 0, 0, 0, 0, 0, 0, 0, 0, 0, 0, 0, 0, 0, 0, 0, 0, 0, 0, 0, 0, 0, 0, 0, 0, 0, 0, 0, 0, 0, 0, 0, 0, 0, 0, 0, 0, 0, 0, 0, 0, 0, 0, 0, 0, 0, 0, 0, 0, 0, 0, 0, 0, 0, 0, 0, 0, 0, 0, 0, 0, 0, 0, 0, 0, 0, 0, 0, 0, 0, 0, 0, 0, 0, 0, 0, 0, 0, 0, 0, 0, 0, 0, 0, 0, 0, 0, 0, 0, 0, 0, 0, 0, 0, 0, 0, 0, 0, 0, 0, 0, 0, 0, 0, 0, 0, 0, 0, 0, 0, 0, 0, 0, 0, 0, 0, 0, 0, 0, 0, 0, 0, 0, 0, 0, 0, 0, 0, 0, 0, 0, 0, 0, 0, 0, 0, 0, 0, 0, 0, 0, 0, 0, 0, 0, 0, 0, 0, 0, 0, 0, 0, 0, 0, 0, 0, 0, 0, 0, 0, 0, 0, 0, 0, 0, 0, 0, 0, 0, 0, 0, 0, 0, 0, 0, 0, 0, 0, 0, 0, 0, 0, 0, 0, 0, 0, 0, 0, 0, 0, 0, 0, 0, 0, 0, 0, 0, 0, 0, 0, 0, 0, 0, 0, 0, 0, 0, 1, 0, 0, 0, 0, 0, 0, 0, 0, 0, 0, 0, 0, 0, 0, 0, 0, 0, 0, 0, 0, 0, 0, 0, 0, 0, 0, 0, 0, 0, 0, 0, 0, 0, 0, 0, 2, 0, 0, 0, 0, 0, 0, 0, 0, 0, 0, 0, 0, 0, 0, 0, 0, 0, 0, 0, 0, 0, 0, 0, 0, 0, 0, 0, 0, 0, 0, 0, 0, 0, 0, 0, 0, 0, 0, 0, 0, 1, 0, 0, 0, 0, 0, 0, 0, 0, 0, 0, 0, 0, 0, 0, 0, 0, 0, 0, 0, 0, 0, 0, 0, 0, 0, 0, 0, 0, 0, 0, 0, 0, 0, 0, 0, 0, 0, 0, 0, 0, 0, 0, 0, 0, 0, 0, 0, 0, 0, 0, 0, 0, 0, 0, 0, 0, 0, 0, 0, 0, 0, 0, 0, 0, 0, 0, 0, 0, 0, 0, 0, 0, 0, 0, 0, 0, 0, 0, 0, 0, 0, 0, 0, 0, 0, 0, 0, 0, 0, 0, 0, 0, 0, 0, 0, 0, 0, 0, 0, 0, 0, 0, 0, 0, 0, 0, 0, 0, 0, 0, 0, 0, 0, 0, 0, 0, 0, 0, 0, 0, 0, 0, 0, 0, 0, 0, 0, 0, 0, 0, 0, 0, 0, 0, 0, 0, 0, 0, 0, 0, 0, 0, 0, 0, 0, 0, 0, 0, 0, 0, 0, 0, 0, 0, 0, 0, 0, 0, 0, 0, 0, 0, 0, 0, 0, 0, 0, 0, 0, 0, 0, 0, 0, 0, 0, 0, 0, 0, 0, 0, 0, 0, 0, 0, 0, 0, 0, 0, 0, 0, 0, 0, 0, 0, 0, 0, 0, 0, 0, 0, 0, 0, 0, 0, 0, 0, 0, 0, 0, 0, 0, 0, 0, 0, 0, 0, 0, 0, 0, 0, 0, 0, 0, 0, 0, 0, 0, 0, 0, 0, 0, 0, 0, 0, 0, 0, 0, 0, 0, 0, 0, 0, 0, 0, 0, 0, 0, 0, 0, 0, 0, 0, 0, 0, 0, 0, 0, 0, 0, 0, 0, 0, 0, 0, 0, 0, 0, 0, 0, 0, 0, 0, 0, 0, 0, 0, 0, 0, 0, 0, 0, 0, 0, 0, 0, 0, 0, 0, 0, 0, 0, 0, 0, 0, 0, 0, 0, 0, 0, 0, 0, 0, 0, 0, 0, 0, 0, 0, 0, 0, 0, 0, 0, 0, 0, 0, 0, 0, 0, 0, 0, 0, 0, 0, 0, 0, 0, 0, 0, 0, 0, 0, 0, 0, 0, 0, 0, 0, 0, 0, 0, 0, 0, 0, 0, 0, 0, 0, 0, 0, 0, 0, 0, 0, 0, 0, 0, 0, 0, 0, 0, 0, 0, 0, 0, 0, 0, 0, 0, 0, 0, 0, 0, 0, 0, 0, 0, 0, 0, 0, 0, 0, 0, 0, 0, 0, 0, 0, 0, 0, 0, 0, 0, 0, 0, 0, 0, 0, 0, 0, 0, 0, 0, 0, 0, 0, 0, 0, 0, 0, 0, 0, 0, 0, 0, 0, 0, 0, 0, 0, 0, 0, 0, 0, 0, 0, 0, 0, 0, 0, 0, 0, 0, 0, 0, 0, 0, 0, 0, 0, 0, 0, 0, 0, 0, 0, 0, 0, 0, 0, 0, 0, 0, 0, 0, 0, 0, 0, 0, 0, 0, 0, 0, 0, 0, 0, 0, 0, 0, 0, 0, 0, 0, 0, 0, 0, 0, 0, 0, 0, 0, 0, 0, 0, 0, 0, 0, 0, 0, 0, 0, 0, 0, 0, 0, 0, 0, 0, 1, 0, 0, 0, 0, 0, 0, 0, 0, 0, 0, 0, 0, 0, 0, 0, 0, 0, 0, 0, 0, 0, 0, 0, 0, 0, 0, 0, 0, 0, 0, 0, 0, 0, 0, 0, 0, 0, 0, 0, 0, 0, 0, 0, 0, 0, 0, 0, 0, 0, 0, 0, 0, 0, 0, 0, 0, 0, 0, 0, 0, 0, 0, 0, 0, 0, 0, 0, 0, 0, 0, 0, 0, 0, 0, 0, 0, 0, 0, 0, 0, 0, 0, 0, 0, 0, 0, 0, 0, 0, 0, 0, 0, 0, 0, 0, 0, 0, 0, 0, 0, 0, 0, 0, 0, 0, 0, 0, 0, 0, 0, 2, 0, 0, 0, 0, 0, 0, 0, 0, 0, 0, 0, 0, 0, 0, 0, 0, 0, 0, 0, 0, 0, 0, 0, 0, 0, 0, 0, 0, 0, 0, 0, 0, 0, 0, 0, 0, 0, 0, 0, 0, 0, 0, 0, 0, 0, 0, 0, 0, 0, 0, 0, 0, 0, 0, 0, 0, 0, 0, 0, 0, 0, 0, 0, 0, 0, 0, 0, 0, 0, 0, 0, 0, 0, 0, 0, 0, 0, 0, 0, 0, 0, 0, 0, 0, 0, 0, 0, 0, 0, 0, 0, 0, 0, 0, 0, 0, 0, 0, 0, 0, 0, 0, 0, 0, 0, 0, 0, 0, 0, 0, 0, 0, 0, 0, 0, 0, 0, 0, 0, 0, 0, 0, 0, 0, 0, 0, 0, 0, 0, 0, 0, 0, 0, 0, 0, 0, 0, 0, 0, 0, 0, 0, 0, 0, 0, 0, 0, 0, 0, 0, 0, 0, 0, 0, 0, 0, 0, 0, 0, 0, 0, 0, 0, 0, 0, 0, 0, 0, 0, 0, 0, 0, 0, 0, 0, 0, 0, 0, 0, 0, 0, 0, 0, 0, 0, 0, 0, 0, 0, 0, 0, 0, 0, 0, 0, 0, 0, 0, 0, 0, 0, 0, 0, 0, 0, 0, 0, 0, 0, 0, 0, 0, 0, 0, 0, 0, 0, 0, 0, 0, 0, 0, 0, 0, 0, 0, 0, 0, 0, 0, 0, 0, 0, 0, 0, 0, 0, 0, 0, 0, 0, 0, 0, 0, 0, 0, 0, 0, 0, 0, 0, 0, 0, 0, 0, 0, 0, 0, 0, 0, 0, 0, 0, 0, 0, 0, 0, 0, 0, 0, 0, 0, 0, 0, 0, 0, 0, 0, 0, 0, 0, 0, 0, 0, 0, 0, 0, 0, 0, 0, 0, 0, 0, 0, 0, 0, 0, 0, 0, 0, 0, 0, 0, 0, 0, 0, 0, 0, 0, 0, 0, 0, 0, 0, 0, 0, 0, 0, 0, 0, 0, 0, 0, 0, 0, 0, 0, 0, 0, 0, 0, 0, 0, 0, 0, 0, 0, 0, 0, 0, 0, 0, 0, 0, 0, 0, 0, 0, 0, 0, 0, 0, 0, 0, 0, 0, 0, 0, 0, 0, 0, 0, 0, 0, 0, 0, 0, 0, 0, 0, 0, 0, 0, 0, 0, 0, 0, 0, 0, 0, 0, 0, 0, 0, 0, 0, 0, 0, 0, 0, 0, 0, 0, 0, 0, 0, 0, 0, 0, 0, 0, 0, 0, 0, 0, 0, 0, 0, 0, 0, 0, 0, 0, 0, 0, 0, 0, 0, 0, 0, 0, 0, 0, 0, 0, 0, 0, 0, 0, 0, 0, 0, 0, 0, 0, 0, 0, 0, 0, 0, 0, 0, 0, 0, 0, 0, 0, 0, 0, 0, 0, 0, 0, 0, 0, 0, 0, 0, 0, 0, 0, 0, 0, 0, 0, 0, 0, 0, 0, 0, 0, 0, 0, 0, 0, 0, 0, 0, 0, 0, 0, 0, 0, 0, 0, 0, 0, 0, 0, 0, 0, 0, 0, 0, 0, 0, 0, 0, 0, 0, 0, 0, 0, 0, 0, 0, 0, 0, 0, 0, 0, 0, 0, 0, 0, 0, 0, 0, 0, 0, 0, 0, 0, 0, 0, 0, 0, 0, 0, 0, 0, 0, 0, 0, 0, 0, 0, 0, 0, 0, 0, 0, 0, 0, 0, 0, 0, 0, 0, 0, 0, 0, 0, 0, 0, 0, 0, 0, 0, 0, 0, 0, 0, 0, 0, 0, 0, 0, 0, 0, 0, 0, 0, 0, 0, 0, 0, 0, 0, 0, 0, 0, 0, 0, 0, 0, 0, 0, 0, 0, 0, 0, 0, 0, 0, 0, 0, 0, 0, 0, 0, 0, 0, 0, 0, 0, 0, 0, 0, 0, 0, 0, 0, 0, 0, 0, 0, 0, 0, 0, 0, 0, 0, 0, 0, 0, 0, 0, 0, 0, 0, 0, 0, 0, 0, 0, 0, 0, 0, 0, 0, 0, 0, 0, 0, 0, 0, 0, 0, 0, 0, 0, 0, 0, 0, 0, 0, 0, 0, 0, 0, 0, 0, 0, 0, 0, 0, 0, 0, 0, 0, 0, 0, 0, 0, 0, 0, 0, 0, 0, 0, 0, 0, 0, 0, 0, 0, 0, 0, 0, 1, 0, 0, 0, 0, 0, 0, 0, 0, 0, 0, 0, 0, 0, 0, 0, 0, 0, 0, 0, 0, 0, 0, 0, 0, 0, 0, 0, 0, 0, 0, 0, 0, 0, 0, 0, 0, 0, 0, 0, 0, 0, 0, 0, 0, 0, 0, 0, 0, 0, 0, 0, 0, 0, 0, 0, 0, 0, 0, 0, 0, 0, 0, 0, 0, 0, 0, 0, 0, 0, 0, 0, 0, 0, 0, 0, 0, 0, 0, 0, 0, 0, 0, 0, 0, 0, 0, 0, 0, 0, 0, 0, 0, 0, 0, 0, 0, 0, 0, 0, 0, 0, 0, 0, 0, 0, 0, 0, 1, 0, 0, 0, 0, 0, 0, 0, 0, 0, 0, 0, 0, 0, 0, 0, 0, 0, 0, 0, 0, 0, 0, 0, 0, 0, 0, 0, 0, 0, 0, 0, 0, 0, 0, 0, 0, 0, 0, 0, 0, 0, 0, 0, 0, 0, 0, 0, 0, 0, 0, 0, 0, 0, 0, 0, 0, 0, 0, 0, 0, 0, 0, 0, 0, 0, 0, 0, 0, 0, 0, 0, 0, 0, 0, 0, 0, 0, 0, 0, 0, 0, 0, 0, 0, 0, 0, 0, 0, 0, 0, 0, 0, 0, 0, 0, 0, 0, 0, 0, 0, 0, 0, 0, 0, 0, 0, 0, 0, 0, 0, 0, 0, 0, 0, 0, 0, 0, 0, 0, 0, 0, 0, 0, 0, 0, 0, 0, 0, 0, 0, 0, 0, 0, 0, 0, 0, 0, 0, 0, 0, 0, 0, 0, 0, 0, 0, 0, 0, 0, 0, 0, 0, 0, 0, 0, 0, 0, 0, 0, 0, 0, 0, 0, 0, 0, 0, 0, 0, 0, 0, 0, 0, 0, 0, 0, 0, 0, 0, 0, 0, 0, 0, 0, 0, 0, 0, 0, 0, 0, 0, 0, 0, 0, 0, 0, 0, 0, 0, 0, 0, 0, 0, 0, 0, 0, 0, 0, 0, 0, 0, 0, 0, 0, 0, 0, 0, 0, 0, 0, 0, 0, 0, 0, 0, 0, 0, 0, 0, 0, 0, 0, 0, 0, 0, 0, 0, 0, 0, 0, 0, 0, 0, 0, 0, 0, 0, 0, 0, 0, 0, 0, 0, 0, 0, 0, 0, 0, 0, 0, 0, 0, 0, 0, 0, 0, 0, 0, 0, 0, 0, 0, 0, 0, 0, 0, 0, 0, 0, 0, 0, 0, 0, 0, 0, 0, 0, 0, 0, 0, 0, 0, 0, 0, 0, 0, 0, 0, 0, 0, 0, 0, 0, 0, 0, 0, 0, 0, 0, 0, 0, 0, 0, 0, 0, 0, 0, 0, 0, 0, 0, 0, 0, 0, 0, 0, 0, 0, 0, 0, 0, 0, 0, 0, 0, 0, 0, 0, 0, 0, 0, 0, 0, 0, 0, 0, 0, 0, 0, 0, 0, 0, 0, 0, 0, 0, 0, 0, 0, 0, 0, 0, 0, 0, 0, 0, 0, 0, 0, 0, 0, 0, 0, 0, 0, 0, 0, 0, 0, 0, 0, 0, 0, 0, 0, 0, 0, 0, 0, 0, 0, 0, 0, 0, 0, 0, 0, 0, 0, 0, 0, 0, 0, 0, 0, 0, 0, 0, 0, 0, 0, 0, 0, 0, 0, 0, 0, 0, 0, 0, 0, 0, 0, 0, 0, 0, 0, 0, 0, 0, 0, 0, 0, 0, 0, 0, 0, 0, 0, 0, 0, 0, 0, 0, 0, 0, 0, 0, 0, 0, 0, 0, 0, 0, 0, 0, 0, 0, 0, 0, 0, 0, 0, 2, 0, 1, 0], type: <class 'list'>, valid types: <class 'bytes'>, <class 'bytearray'>, file-like object",
     "output_type": "error",
     "traceback": [
      "\u001b[0;31m---------------------------------------------------------------------------\u001b[0m",
      "\u001b[0;31mParamValidationError\u001b[0m                      Traceback (most recent call last)",
      "\u001b[0;32m<ipython-input-52-c9ab54ae3a48>\u001b[0m in \u001b[0;36m<module>\u001b[0;34m\u001b[0m\n\u001b[1;32m      1\u001b[0m response = runtime.invoke_endpoint(EndpointName = xgb_predictor.endpoint, # The name of the endpoint we created\n\u001b[1;32m      2\u001b[0m                                        \u001b[0mContentType\u001b[0m \u001b[0;34m=\u001b[0m \u001b[0;34m'text/csv'\u001b[0m\u001b[0;34m,\u001b[0m                     \u001b[0;31m# The data format that is expected\u001b[0m\u001b[0;34m\u001b[0m\u001b[0;34m\u001b[0m\u001b[0m\n\u001b[0;32m----> 3\u001b[0;31m                                        Body = test_bow)\n\u001b[0m",
      "\u001b[0;32m~/anaconda3/envs/python3/lib/python3.6/site-packages/botocore/client.py\u001b[0m in \u001b[0;36m_api_call\u001b[0;34m(self, *args, **kwargs)\u001b[0m\n\u001b[1;32m    335\u001b[0m                     \"%s() only accepts keyword arguments.\" % py_operation_name)\n\u001b[1;32m    336\u001b[0m             \u001b[0;31m# The \"self\" in this scope is referring to the BaseClient.\u001b[0m\u001b[0;34m\u001b[0m\u001b[0;34m\u001b[0m\u001b[0;34m\u001b[0m\u001b[0m\n\u001b[0;32m--> 337\u001b[0;31m             \u001b[0;32mreturn\u001b[0m \u001b[0mself\u001b[0m\u001b[0;34m.\u001b[0m\u001b[0m_make_api_call\u001b[0m\u001b[0;34m(\u001b[0m\u001b[0moperation_name\u001b[0m\u001b[0;34m,\u001b[0m \u001b[0mkwargs\u001b[0m\u001b[0;34m)\u001b[0m\u001b[0;34m\u001b[0m\u001b[0;34m\u001b[0m\u001b[0m\n\u001b[0m\u001b[1;32m    338\u001b[0m \u001b[0;34m\u001b[0m\u001b[0m\n\u001b[1;32m    339\u001b[0m         \u001b[0m_api_call\u001b[0m\u001b[0;34m.\u001b[0m\u001b[0m__name__\u001b[0m \u001b[0;34m=\u001b[0m \u001b[0mstr\u001b[0m\u001b[0;34m(\u001b[0m\u001b[0mpy_operation_name\u001b[0m\u001b[0;34m)\u001b[0m\u001b[0;34m\u001b[0m\u001b[0;34m\u001b[0m\u001b[0m\n",
      "\u001b[0;32m~/anaconda3/envs/python3/lib/python3.6/site-packages/botocore/client.py\u001b[0m in \u001b[0;36m_make_api_call\u001b[0;34m(self, operation_name, api_params)\u001b[0m\n\u001b[1;32m    627\u001b[0m         }\n\u001b[1;32m    628\u001b[0m         request_dict = self._convert_to_request_dict(\n\u001b[0;32m--> 629\u001b[0;31m             api_params, operation_model, context=request_context)\n\u001b[0m\u001b[1;32m    630\u001b[0m \u001b[0;34m\u001b[0m\u001b[0m\n\u001b[1;32m    631\u001b[0m         \u001b[0mservice_id\u001b[0m \u001b[0;34m=\u001b[0m \u001b[0mself\u001b[0m\u001b[0;34m.\u001b[0m\u001b[0m_service_model\u001b[0m\u001b[0;34m.\u001b[0m\u001b[0mservice_id\u001b[0m\u001b[0;34m.\u001b[0m\u001b[0mhyphenize\u001b[0m\u001b[0;34m(\u001b[0m\u001b[0;34m)\u001b[0m\u001b[0;34m\u001b[0m\u001b[0;34m\u001b[0m\u001b[0m\n",
      "\u001b[0;32m~/anaconda3/envs/python3/lib/python3.6/site-packages/botocore/client.py\u001b[0m in \u001b[0;36m_convert_to_request_dict\u001b[0;34m(self, api_params, operation_model, context)\u001b[0m\n\u001b[1;32m    675\u001b[0m             api_params, operation_model, context)\n\u001b[1;32m    676\u001b[0m         request_dict = self._serializer.serialize_to_request(\n\u001b[0;32m--> 677\u001b[0;31m             api_params, operation_model)\n\u001b[0m\u001b[1;32m    678\u001b[0m         \u001b[0;32mif\u001b[0m \u001b[0;32mnot\u001b[0m \u001b[0mself\u001b[0m\u001b[0;34m.\u001b[0m\u001b[0m_client_config\u001b[0m\u001b[0;34m.\u001b[0m\u001b[0minject_host_prefix\u001b[0m\u001b[0;34m:\u001b[0m\u001b[0;34m\u001b[0m\u001b[0;34m\u001b[0m\u001b[0m\n\u001b[1;32m    679\u001b[0m             \u001b[0mrequest_dict\u001b[0m\u001b[0;34m.\u001b[0m\u001b[0mpop\u001b[0m\u001b[0;34m(\u001b[0m\u001b[0;34m'host_prefix'\u001b[0m\u001b[0;34m,\u001b[0m \u001b[0;32mNone\u001b[0m\u001b[0;34m)\u001b[0m\u001b[0;34m\u001b[0m\u001b[0;34m\u001b[0m\u001b[0m\n",
      "\u001b[0;32m~/anaconda3/envs/python3/lib/python3.6/site-packages/botocore/validate.py\u001b[0m in \u001b[0;36mserialize_to_request\u001b[0;34m(self, parameters, operation_model)\u001b[0m\n\u001b[1;32m    295\u001b[0m                                                     operation_model.input_shape)\n\u001b[1;32m    296\u001b[0m             \u001b[0;32mif\u001b[0m \u001b[0mreport\u001b[0m\u001b[0;34m.\u001b[0m\u001b[0mhas_errors\u001b[0m\u001b[0;34m(\u001b[0m\u001b[0;34m)\u001b[0m\u001b[0;34m:\u001b[0m\u001b[0;34m\u001b[0m\u001b[0;34m\u001b[0m\u001b[0m\n\u001b[0;32m--> 297\u001b[0;31m                 \u001b[0;32mraise\u001b[0m \u001b[0mParamValidationError\u001b[0m\u001b[0;34m(\u001b[0m\u001b[0mreport\u001b[0m\u001b[0;34m=\u001b[0m\u001b[0mreport\u001b[0m\u001b[0;34m.\u001b[0m\u001b[0mgenerate_report\u001b[0m\u001b[0;34m(\u001b[0m\u001b[0;34m)\u001b[0m\u001b[0;34m)\u001b[0m\u001b[0;34m\u001b[0m\u001b[0;34m\u001b[0m\u001b[0m\n\u001b[0m\u001b[1;32m    298\u001b[0m         return self._serializer.serialize_to_request(parameters,\n\u001b[1;32m    299\u001b[0m                                                      operation_model)\n",
      "\u001b[0;31mParamValidationError\u001b[0m: Parameter validation failed:\nInvalid type for parameter Body, value: [0, 0, 0, 0, 0, 0, 0, 0, 0, 0, 0, 0, 0, 0, 0, 0, 0, 0, 0, 0, 0, 0, 0, 0, 0, 0, 0, 0, 0, 0, 0, 0, 0, 0, 0, 0, 0, 0, 0, 0, 0, 0, 0, 0, 0, 0, 0, 0, 0, 0, 0, 0, 0, 0, 0, 0, 0, 0, 0, 0, 0, 0, 0, 0, 0, 0, 0, 0, 0, 0, 0, 0, 0, 0, 0, 0, 0, 0, 0, 0, 0, 0, 0, 0, 0, 0, 0, 0, 0, 0, 0, 0, 0, 0, 0, 0, 0, 0, 0, 0, 0, 0, 0, 0, 0, 0, 0, 0, 0, 0, 0, 0, 0, 0, 0, 0, 0, 0, 0, 0, 0, 0, 0, 0, 0, 0, 0, 0, 0, 0, 0, 0, 0, 0, 0, 0, 0, 0, 0, 0, 0, 0, 0, 0, 0, 0, 0, 0, 0, 0, 0, 0, 0, 0, 0, 0, 0, 0, 0, 0, 0, 0, 0, 0, 0, 0, 0, 0, 0, 0, 0, 0, 0, 0, 0, 0, 0, 0, 0, 0, 0, 0, 0, 0, 0, 0, 0, 0, 0, 0, 0, 0, 0, 0, 0, 0, 0, 0, 0, 0, 0, 0, 0, 0, 0, 0, 0, 0, 0, 0, 0, 0, 0, 0, 0, 0, 0, 0, 0, 0, 0, 0, 0, 0, 0, 0, 1, 0, 0, 0, 0, 0, 0, 0, 0, 0, 0, 0, 0, 0, 0, 0, 0, 0, 0, 0, 0, 0, 0, 0, 0, 0, 0, 0, 0, 1, 0, 0, 0, 0, 0, 0, 0, 0, 0, 0, 0, 0, 0, 0, 0, 0, 0, 0, 0, 0, 0, 0, 0, 0, 0, 0, 0, 0, 0, 0, 0, 0, 0, 0, 0, 0, 0, 0, 0, 0, 0, 0, 0, 0, 0, 0, 0, 0, 0, 0, 0, 0, 0, 0, 0, 0, 0, 0, 0, 0, 0, 0, 0, 0, 0, 0, 0, 0, 0, 0, 0, 0, 0, 0, 0, 0, 0, 0, 0, 0, 0, 0, 0, 0, 0, 0, 0, 0, 0, 0, 0, 0, 0, 0, 0, 0, 0, 0, 0, 0, 0, 0, 0, 0, 0, 0, 0, 0, 0, 0, 0, 0, 0, 0, 0, 0, 0, 0, 0, 0, 0, 0, 0, 0, 0, 0, 0, 0, 0, 0, 0, 0, 0, 0, 0, 0, 0, 0, 0, 0, 0, 0, 0, 0, 0, 0, 0, 0, 0, 0, 0, 0, 0, 0, 0, 0, 0, 0, 0, 0, 0, 0, 0, 0, 0, 0, 0, 0, 0, 0, 0, 0, 0, 0, 0, 0, 0, 0, 0, 0, 0, 0, 0, 0, 0, 0, 0, 0, 0, 0, 0, 0, 0, 0, 0, 0, 0, 0, 0, 0, 0, 0, 0, 0, 0, 0, 0, 0, 0, 0, 0, 0, 0, 0, 0, 0, 0, 0, 0, 0, 0, 0, 0, 0, 0, 0, 0, 0, 0, 0, 0, 0, 0, 0, 0, 0, 0, 0, 0, 0, 0, 0, 0, 0, 0, 0, 0, 0, 0, 0, 0, 0, 0, 0, 0, 0, 0, 0, 0, 0, 0, 0, 0, 0, 0, 0, 0, 0, 0, 0, 0, 0, 0, 0, 0, 0, 0, 0, 0, 0, 0, 0, 0, 0, 0, 0, 0, 0, 0, 0, 0, 0, 0, 0, 0, 0, 0, 0, 0, 0, 0, 0, 0, 0, 0, 0, 0, 0, 0, 0, 0, 0, 0, 0, 0, 0, 0, 0, 0, 0, 0, 0, 0, 0, 0, 0, 0, 0, 0, 0, 0, 0, 0, 0, 0, 0, 0, 0, 0, 0, 0, 0, 0, 0, 0, 0, 0, 0, 0, 0, 0, 0, 0, 0, 0, 0, 0, 0, 0, 0, 0, 0, 0, 0, 0, 0, 0, 0, 0, 0, 0, 0, 0, 0, 0, 0, 0, 0, 0, 1, 0, 0, 0, 0, 0, 0, 0, 0, 0, 0, 0, 0, 0, 0, 0, 0, 0, 0, 0, 0, 0, 0, 0, 0, 0, 0, 0, 0, 0, 0, 0, 0, 0, 0, 0, 0, 0, 0, 0, 0, 0, 0, 0, 0, 0, 0, 0, 0, 0, 0, 0, 0, 0, 0, 0, 0, 0, 0, 0, 0, 0, 0, 0, 0, 0, 0, 0, 0, 0, 0, 0, 0, 0, 0, 0, 0, 0, 0, 0, 0, 0, 0, 0, 0, 0, 0, 0, 0, 0, 0, 0, 0, 0, 0, 0, 0, 0, 0, 0, 0, 0, 0, 0, 0, 0, 0, 0, 0, 0, 0, 0, 0, 0, 0, 0, 0, 0, 0, 0, 0, 0, 0, 0, 0, 0, 0, 0, 0, 0, 0, 0, 0, 0, 0, 0, 0, 0, 0, 0, 0, 0, 0, 0, 0, 0, 0, 0, 0, 0, 0, 0, 0, 0, 0, 0, 0, 0, 0, 0, 0, 0, 0, 0, 0, 0, 0, 0, 0, 0, 0, 0, 0, 0, 0, 0, 0, 0, 0, 0, 0, 0, 0, 0, 0, 0, 0, 0, 0, 0, 0, 0, 0, 0, 0, 0, 0, 0, 0, 0, 0, 0, 0, 0, 0, 0, 0, 0, 0, 0, 0, 0, 0, 0, 0, 0, 0, 0, 0, 0, 0, 0, 0, 0, 0, 0, 0, 0, 0, 0, 0, 0, 0, 0, 0, 0, 0, 0, 0, 0, 0, 0, 0, 0, 0, 0, 0, 0, 0, 0, 0, 0, 0, 0, 1, 0, 0, 0, 0, 0, 0, 0, 0, 0, 0, 0, 0, 0, 0, 0, 0, 0, 0, 0, 0, 0, 0, 0, 0, 0, 0, 0, 0, 0, 0, 0, 0, 0, 0, 0, 0, 0, 0, 0, 0, 0, 0, 0, 0, 0, 0, 0, 0, 0, 0, 0, 0, 0, 0, 0, 0, 0, 0, 0, 0, 0, 0, 0, 0, 0, 0, 0, 0, 0, 0, 0, 0, 0, 0, 0, 0, 0, 0, 0, 0, 0, 0, 0, 0, 0, 0, 0, 1, 0, 0, 0, 0, 0, 0, 0, 0, 0, 0, 0, 0, 0, 0, 0, 0, 0, 0, 0, 0, 0, 0, 0, 0, 0, 0, 0, 0, 0, 0, 0, 0, 0, 0, 0, 0, 0, 0, 0, 0, 0, 0, 0, 0, 0, 0, 0, 0, 0, 0, 0, 0, 0, 0, 0, 0, 0, 0, 0, 0, 0, 0, 0, 0, 0, 0, 0, 0, 0, 0, 0, 0, 0, 0, 0, 0, 0, 0, 0, 0, 0, 0, 0, 0, 0, 0, 0, 0, 0, 0, 0, 0, 0, 0, 0, 0, 0, 0, 0, 0, 0, 0, 0, 0, 0, 0, 0, 0, 0, 0, 0, 0, 0, 0, 0, 0, 0, 0, 0, 0, 0, 0, 0, 0, 0, 0, 0, 0, 0, 0, 0, 0, 0, 0, 0, 0, 0, 0, 0, 0, 0, 0, 0, 0, 0, 0, 0, 0, 0, 0, 0, 0, 0, 0, 0, 0, 0, 0, 0, 0, 0, 0, 0, 0, 0, 0, 0, 0, 0, 0, 0, 0, 0, 0, 0, 0, 0, 0, 0, 0, 0, 0, 0, 0, 0, 0, 0, 0, 0, 0, 0, 0, 0, 0, 0, 0, 0, 0, 0, 0, 0, 0, 0, 0, 0, 0, 0, 0, 0, 0, 0, 0, 0, 0, 0, 0, 0, 0, 0, 0, 0, 0, 0, 0, 0, 0, 0, 0, 0, 0, 0, 0, 0, 0, 0, 0, 0, 0, 0, 0, 0, 0, 0, 0, 0, 0, 0, 0, 0, 0, 0, 1, 0, 0, 0, 0, 0, 0, 0, 0, 0, 0, 0, 0, 0, 0, 0, 0, 0, 0, 0, 0, 0, 0, 0, 0, 0, 0, 0, 0, 0, 0, 0, 0, 0, 0, 0, 0, 0, 0, 0, 0, 0, 0, 0, 0, 0, 0, 0, 0, 0, 0, 0, 0, 0, 0, 0, 1, 0, 0, 0, 0, 0, 0, 0, 0, 0, 0, 0, 0, 0, 0, 0, 0, 0, 0, 0, 0, 0, 0, 0, 0, 0, 0, 0, 0, 0, 0, 0, 0, 0, 0, 0, 0, 0, 0, 0, 0, 0, 0, 0, 0, 0, 0, 0, 0, 0, 0, 0, 0, 0, 0, 0, 0, 0, 0, 0, 0, 0, 0, 0, 0, 0, 0, 0, 0, 0, 0, 0, 0, 0, 0, 0, 0, 0, 0, 0, 0, 0, 0, 0, 0, 0, 0, 0, 0, 0, 0, 0, 0, 0, 0, 0, 0, 0, 0, 0, 0, 0, 0, 0, 0, 0, 0, 0, 0, 0, 0, 0, 0, 0, 0, 0, 0, 0, 0, 0, 0, 0, 0, 0, 0, 0, 0, 0, 0, 0, 0, 0, 0, 0, 0, 0, 0, 0, 0, 0, 0, 0, 0, 0, 0, 0, 0, 0, 0, 0, 0, 0, 0, 0, 0, 0, 0, 0, 0, 0, 0, 0, 0, 0, 0, 0, 0, 0, 0, 0, 0, 0, 0, 0, 0, 0, 0, 0, 0, 0, 0, 0, 0, 0, 0, 0, 0, 0, 0, 0, 0, 0, 0, 0, 0, 0, 0, 0, 0, 0, 0, 0, 0, 0, 0, 0, 0, 0, 0, 0, 0, 0, 0, 0, 0, 0, 0, 0, 0, 0, 0, 0, 0, 0, 0, 0, 0, 0, 0, 0, 0, 0, 0, 0, 0, 0, 0, 0, 0, 0, 0, 0, 0, 0, 0, 0, 0, 0, 0, 0, 0, 0, 0, 0, 0, 0, 0, 0, 0, 0, 0, 0, 0, 0, 0, 0, 0, 0, 0, 0, 0, 0, 0, 0, 0, 0, 0, 0, 0, 0, 0, 0, 0, 0, 0, 0, 0, 0, 0, 0, 0, 0, 0, 0, 0, 0, 0, 0, 0, 0, 0, 0, 0, 0, 0, 0, 0, 0, 0, 0, 0, 0, 0, 0, 0, 0, 0, 0, 0, 0, 0, 0, 0, 0, 0, 0, 0, 0, 0, 0, 0, 0, 0, 0, 0, 0, 0, 0, 0, 0, 0, 0, 0, 0, 0, 0, 0, 0, 0, 0, 0, 0, 0, 0, 0, 0, 0, 0, 0, 0, 0, 0, 0, 0, 0, 0, 0, 0, 0, 0, 0, 0, 0, 0, 0, 0, 0, 0, 0, 0, 0, 0, 0, 0, 0, 0, 0, 0, 0, 0, 0, 0, 0, 0, 0, 0, 0, 0, 0, 0, 0, 0, 0, 0, 0, 0, 0, 0, 0, 0, 0, 0, 0, 0, 0, 0, 0, 0, 0, 0, 0, 0, 0, 0, 0, 0, 0, 0, 0, 0, 0, 0, 0, 0, 0, 0, 0, 0, 0, 0, 0, 0, 0, 0, 0, 0, 0, 0, 0, 0, 0, 0, 0, 0, 0, 0, 0, 0, 0, 0, 0, 0, 0, 0, 0, 0, 0, 0, 0, 0, 0, 0, 0, 0, 0, 0, 0, 0, 0, 0, 0, 0, 0, 0, 0, 0, 0, 0, 0, 0, 0, 0, 0, 0, 0, 0, 0, 0, 0, 0, 0, 0, 0, 0, 0, 0, 0, 0, 0, 0, 0, 0, 0, 0, 0, 0, 0, 0, 0, 0, 0, 0, 0, 0, 0, 0, 0, 0, 0, 0, 0, 0, 0, 0, 0, 0, 0, 0, 0, 0, 0, 0, 0, 0, 0, 0, 0, 0, 0, 0, 0, 0, 0, 0, 0, 0, 0, 0, 0, 0, 0, 0, 0, 0, 0, 0, 0, 0, 0, 0, 0, 0, 0, 0, 0, 0, 0, 0, 0, 0, 0, 0, 0, 0, 0, 0, 0, 0, 0, 0, 0, 0, 0, 0, 0, 0, 0, 0, 0, 0, 0, 0, 0, 0, 0, 0, 0, 0, 0, 0, 0, 0, 0, 0, 0, 0, 0, 0, 0, 0, 0, 0, 0, 0, 0, 0, 0, 0, 0, 0, 0, 0, 0, 0, 0, 0, 0, 0, 0, 0, 0, 0, 0, 0, 0, 0, 0, 0, 0, 0, 0, 0, 0, 0, 0, 0, 0, 0, 0, 0, 0, 0, 0, 0, 0, 0, 0, 0, 0, 0, 0, 0, 0, 0, 0, 0, 0, 0, 0, 0, 0, 0, 1, 0, 0, 0, 0, 0, 0, 0, 0, 0, 0, 0, 0, 0, 0, 0, 0, 0, 0, 0, 0, 0, 0, 0, 0, 0, 0, 0, 0, 0, 0, 0, 0, 0, 0, 0, 0, 0, 0, 0, 0, 0, 0, 0, 0, 0, 0, 0, 0, 0, 0, 0, 0, 0, 0, 0, 0, 0, 0, 0, 0, 0, 0, 0, 0, 0, 0, 0, 0, 0, 0, 0, 0, 0, 0, 1, 0, 0, 0, 0, 0, 0, 0, 0, 0, 0, 0, 0, 0, 0, 0, 0, 0, 0, 0, 0, 1, 0, 0, 1, 0, 0, 0, 0, 0, 0, 0, 0, 0, 0, 0, 0, 0, 0, 0, 0, 0, 0, 0, 0, 0, 0, 0, 0, 0, 0, 0, 0, 0, 0, 0, 0, 0, 0, 0, 0, 0, 0, 0, 0, 0, 0, 0, 0, 0, 0, 0, 0, 0, 0, 0, 0, 0, 0, 0, 0, 0, 0, 0, 0, 0, 0, 0, 0, 0, 0, 0, 0, 0, 0, 0, 0, 0, 0, 0, 0, 0, 0, 0, 0, 0, 0, 0, 0, 0, 0, 0, 0, 0, 0, 0, 0, 0, 0, 0, 0, 0, 0, 0, 0, 0, 0, 0, 0, 0, 0, 0, 0, 0, 0, 0, 0, 0, 0, 0, 0, 0, 0, 0, 0, 0, 0, 0, 0, 0, 0, 0, 0, 0, 0, 0, 0, 0, 0, 0, 0, 0, 0, 0, 0, 0, 0, 0, 0, 0, 0, 0, 0, 0, 0, 0, 0, 0, 0, 0, 0, 0, 0, 0, 0, 0, 0, 0, 0, 0, 0, 0, 0, 0, 0, 0, 0, 0, 0, 0, 0, 0, 0, 0, 0, 0, 0, 0, 0, 0, 0, 0, 0, 0, 0, 0, 0, 0, 0, 0, 0, 0, 0, 0, 0, 0, 0, 0, 0, 0, 0, 0, 0, 0, 0, 0, 0, 0, 0, 0, 0, 0, 0, 0, 0, 0, 0, 0, 0, 0, 0, 0, 0, 0, 0, 0, 0, 0, 0, 0, 0, 0, 0, 0, 0, 0, 0, 0, 0, 0, 0, 0, 0, 0, 0, 0, 0, 0, 0, 0, 0, 0, 0, 0, 0, 0, 0, 0, 0, 0, 0, 0, 0, 0, 0, 0, 0, 0, 0, 0, 0, 0, 0, 0, 0, 0, 0, 0, 0, 0, 0, 0, 0, 0, 0, 0, 0, 0, 0, 0, 0, 0, 0, 0, 0, 0, 0, 0, 0, 0, 0, 0, 0, 0, 0, 0, 0, 0, 0, 0, 0, 0, 0, 0, 0, 0, 0, 0, 0, 0, 0, 0, 0, 0, 0, 0, 0, 0, 0, 0, 0, 0, 0, 0, 0, 0, 0, 0, 0, 0, 0, 0, 0, 0, 0, 0, 0, 0, 0, 0, 0, 0, 0, 0, 0, 0, 0, 0, 0, 0, 0, 0, 0, 0, 0, 0, 0, 0, 0, 0, 0, 0, 0, 0, 0, 0, 0, 0, 0, 0, 0, 0, 0, 0, 0, 0, 0, 0, 0, 0, 0, 0, 0, 0, 0, 0, 0, 0, 0, 0, 0, 0, 0, 0, 0, 0, 0, 0, 0, 0, 0, 0, 0, 0, 0, 0, 0, 0, 0, 0, 0, 0, 0, 0, 0, 0, 0, 0, 0, 0, 0, 0, 0, 0, 0, 0, 0, 0, 0, 0, 0, 0, 0, 0, 0, 0, 0, 0, 0, 0, 0, 0, 0, 0, 0, 0, 0, 0, 0, 0, 0, 0, 1, 0, 0, 0, 0, 0, 0, 0, 0, 0, 0, 0, 0, 0, 0, 0, 0, 0, 0, 0, 0, 0, 0, 0, 0, 0, 0, 0, 0, 0, 0, 0, 0, 0, 0, 0, 0, 0, 0, 0, 0, 0, 0, 0, 0, 0, 0, 0, 0, 0, 0, 0, 0, 0, 0, 0, 0, 0, 0, 0, 0, 0, 0, 0, 0, 0, 0, 0, 0, 0, 0, 0, 0, 0, 0, 0, 0, 0, 0, 0, 0, 0, 0, 0, 0, 0, 0, 0, 0, 0, 0, 0, 0, 0, 0, 0, 0, 0, 0, 0, 0, 0, 0, 0, 0, 0, 0, 0, 0, 0, 0, 0, 0, 0, 0, 0, 0, 0, 0, 0, 0, 0, 0, 0, 0, 0, 0, 0, 0, 0, 0, 0, 0, 0, 0, 0, 0, 0, 0, 0, 0, 0, 0, 0, 0, 0, 0, 0, 0, 0, 0, 0, 0, 0, 0, 0, 0, 0, 0, 0, 0, 0, 0, 0, 0, 0, 0, 0, 0, 0, 0, 0, 0, 0, 0, 0, 0, 0, 0, 0, 0, 0, 0, 0, 0, 0, 0, 0, 0, 0, 0, 0, 0, 0, 0, 0, 0, 0, 0, 0, 0, 0, 0, 0, 0, 0, 0, 0, 0, 0, 0, 0, 0, 0, 0, 0, 0, 0, 0, 0, 0, 0, 0, 0, 0, 0, 0, 0, 0, 0, 0, 0, 0, 0, 0, 0, 0, 0, 0, 0, 0, 0, 0, 0, 0, 0, 0, 0, 0, 0, 0, 0, 0, 0, 0, 0, 0, 0, 0, 0, 0, 0, 0, 0, 0, 0, 0, 0, 0, 0, 0, 0, 0, 0, 0, 0, 0, 0, 0, 0, 0, 0, 0, 0, 0, 0, 0, 0, 0, 0, 0, 0, 0, 0, 0, 0, 0, 0, 0, 0, 0, 0, 0, 0, 0, 0, 0, 0, 0, 0, 0, 0, 0, 0, 0, 0, 0, 0, 0, 0, 0, 0, 0, 0, 0, 0, 0, 0, 0, 0, 0, 0, 0, 0, 0, 0, 0, 0, 0, 0, 0, 0, 0, 0, 0, 0, 0, 0, 0, 0, 0, 0, 0, 0, 0, 0, 0, 0, 0, 0, 0, 0, 0, 0, 0, 0, 0, 0, 0, 0, 0, 0, 0, 0, 0, 0, 0, 0, 0, 0, 0, 0, 0, 0, 0, 0, 0, 0, 0, 0, 0, 0, 0, 0, 0, 0, 0, 0, 0, 0, 0, 0, 0, 0, 0, 0, 0, 0, 0, 0, 0, 0, 0, 0, 0, 0, 0, 0, 0, 0, 0, 0, 0, 0, 0, 0, 0, 0, 0, 0, 0, 0, 0, 0, 0, 0, 0, 0, 0, 0, 0, 0, 0, 0, 0, 0, 0, 0, 0, 0, 0, 0, 0, 0, 0, 0, 0, 0, 0, 0, 0, 0, 0, 0, 0, 0, 0, 0, 0, 0, 0, 0, 0, 0, 0, 0, 0, 0, 0, 0, 0, 0, 0, 0, 0, 0, 0, 0, 0, 0, 0, 0, 0, 0, 0, 0, 0, 0, 0, 0, 0, 0, 0, 0, 0, 0, 0, 0, 0, 0, 0, 0, 0, 1, 0, 0, 0, 0, 0, 0, 0, 0, 0, 0, 0, 0, 0, 0, 0, 0, 0, 0, 0, 0, 0, 0, 0, 0, 0, 0, 0, 0, 0, 0, 0, 0, 0, 0, 0, 2, 0, 0, 0, 0, 0, 0, 0, 0, 0, 0, 0, 0, 0, 0, 0, 0, 0, 0, 0, 0, 0, 0, 0, 0, 0, 0, 0, 0, 0, 0, 0, 0, 0, 0, 0, 0, 0, 0, 0, 0, 1, 0, 0, 0, 0, 0, 0, 0, 0, 0, 0, 0, 0, 0, 0, 0, 0, 0, 0, 0, 0, 0, 0, 0, 0, 0, 0, 0, 0, 0, 0, 0, 0, 0, 0, 0, 0, 0, 0, 0, 0, 0, 0, 0, 0, 0, 0, 0, 0, 0, 0, 0, 0, 0, 0, 0, 0, 0, 0, 0, 0, 0, 0, 0, 0, 0, 0, 0, 0, 0, 0, 0, 0, 0, 0, 0, 0, 0, 0, 0, 0, 0, 0, 0, 0, 0, 0, 0, 0, 0, 0, 0, 0, 0, 0, 0, 0, 0, 0, 0, 0, 0, 0, 0, 0, 0, 0, 0, 0, 0, 0, 0, 0, 0, 0, 0, 0, 0, 0, 0, 0, 0, 0, 0, 0, 0, 0, 0, 0, 0, 0, 0, 0, 0, 0, 0, 0, 0, 0, 0, 0, 0, 0, 0, 0, 0, 0, 0, 0, 0, 0, 0, 0, 0, 0, 0, 0, 0, 0, 0, 0, 0, 0, 0, 0, 0, 0, 0, 0, 0, 0, 0, 0, 0, 0, 0, 0, 0, 0, 0, 0, 0, 0, 0, 0, 0, 0, 0, 0, 0, 0, 0, 0, 0, 0, 0, 0, 0, 0, 0, 0, 0, 0, 0, 0, 0, 0, 0, 0, 0, 0, 0, 0, 0, 0, 0, 0, 0, 0, 0, 0, 0, 0, 0, 0, 0, 0, 0, 0, 0, 0, 0, 0, 0, 0, 0, 0, 0, 0, 0, 0, 0, 0, 0, 0, 0, 0, 0, 0, 0, 0, 0, 0, 0, 0, 0, 0, 0, 0, 0, 0, 0, 0, 0, 0, 0, 0, 0, 0, 0, 0, 0, 0, 0, 0, 0, 0, 0, 0, 0, 0, 0, 0, 0, 0, 0, 0, 0, 0, 0, 0, 0, 0, 0, 0, 0, 0, 0, 0, 0, 0, 0, 0, 0, 0, 0, 0, 0, 0, 0, 0, 0, 0, 0, 0, 0, 0, 0, 0, 0, 0, 0, 0, 0, 0, 0, 0, 0, 0, 0, 0, 0, 0, 0, 0, 0, 0, 0, 0, 0, 0, 0, 0, 0, 0, 0, 0, 0, 0, 0, 0, 0, 0, 0, 0, 0, 0, 0, 0, 0, 0, 0, 0, 0, 0, 0, 0, 0, 0, 0, 0, 0, 0, 0, 0, 0, 0, 0, 0, 0, 0, 0, 0, 0, 0, 0, 0, 0, 0, 0, 0, 0, 0, 0, 0, 0, 0, 0, 0, 0, 0, 0, 0, 0, 0, 0, 0, 0, 0, 0, 0, 0, 0, 0, 0, 0, 0, 0, 0, 0, 0, 0, 0, 0, 0, 0, 0, 0, 0, 0, 0, 0, 0, 0, 0, 0, 0, 0, 0, 0, 0, 0, 0, 0, 0, 0, 0, 0, 0, 0, 0, 0, 0, 0, 0, 0, 0, 0, 0, 0, 0, 0, 0, 0, 0, 0, 0, 0, 0, 0, 0, 0, 0, 0, 0, 0, 0, 0, 0, 0, 0, 0, 0, 0, 0, 0, 0, 0, 0, 0, 0, 0, 0, 0, 0, 0, 0, 0, 0, 1, 0, 0, 0, 0, 0, 0, 0, 0, 0, 0, 0, 0, 0, 0, 0, 0, 0, 0, 0, 0, 0, 0, 0, 0, 0, 0, 0, 0, 0, 0, 0, 0, 0, 0, 0, 0, 0, 0, 0, 0, 0, 0, 0, 0, 0, 0, 0, 0, 0, 0, 0, 0, 0, 0, 0, 0, 0, 0, 0, 0, 0, 0, 0, 0, 0, 0, 0, 0, 0, 0, 0, 0, 0, 0, 0, 0, 0, 0, 0, 0, 0, 0, 0, 0, 0, 0, 0, 0, 0, 0, 0, 0, 0, 0, 0, 0, 0, 0, 0, 0, 0, 0, 0, 0, 0, 0, 0, 0, 0, 0, 2, 0, 0, 0, 0, 0, 0, 0, 0, 0, 0, 0, 0, 0, 0, 0, 0, 0, 0, 0, 0, 0, 0, 0, 0, 0, 0, 0, 0, 0, 0, 0, 0, 0, 0, 0, 0, 0, 0, 0, 0, 0, 0, 0, 0, 0, 0, 0, 0, 0, 0, 0, 0, 0, 0, 0, 0, 0, 0, 0, 0, 0, 0, 0, 0, 0, 0, 0, 0, 0, 0, 0, 0, 0, 0, 0, 0, 0, 0, 0, 0, 0, 0, 0, 0, 0, 0, 0, 0, 0, 0, 0, 0, 0, 0, 0, 0, 0, 0, 0, 0, 0, 0, 0, 0, 0, 0, 0, 0, 0, 0, 0, 0, 0, 0, 0, 0, 0, 0, 0, 0, 0, 0, 0, 0, 0, 0, 0, 0, 0, 0, 0, 0, 0, 0, 0, 0, 0, 0, 0, 0, 0, 0, 0, 0, 0, 0, 0, 0, 0, 0, 0, 0, 0, 0, 0, 0, 0, 0, 0, 0, 0, 0, 0, 0, 0, 0, 0, 0, 0, 0, 0, 0, 0, 0, 0, 0, 0, 0, 0, 0, 0, 0, 0, 0, 0, 0, 0, 0, 0, 0, 0, 0, 0, 0, 0, 0, 0, 0, 0, 0, 0, 0, 0, 0, 0, 0, 0, 0, 0, 0, 0, 0, 0, 0, 0, 0, 0, 0, 0, 0, 0, 0, 0, 0, 0, 0, 0, 0, 0, 0, 0, 0, 0, 0, 0, 0, 0, 0, 0, 0, 0, 0, 0, 0, 0, 0, 0, 0, 0, 0, 0, 0, 0, 0, 0, 0, 0, 0, 0, 0, 0, 0, 0, 0, 0, 0, 0, 0, 0, 0, 0, 0, 0, 0, 0, 0, 0, 0, 0, 0, 0, 0, 0, 0, 0, 0, 0, 0, 0, 0, 0, 0, 0, 0, 0, 0, 0, 0, 0, 0, 0, 0, 0, 0, 0, 0, 0, 0, 0, 0, 0, 0, 0, 0, 0, 0, 0, 0, 0, 0, 0, 0, 0, 0, 0, 0, 0, 0, 0, 0, 0, 0, 0, 0, 0, 0, 0, 0, 0, 0, 0, 0, 0, 0, 0, 0, 0, 0, 0, 0, 0, 0, 0, 0, 0, 0, 0, 0, 0, 0, 0, 0, 0, 0, 0, 0, 0, 0, 0, 0, 0, 0, 0, 0, 0, 0, 0, 0, 0, 0, 0, 0, 0, 0, 0, 0, 0, 0, 0, 0, 0, 0, 0, 0, 0, 0, 0, 0, 0, 0, 0, 0, 0, 0, 0, 0, 0, 0, 0, 0, 0, 0, 0, 0, 0, 0, 0, 0, 0, 0, 0, 0, 0, 0, 0, 0, 0, 0, 0, 0, 0, 0, 0, 0, 0, 0, 0, 0, 0, 0, 0, 0, 0, 0, 0, 0, 0, 0, 0, 0, 0, 0, 0, 0, 0, 0, 0, 0, 0, 0, 0, 0, 0, 0, 0, 0, 0, 0, 0, 0, 0, 0, 0, 0, 0, 0, 0, 0, 0, 0, 0, 0, 0, 0, 0, 0, 0, 0, 0, 0, 0, 0, 0, 0, 0, 0, 0, 0, 0, 0, 0, 0, 0, 0, 0, 0, 0, 0, 0, 0, 0, 0, 0, 0, 0, 0, 0, 0, 0, 0, 0, 0, 0, 0, 0, 0, 0, 0, 0, 0, 0, 0, 0, 0, 0, 0, 0, 0, 0, 0, 0, 0, 0, 0, 0, 0, 0, 0, 0, 0, 0, 0, 0, 0, 0, 0, 0, 0, 0, 0, 0, 0, 0, 0, 0, 0, 0, 0, 0, 0, 0, 0, 0, 0, 0, 0, 0, 0, 0, 0, 0, 0, 0, 0, 0, 0, 0, 0, 0, 0, 0, 0, 0, 0, 0, 0, 0, 0, 0, 0, 0, 0, 0, 0, 0, 0, 0, 0, 0, 0, 0, 0, 0, 0, 0, 0, 0, 0, 0, 0, 0, 0, 0, 0, 0, 0, 0, 0, 0, 0, 0, 0, 0, 0, 0, 0, 0, 0, 0, 0, 0, 0, 0, 0, 0, 0, 0, 0, 0, 0, 0, 0, 0, 0, 0, 0, 0, 0, 0, 0, 0, 0, 0, 0, 0, 0, 0, 0, 0, 0, 0, 0, 0, 0, 0, 0, 0, 0, 0, 0, 0, 0, 0, 0, 0, 0, 0, 0, 0, 0, 1, 0, 0, 0, 0, 0, 0, 0, 0, 0, 0, 0, 0, 0, 0, 0, 0, 0, 0, 0, 0, 0, 0, 0, 0, 0, 0, 0, 0, 0, 0, 0, 0, 0, 0, 0, 0, 0, 0, 0, 0, 0, 0, 0, 0, 0, 0, 0, 0, 0, 0, 0, 0, 0, 0, 0, 0, 0, 0, 0, 0, 0, 0, 0, 0, 0, 0, 0, 0, 0, 0, 0, 0, 0, 0, 0, 0, 0, 0, 0, 0, 0, 0, 0, 0, 0, 0, 0, 0, 0, 0, 0, 0, 0, 0, 0, 0, 0, 0, 0, 0, 0, 0, 0, 0, 0, 0, 0, 1, 0, 0, 0, 0, 0, 0, 0, 0, 0, 0, 0, 0, 0, 0, 0, 0, 0, 0, 0, 0, 0, 0, 0, 0, 0, 0, 0, 0, 0, 0, 0, 0, 0, 0, 0, 0, 0, 0, 0, 0, 0, 0, 0, 0, 0, 0, 0, 0, 0, 0, 0, 0, 0, 0, 0, 0, 0, 0, 0, 0, 0, 0, 0, 0, 0, 0, 0, 0, 0, 0, 0, 0, 0, 0, 0, 0, 0, 0, 0, 0, 0, 0, 0, 0, 0, 0, 0, 0, 0, 0, 0, 0, 0, 0, 0, 0, 0, 0, 0, 0, 0, 0, 0, 0, 0, 0, 0, 0, 0, 0, 0, 0, 0, 0, 0, 0, 0, 0, 0, 0, 0, 0, 0, 0, 0, 0, 0, 0, 0, 0, 0, 0, 0, 0, 0, 0, 0, 0, 0, 0, 0, 0, 0, 0, 0, 0, 0, 0, 0, 0, 0, 0, 0, 0, 0, 0, 0, 0, 0, 0, 0, 0, 0, 0, 0, 0, 0, 0, 0, 0, 0, 0, 0, 0, 0, 0, 0, 0, 0, 0, 0, 0, 0, 0, 0, 0, 0, 0, 0, 0, 0, 0, 0, 0, 0, 0, 0, 0, 0, 0, 0, 0, 0, 0, 0, 0, 0, 0, 0, 0, 0, 0, 0, 0, 0, 0, 0, 0, 0, 0, 0, 0, 0, 0, 0, 0, 0, 0, 0, 0, 0, 0, 0, 0, 0, 0, 0, 0, 0, 0, 0, 0, 0, 0, 0, 0, 0, 0, 0, 0, 0, 0, 0, 0, 0, 0, 0, 0, 0, 0, 0, 0, 0, 0, 0, 0, 0, 0, 0, 0, 0, 0, 0, 0, 0, 0, 0, 0, 0, 0, 0, 0, 0, 0, 0, 0, 0, 0, 0, 0, 0, 0, 0, 0, 0, 0, 0, 0, 0, 0, 0, 0, 0, 0, 0, 0, 0, 0, 0, 0, 0, 0, 0, 0, 0, 0, 0, 0, 0, 0, 0, 0, 0, 0, 0, 0, 0, 0, 0, 0, 0, 0, 0, 0, 0, 0, 0, 0, 0, 0, 0, 0, 0, 0, 0, 0, 0, 0, 0, 0, 0, 0, 0, 0, 0, 0, 0, 0, 0, 0, 0, 0, 0, 0, 0, 0, 0, 0, 0, 0, 0, 0, 0, 0, 0, 0, 0, 0, 0, 0, 0, 0, 0, 0, 0, 0, 0, 0, 0, 0, 0, 0, 0, 0, 0, 0, 0, 0, 0, 0, 0, 0, 0, 0, 0, 0, 0, 0, 0, 0, 0, 0, 0, 0, 0, 0, 0, 0, 0, 0, 0, 0, 0, 0, 0, 0, 0, 0, 0, 0, 0, 0, 0, 0, 0, 0, 0, 0, 0, 0, 0, 0, 0, 0, 0, 0, 0, 0, 0, 0, 0, 0, 0, 0, 0, 0, 0, 0, 0, 0, 0, 0, 2, 0, 1, 0], type: <class 'list'>, valid types: <class 'bytes'>, <class 'bytearray'>, file-like object"
     ]
    }
   ],
   "source": [
    "response = runtime.invoke_endpoint(EndpointName = xgb_predictor.endpoint, # The name of the endpoint we created\n",
    "                                       ContentType = 'text/csv',                     # The data format that is expected\n",
    "                                       Body = test_bow)"
   ]
  },
  {
   "cell_type": "markdown",
   "metadata": {},
   "source": [
    "So why did we get an error?\n",
    "\n",
    "Because we tried to send the endpoint a list of integers but it expected us to send data of type `text/csv`. So, we need to convert it."
   ]
  },
  {
   "cell_type": "code",
   "execution_count": 53,
   "metadata": {},
   "outputs": [],
   "source": [
    "response = runtime.invoke_endpoint(EndpointName = xgb_predictor.endpoint, # The name of the endpoint we created\n",
    "                                       ContentType = 'text/csv',                     # The data format that is expected\n",
    "                                       Body = ','.join([str(val) for val in test_bow]).encode('utf-8'))"
   ]
  },
  {
   "cell_type": "code",
   "execution_count": 54,
   "metadata": {},
   "outputs": [
    {
     "name": "stdout",
     "output_type": "stream",
     "text": [
      "{'ResponseMetadata': {'RequestId': '74b348f5-d62e-4963-8c86-1f2517360eaf', 'HTTPStatusCode': 200, 'HTTPHeaders': {'x-amzn-requestid': '74b348f5-d62e-4963-8c86-1f2517360eaf', 'x-amzn-invoked-production-variant': 'AllTraffic', 'date': 'Sat, 3 Oct 2020 08:09:57 GMT', 'content-type': 'text/csv; charset=utf-8', 'content-length': '14'}, 'RetryAttempts': 0}, 'ContentType': 'text/csv; charset=utf-8', 'InvokedProductionVariant': 'AllTraffic', 'Body': <botocore.response.StreamingBody object at 0x7f9d44deaa20>}\n"
     ]
    }
   ],
   "source": [
    "print(response)"
   ]
  },
  {
   "cell_type": "markdown",
   "metadata": {},
   "source": [
    "As we can see, the response from our model is a somewhat complicated looking dict that contains a bunch of information. The bit that we are most interested in is `'Body'` object which is a streaming object that we need to `read` in order to make use of."
   ]
  },
  {
   "cell_type": "code",
   "execution_count": 55,
   "metadata": {},
   "outputs": [
    {
     "name": "stdout",
     "output_type": "stream",
     "text": [
      "0.445697575808\n"
     ]
    }
   ],
   "source": [
    "response = response['Body'].read().decode('utf-8')\n",
    "print(response)"
   ]
  },
  {
   "cell_type": "markdown",
   "metadata": {},
   "source": [
    "Now that we know how to process the incoming user data we can start setting up the infrastructure to make our simple web app work. To do this we will make use of two different services. Amazon's Lambda and API Gateway services.\n",
    "\n",
    "Lambda is a service which allows someone to write some relatively simple code and have it executed whenever a chosen trigger occurs. For example, you may want to update a database whenever new data is uploaded to a folder stored on S3.\n",
    "\n",
    "API Gateway is a service that allows you to create HTTP endpoints (url addresses) which are connected to other AWS services. One of the benefits to this is that you get to decide what credentials, if any, are required to access these endpoints.\n",
    "\n",
    "In our case we are going to set up an HTTP endpoint through API Gateway which is open to the public. Then, whenever anyone sends data to our public endpoint we will trigger a Lambda function which will send the input (in our case a review) to our model's endpoint and then return the result."
   ]
  },
  {
   "cell_type": "markdown",
   "metadata": {},
   "source": [
    "### Setting up a Lambda function\n",
    "\n",
    "The first thing we are going to do is set up a Lambda function. This Lambda function will be executed whenever our public API has data sent to it. When it is executed it will receive the data, perform any sort of processing that is required, send the data (the review) to the SageMaker endpoint we've created and then return the result.\n",
    "\n",
    "#### Part A: Create an IAM Role for the Lambda function\n",
    "\n",
    "Since we want the Lambda function to call a SageMaker endpoint, we need to make sure that it has permission to do so. To do this, we will construct a role that we can later give the Lambda function.\n",
    "\n",
    "Using the AWS Console, navigate to the **IAM** page and click on **Roles**. Then, click on **Create role**. Make sure that the **AWS service** is the type of trusted entity selected and choose **Lambda** as the service that will use this role, then click **Next: Permissions**.\n",
    "\n",
    "In the search box type `sagemaker` and select the check box next to the **AmazonSageMakerFullAccess** policy. Then, click on **Next: Review**.\n",
    "\n",
    "Lastly, give this role a name. Make sure you use a name that you will remember later on, for example `LambdaSageMakerRole`. Then, click on **Create role**."
   ]
  },
  {
   "cell_type": "markdown",
   "metadata": {},
   "source": [
    "#### Part B: Create a Lambda function\n",
    "\n",
    "Now it is time to actually create the Lambda function. Remember from earlier that in order to process the user provided input and send it to our endpoint we need to gather two pieces of information:\n",
    "\n",
    " - The name of the endpoint, and\n",
    " - the vocabulary object.\n",
    "\n",
    "We will copy these pieces of information to our Lambda function after we create it.\n",
    "\n",
    "To start, using the AWS Console, navigate to the AWS Lambda page and click on **Create a function**. When you get to the next page, make sure that **Author from scratch** is selected. Now, name your Lambda function, using a name that you will remember later on, for example `sentiment_analysis_xgboost_func`. Make sure that the **Python 3.6** runtime is selected and then choose the role that you created in the previous part. Then, click on **Create Function**.\n",
    "\n",
    "On the next page you will see some information about the Lambda function you've just created. If you scroll down you should see an editor in which you can write the code that will be executed when your Lambda function is triggered. Collecting the code we wrote above to process a single review and adding it to the provided example `lambda_handler` we arrive at the following.\n",
    "\n",
    "```python\n",
    "# We need to use the low-level library to interact with SageMaker since the SageMaker API\n",
    "# is not available natively through Lambda.\n",
    "import boto3\n",
    "\n",
    "# And we need the regular expression library to do some of the data processing\n",
    "import re\n",
    "\n",
    "REPLACE_NO_SPACE = re.compile(\"(\\.)|(\\;)|(\\:)|(\\!)|(\\')|(\\?)|(\\,)|(\\\")|(\\()|(\\))|(\\[)|(\\])\")\n",
    "REPLACE_WITH_SPACE = re.compile(\"(<br\\s*/><br\\s*/>)|(\\-)|(\\/)\")\n",
    "\n",
    "def review_to_words(review):\n",
    "    words = REPLACE_NO_SPACE.sub(\"\", review.lower())\n",
    "    words = REPLACE_WITH_SPACE.sub(\" \", words)\n",
    "    return words\n",
    "    \n",
    "def bow_encoding(words, vocabulary):\n",
    "    bow = [0] * len(vocabulary) # Start by setting the count for each word in the vocabulary to zero.\n",
    "    for word in words.split():  # For each word in the string\n",
    "        if word in vocabulary:  # If the word is one that occurs in the vocabulary, increase its count.\n",
    "            bow[vocabulary[word]] += 1\n",
    "    return bow\n",
    "\n",
    "\n",
    "def lambda_handler(event, context):\n",
    "    \n",
    "    vocab = \"*** ACTUAL VOCABULARY GOES HERE ***\"\n",
    "    \n",
    "    words = review_to_words(event['body'])\n",
    "    bow = bow_encoding(words, vocab)\n",
    "\n",
    "    # The SageMaker runtime is what allows us to invoke the endpoint that we've created.\n",
    "    runtime = boto3.Session().client('sagemaker-runtime')\n",
    "\n",
    "    # Now we use the SageMaker runtime to invoke our endpoint, sending the review we were given\n",
    "    response = runtime.invoke_endpoint(EndpointName = '***ENDPOINT NAME HERE***',# The name of the endpoint we created\n",
    "                                       ContentType = 'text/csv',                 # The data format that is expected\n",
    "                                       Body = ','.join([str(val) for val in bow]).encode('utf-8')) # The actual review\n",
    "\n",
    "    # The response is an HTTP response whose body contains the result of our inference\n",
    "    result = response['Body'].read().decode('utf-8')\n",
    "    \n",
    "    # Round the result so that our web app only gets '1' or '0' as a response.\n",
    "    result = round(float(result))\n",
    "\n",
    "    return {\n",
    "        'statusCode' : 200,\n",
    "        'headers' : { 'Content-Type' : 'text/plain', 'Access-Control-Allow-Origin' : '*' },\n",
    "        'body' : str(result)\n",
    "    }\n",
    "```"
   ]
  },
  {
   "cell_type": "markdown",
   "metadata": {},
   "source": [
    "Once you have copy and pasted the code above into the Lambda code editor, replace the `**ENDPOINT NAME HERE**` portion with the name of the endpoint that we deployed earlier. You can determine the name of the endpoint using the code cell below."
   ]
  },
  {
   "cell_type": "code",
   "execution_count": 56,
   "metadata": {},
   "outputs": [
    {
     "data": {
      "text/plain": [
       "'xgboost-2020-10-03-07-31-08-028'"
      ]
     },
     "execution_count": 56,
     "metadata": {},
     "output_type": "execute_result"
    }
   ],
   "source": [
    "xgb_predictor.endpoint"
   ]
  },
  {
   "cell_type": "markdown",
   "metadata": {},
   "source": [
    "In addition, you will need to copy the vocabulary dict to the appropriate place in the code at the beginning of the `lambda_handler` method. The cell below prints out the vocabulary dict in a way that is easy to copy and paste."
   ]
  },
  {
   "cell_type": "code",
   "execution_count": 57,
   "metadata": {},
   "outputs": [
    {
     "name": "stdout",
     "output_type": "stream",
     "text": [
      "{'enjoy': 1484, 'good': 1936, 'slow': 4031, 'moving': 2928, 'drama': 1345, 'christmas': 809, 'in': 2256, 'express': 1600, 'virgin': 4749, 'bare': 397, 'by': 641, 'her': 2084, 'the': 4427, 'way': 4820, 'home': 2141, 'small': 4033, 'town': 4542, 'eat': 1411, 'drink': 1361, 'man': 2721, 'woman': 4921, 'dolls': 1315, 'mood': 2898, 'for': 1783, 'love': 2669, 'and': 226, 'spring': 4133, 'summer': 4291, 'fall': 1637, 'winter': 4900, 'are': 284, 'all': 187, 'enjoyable': 1485, 'films': 1720, 'just': 2436, 'to': 4508, 'name': 2960, 'few': 1699, 'unfortunately': 4653, 'there': 4439, 'is': 2359, 'of': 3083, 'within': 4912, 'genre': 1887, 'that': 4425, 'attempt': 339, 'ride': 3693, 'while': 4868, 'providing': 3453, 'nothing': 3047, 'interest': 2322, 'themselves': 4436, 'these': 4442, 'what': 4858, 'call': 650, 'ian': 2208, 'incomprehensible': 2266, 'artistic': 307, 'nonsense': 3030, 'king': 2479, 'this': 4458, 'his': 2117, 'masterpiece': 2759, 'fact': 1621, 'de': 1131, 'la': 2500, 'crap': 1031, 'garbage': 1869, 'under': 4638, 'art': 303, 'people': 3223, 'walk': 4775, 'around': 296, 'their': 4432, 'water': 4816, 'back': 377, 'forth': 1803, 'waiting': 4772, 'pay': 3218, 'become': 432, 'hang': 2021, 'together': 4512, 'go': 1923, 'bathroom': 411, 'do': 1301, 'have': 2051, 'sex': 3907, 'slap': 4018, 'at': 330, 'etc': 1527, 'im': 2231, 'not': 3040, 'when': 4862, 'say': 3799, 'an': 223, 'accurate': 90, 'synopsis': 4345, 'entire': 1502, 'film': 1715, 'which': 4867, 'pointless': 3320, 'house': 2177, 'trash': 4564, 'no': 3020, 'plot': 3311, 'storyline': 4207, 'interesting': 2324, 'or': 3124, 'events': 1536, 'emotion': 1458, 'meaningful': 2781, 'dialogue': 1233, 'most': 2909, 'importantly': 2247, 'scene': 3809, 'has': 2042, 'two': 4619, 'on': 3105, 'bed': 435, 'with': 4911, 'person': 3240, 'ironic': 2354, 'its': 2369, 'also': 199, 'totally': 4533, 'gratuitous': 1960, 'relationship': 3598, 'characters': 759, 'practically': 3364, 'non': 3027, 'existent': 1572, 'apparently': 269, 'didnt': 1241, 'feel': 1683, 'like': 2599, 'anything': 259, 'viewer': 4738, 'regarding': 3590, 'other': 3136, 'than': 4421, 'obvious': 3071, 'they': 4443, 'bang': 392, 'as': 310, 'one': 3107, 'dimensional': 1252, 'uninteresting': 4659, 'he': 2055, 'likes': 2602, 'himself': 2110, 'idea': 2212, 'character': 757, 'development': 1224, 'truly': 4596, 'indeed': 2270, 'true': 4595, 'perhaps': 3237, 'atrocious': 334, 'history': 2120, 'first': 1735, 'shows': 3960, 'lead': 2545, 'actress': 105, 'from': 1839, 'end': 1468, 'park': 3192, 'seconds': 3848, 'only': 3110, 'then': 4437, 'show': 3953, 'cry': 1073, 'absolutely': 72, 'reason': 3558, 'whatsoever': 4861, 'another': 249, 'ends': 1474, 'point': 3318, 'entertainment': 1500, 'pure': 3473, 'torture': 4530, 'effort': 1432, 'beat': 422, 'dead': 1132, 'horse': 2169, 'underlying': 4640, 'theme': 4434, 'so': 4046, 'greatly': 1966, 'feeling': 1684, 'boredom': 542, 'provides': 3452, 'much': 2934, 'better': 471, 'horror': 2167, 'guess': 1988, 'actually': 109, 'moved': 2922, 'but': 635, 'ways': 4822, 'concept': 930, 'utter': 4700, 'waste': 4808, 'known': 2492, 'perfect': 3226, 'example': 1553, 'fans': 1650, 'cinema': 815, 'may': 2775, 'thank': 4422, 'directing': 1259, 'provided': 3451, 'evidence': 1546, 'can': 664, 'be': 417, 'poorly': 3331, 'made': 2697, 'grade': 1950, 'television': 4395, 'flicks': 1754, 'now': 3054, 'lost': 2660, 'self': 3869, 'quality': 3486, 'level': 2584, 'your': 4991, 'precious': 3368, 'army': 294, 'darkness': 1117, 'how': 2180, 'you': 4986, 'them': 4433, 'charming': 767, 'yet': 4984, 'extremely': 1610, 'uneven': 4648, 'will': 4886, 'delight': 1167, 'some': 4061, 'bore': 540, 'others': 3137, 'though': 4462, 'reasonably': 3560, 'well': 4843, 'crafted': 1029, 'lacks': 2505, 'any': 255, 'real': 3548, 'instead': 2306, 'many': 2732, 'scenes': 3811, 'seem': 3861, 'contains': 964, 'handful': 2016, 'moments': 2888, 'sheer': 3925, 'cinematic': 817, 'brilliance': 582, 'deserve': 1198, 'worthy': 4956, 'genius': 1886, 'too': 4523, 'dark': 1115, 'comedy': 889, 'light': 2595, 'serious': 3891, 'leave': 2555, 'views': 4742, 'ultimately': 4627, 'laugh': 2529, 'far': 1653, 'between': 474, 'sea': 3838, 'out': 3142, 'snow': 4045, 'filled': 1714, 'landscapes': 2514, 'seemingly': 3863, 'endless': 1473, 'series': 3890, 'bus': 630, 'noble': 3021, 'done': 1321, 'lack': 2502, 'narrative': 2966, 'movie': 2926, 'was': 4805, 'horrible': 2162, 'develop': 1221, 'played': 3299, 'horribly': 2163, 'it': 2365, 'definite': 1161, 'youd': 4987, 'expect': 1575, 'action': 100, 'strong': 4228, 'points': 3321, 'wars': 4804, 'surprises': 4315, 'even': 1533, 'let': 2579, 'down': 1334, 'department': 1182, 'acting': 99, 'step': 4174, 'above': 68, 'low': 2676, 'budget': 609, 'porno': 3339, 'flick': 1753, 'seriously': 3892, 'mean': 2779, 'happy': 2031, 'see': 3855, 'credits': 1050, 'cause': 722, 'bad': 381, 'please': 3306, 'whatever': 4859, 'dont': 1323, 'time': 4496, 'money': 2889, 'crappy': 1032, 'really': 3557, 'high': 2099, 'expectations': 1576, 'must': 2950, 'admit': 122, 'wasnt': 4807, 'disappointed': 1272, 'terrible': 4408, 'felt': 1691, 'account': 89, 'here': 2085, 'imdb': 2239, 'warn': 4797, 'keep': 2448, 'asking': 317, 'yourself': 4993, 'throughout': 4479, 'get': 1898, 'worse': 4951, 'yes': 4982, 'somehow': 4063, 'manage': 2722, 'make': 2713, 'worst': 4952, 'every': 1539, 'minute': 2859, 'up': 4682, 'thinking': 4454, 'want': 4788, 'my': 2951, 'hour': 2175, '35': 45, 'minutes': 2860, 'somebody': 4062, 'got': 1943, 'dare': 1113, 'find': 1725, 'me': 2778, 'start': 4155, 'saying': 3800, 'tv': 4609, 'despite': 1210, 'tragic': 4552, 'nature': 2975, 'middle': 2834, 'aged': 149, 'unable': 4630, 'dreams': 1354, 'because': 431, 'manipulative': 2727, 'father': 1666, 'incredibly': 2269, 'hearted': 2064, 'fun': 1847, 'watch': 4811, 'practice': 3365, 'opinion': 3118, 'without': 4913, 'doubt': 1331, 'greatest': 1965, 'british': 589, '10': 0, 'rating': 3530, 'spin': 4111, 'off': 3084, 'hand': 2014, 'tragedy': 4551, 'sense': 3877, 'word': 4937, 'hardly': 2035, 'essence': 1521, 'successfully': 4267, 'onto': 3111, 'very': 4723, 'dreary': 1355, 'depressing': 1187, 'tone': 4518, 'almost': 193, 'tears': 4381, 'several': 3905, 'seeing': 3857, 'being': 447, 'beaten': 423, 'comical': 893, 'definitely': 1162, 'why': 4878, 'painfully': 3174, 'unfunny': 4654, 'except': 1556, 'where': 4864, 'albert': 174, 'sink': 3999, 'seen': 3865, 'romance': 3733, 'completely': 922, 'makes': 2716, 'wonder': 4926, 'whether': 4866, 'producers': 3418, 'ever': 1538, 'bothered': 549, 'always': 203, 'went': 4847, 'after': 143, 'girls': 1910, 'reactions': 3543, 'remarks': 3616, 'against': 147, 'him': 2109, 'were': 4848, 'priceless': 3392, 'says': 3801, 'virtually': 4751, 'such': 4268, 'opportunity': 3121, 'tend': 4401, 'quite': 3497, 'dull': 1384, 'notable': 3041, 'exception': 1557, 'itself': 2370, 'son': 4070, 'rank': 3519, 'right': 3697, 'bottom': 551, 'pile': 3277, 'below': 461, 'george': 1892, 'mildred': 2842, 'advice': 133, 'skip': 4016, 'second': 3846, 'again': 146, 'more': 2904, 'faithful': 1634, 'funny': 1851, 'neat': 2982, 'premise': 3372, 'unrealistic': 4676, 'learned': 2551, 'control': 977, 'weekend': 4838, 'cabin': 642, 'best': 468, 'loved': 2670, 'bill': 480, 'car': 679, 'hill': 2107, 'same': 3778, 'cant': 670, 'said': 3774, 'oh': 3096, 'police': 3324, 'never': 3001, 'seemed': 3862, 'owner': 3160, 'wreck': 4965, 'lots': 2662, 'dragged': 1342, 'including': 2263, 'plain': 3288, 'still': 4187, 'nightmares': 3015, 'poor': 3330, 'assistant': 325, 'guy': 1999, 'useless': 4694, 'intrigued': 2333, 'mysterious': 2955, 'thing': 4451, 'behind': 446, 'door': 1327, 'appeared': 275, 'laughed': 2532, 'ha': 2001, 'girl': 1908, 'angry': 237, 'about': 67, 'personally': 3245, 'would': 4957, 'new': 3003, 'body': 527, 'experience': 1580, 'stereotypical': 4179, 'send': 3875, 'slasher': 4020, 'falls': 1640, 'short': 3946, 'supposed': 4307, 'michael': 2830, 'cast': 709, 'wasted': 4809, 'lame': 2510, 'jokes': 2414, 'punch': 3468, 'line': 2610, 'dumb': 1385, 'liners': 2611, 'come': 885, 'fast': 1661, 'pace': 3162, 'flat': 1747, 'musical': 2947, 'numbers': 3061, 'sets': 3899, 'negative': 2991, 'setting': 3900, 'entirely': 1503, 'walls': 4783, 'abandoned': 62, 'school': 3813, 'avoid': 362, 'seek': 3858, 'national': 2970, 'yeah': 4977, 'did': 1240, 'baby': 375, 'rocks': 3723, '1st': 28, 'movies': 2927, 'saw': 3798, 'she': 3923, 'great': 1963, 'move': 2921, 'performance': 3230, 'outstanding': 3148, 'liked': 2600, 'scenery': 3810, 'amazing': 209, 'tell': 4396, 'put': 3482, 'lot': 2661, 'into': 2331, 'hope': 2154, 'comment': 897, 'helps': 2081, 'buy': 639, 'awesome': 370, 'unique': 4661, 'sure': 4309, 'going': 1930, 'amazed': 208, 'us': 4689, 'once': 3106, 'won': 4925, 'awards': 366, 'sexy': 3911, 'looks': 2649, 'angel': 231, 'share': 3920, 'twists': 4618, 'genres': 1888, 'giant': 1904, 'monster': 2892, 'living': 2629, 'mummy': 2937, 'blend': 504, 'compelling': 916, 'story': 4206, 'tom': 4515, 'who': 4871, 'know': 2489, 'been': 437, 'before': 439, 'effects': 1431, 'impressive': 2252, 'smaller': 4034, 'cool': 989, 'complaint': 920, 'wish': 4904, 'we': 4823, 'think': 4453, 'job': 2404, 'dialog': 1231, 'wonderful': 4928, 'sci': 3815, 'fi': 1700, 'channel': 752, 'heard': 2061, 'give': 1911, 'fallen': 1638, 'ones': 3108, 'need': 2987, 'explain': 1586, 'actions': 101, 'ive': 2371, 'basically': 406, 'production': 3421, 'although': 201, 'physical': 3264, 'camera': 658, 'work': 4940, 'boom': 537, 'operation': 3117, 'technical': 4382, 'aspects': 321, 'laughable': 2530, 'areas': 286, 'unlike': 4669, 'classic': 834, 'independent': 2271, 'saved': 3795, 'scripts': 3836, 'characterization': 758, 'awful': 371, 'script': 3834, 'annoying': 248, 'crime': 1055, 'gets': 1899, 'distribution': 1297, 'theres': 4441, 'indie': 2275, 'died': 1243, 'silent': 3975, 'deaths': 1142, 'brothers': 599, 'explanation': 1590, 'amateur': 206, 'family': 1645, 'picked': 3268, 'part': 3195, 'holds': 2130, 'intrigue': 2332, 'title': 4505, 'however': 2182, 'review': 3677, 'save': 3794, 'ill': 2227, 'forget': 1792, 'important': 2246, 'life': 2592, 'shame': 3918, 'excellent': 1555, 'cops': 993, 'loving': 2675, 'cop': 991, 'killed': 2469, 'seems': 3864, 'doesnt': 1308, 'lover': 2672, 'could': 1007, 'either': 1438, 'had': 2002, 'affair': 135, 'ending': 1471, 'highly': 2104, 'recommended': 3573, 'kids': 2467, 'mountains': 2918, 'goes': 1929, 'large': 2517, 'discovers': 1280, 'old': 3100, 'puts': 3483, 'spends': 4106, 'rest': 3658, 'killing': 2472, 'utterly': 4701, 'senseless': 3878, 'heres': 2086, 'list': 2617, 'things': 4452, 'hear': 2060, 'something': 4066, 'outside': 3147, 'investigate': 2341, 'finds': 1727, 'girlfriend': 1909, 'scream': 3826, 'head': 2056, 'next': 3007, 'morning': 2906, '50': 51, 'feet': 1687, 'away': 368, '100': 1, 'theyre': 4446, 'afraid': 140, 'theyll': 4445, 'walking': 4779, 'due': 1382, 'circumstances': 821, 'longer': 2645, 'requires': 3643, 'professor': 3424, 'thats': 4426, 'stupid': 4247, 'secondly': 3847, 'called': 651, 'nine': 3017, 'wounded': 4961, 'attacks': 338, 'stops': 4202, 'telling': 4397, 'training': 4557, 'taught': 4371, 'wound': 4960, 'kinda': 2477, 'noticed': 3049, 'shes': 3930, 'thanks': 4424, 'information': 2287, 'tied': 4490, 'someone': 4064, 'attempts': 342, 'free': 1826, 'help': 2078, 'look': 2646, 'idiot': 2217, 'if': 2221, 'set': 3898, 'take': 4350, 'whole': 4873, 'spent': 4107, 'idiots': 2219, 'getting': 1900, 'woods': 4935, 'fight': 1706, 'pitch': 3281, 'ignore': 2223, 'screams': 3828, 'friends': 1836, 'boring': 543, 'turned': 4605, 'dvd': 1391, 'halfway': 2007, 'through': 4478, 'none': 3028, 'sympathetic': 4343, 'especially': 1520, 'majority': 2712, 'screen': 3829, 'loud': 2664, 'kid': 2464, 'halloween': 2009, 'costume': 1005, 'face': 1616, 'evil': 1548, 'runs': 3757, 'should': 3951, 'hes': 2092, 'gay': 1875, 'special': 4096, 'comedic': 887, 'overall': 3151, 'maybe': 2776, 'produced': 3416, 'campy': 663, 'rid': 3691, 'ludicrous': 2685, 'creating': 1039, 'actual': 108, 'likable': 2598, 'personalities': 3243, 'having': 2053, 'sort': 4077, 'logical': 2639, 'flow': 1761, 'making': 2718, 'female': 1692, 'outfit': 3145, 'death': 1141, 'young': 4989, 'children': 791, 'looking': 2648, 'excuse': 1564, 'over': 3149, 'russian': 3762, 'maria': 2736, 'adorable': 124, 'course': 1019, 'paulie': 3217, 'happen': 2025, 'thought': 4463, 'found': 1810, 'herself': 2091, 'met': 2822, 'research': 3645, 'types': 4621, 'considered': 951, 'mature': 2773, '13': 4, 'main': 2707, 'currently': 1085, 'watching': 4815, 'reading': 3545, 'reviews': 3680, 'trailer': 4553, 'decided': 1149, 'knew': 2486, 'appear': 272, 'recommend': 3572, 'anyone': 258, 'visually': 4758, 'originality': 3130, 'tedious': 4388, 'technique': 4384, 'wears': 4832, 'thin': 4450, 'opening': 3114, 'battle': 413, 'law': 2538, 'charisma': 761, 'defense': 1159, 'big': 477, 'keeps': 2450, 'taking': 4353, 'dogs': 1310, 'paltrow': 3180, 'wooden': 4934, 'noir': 3023, 'top': 4526, 'camp': 661, 'black': 493, 'white': 4870, 'sorry': 4076, 'computer': 927, 'helped': 2079, 'turner': 4606, 'cliché': 843, 'mess': 2818, 'rather': 3529, 'break': 569, 'sit': 4003, 'test': 4417, 'world': 4946, 'used': 4692, 'dave': 1123, 'david': 1124, 'andrew': 228, 'miller': 2847, 'kissing': 2484, 'child': 788, 'neither': 2996, 'guilty': 1994, 'faced': 1617, 'torn': 4529, 'ended': 1470, 'kind': 2476, 'weird': 4841, 'alone': 194, 'each': 1395, 'company': 909, 'improve': 2253, 'live': 2625, 'memories': 2803, 'sound': 4081, 'during': 1387, 'product': 3420, 'imagination': 2235, 'written': 4972, 'directed': 1258, 'stars': 4154, 'stays': 4168, 'towards': 4541, 'indian': 2273, 'times': 4498, 'clear': 838, 'doctors': 1304, 'lying': 2690, 'charge': 760, 'wearing': 4831, 'gold': 1931, 'watches': 4814, 'box': 555, 'notice': 3048, 'couple': 1016, 'cases': 707, 'mind': 2850, 'bank': 393, 'note': 3044, 'average': 361, 'india': 2272, 'month': 2896, 'bugs': 612, 'wacky': 4769, 'shorts': 3948, 'famous': 1647, 'works': 4945, 'store': 4203, 'display': 1290, 'case': 706, 'decides': 1150, 'stuff': 4242, 'proves': 3449, 'nearly': 2981, 'impossible': 2248, 'knows': 2493, 'cross': 1066, 'dress': 1357, 'everything': 1544, 'coming': 895, 'speed': 4102, 'hilarious': 2105, 'cartoon': 703, 'among': 217, 'fine': 1728, 'tunes': 4602, 'looked': 2647, '40s': 49, 'crowd': 1067, 'polished': 3325, 'wrong': 4973, 'cartoons': 704, 'forms': 1800, 'arrived': 300, 'anyway': 260, 'watched': 4813, 'cold': 871, 'episodes': 1508, 'years': 4979, 'beginning': 442, 'season': 3843, '2003': 33, '2004': 34, 'particular': 3196, 'episode': 1507, 'agree': 155, 'content': 966, 'ie': 2220, 'male': 2719, 'romantic': 3734, 'deeply': 1156, 'spirit': 4112, 'essentially': 1523, 'based': 403, 'dying': 1393, 'drug': 1373, 'central': 734, 'actors': 104, 'officers': 3093, '1960s': 14, 'named': 2961, 'sean': 3840, 'aka': 168, 'victim': 4729, 'last': 2521, 'partner': 3200, 'jimmy': 2402, 'single': 3996, 'vietnam': 4735, 'war': 4792, 'troubled': 4592, 'past': 3209, 'married': 2744, 'less': 2575, 'both': 547, 'force': 1785, 'form': 1797, 'friendship': 1837, 'secret': 3849, 'hide': 2096, 'obviously': 3072, 'culture': 1079, 'flashback': 1745, 'lives': 2628, 'mostly': 2910, 'bits': 490, 'color': 876, 'examples': 1554, 'include': 2260, 'red': 3577, 'yellow': 4981, 'blowing': 515, 'window': 4894, 'bedroom': 436, 'wife': 4884, 'kiss': 2483, 'alcohol': 176, 'state': 4159, 'else': 1448, 'figured': 1711, 'scheme': 3812, 'clearly': 839, 'tension': 4405, 'fellow': 1690, 'intensity': 2316, 'key': 2458, 'emotional': 1459, 'respected': 3654, 'officer': 3092, 'surrounding': 4320, 'upon': 4683, 'our': 3140, 'youre': 4992, 'relationships': 3599, 'era': 1513, 'room': 3736, 'batman': 412, 'robin': 3716, 'wanted': 4789, 'choose': 798, 'church': 812, 'walks': 4780, 'realizing': 3556, 'cannot': 669, 'sadly': 3769, 'knowledge': 2491, 'corruption': 1002, 'reached': 3538, 'higher': 2100, 'sat': 3786, 'spoke': 4124, 'words': 4938, 'radio': 3506, 'lucky': 2683, 'soundtrack': 4085, 'enjoyed': 1486, 'final': 1721, 'actor': 103, 'playing': 3302, 'older': 3101, 'missing': 2870, 'former': 1799, 'consider': 949, 'acted': 98, 'shots': 3950, 'lighting': 2596, 'year': 4978, 'shocked': 3939, 'recently': 3568, 'couldnt': 1008, 'miss': 2867, 'simply': 3986, 'read': 3544, 'novel': 3052, 'wrote': 4974, 'already': 197, 'believe': 453, 'possibly': 3353, 'received': 3565, 'gave': 1874, 'badly': 382, 'long': 2644, 'different': 1247, 'took': 4524, 'approach': 281, 'street': 4215, 'smart': 4035, 'team': 4379, 'vs': 4767, 'professional': 3423, 'boy': 557, 'trouble': 4591, 'week': 4837, 'continues': 971, 'absurd': 73, 'game': 1863, 'project': 3429, 'manager': 2724, 'lose': 2654, 'turn': 4604, 'fired': 1734, 'often': 3095, 'half': 2006, 'ass': 322, 'jobs': 2405, 'claims': 829, 'hire': 2115, 'until': 4679, 'left': 2561, 'lol': 2640, 'weve': 4856, 'total': 4532, 'offensive': 3086, 'stereotypes': 4178, 'carried': 697, 'try': 4599, 'victims': 4730, 'danny': 1112, 'those': 4461, 'three': 4470, 'conflict': 939, 'anger': 234, 'suffering': 4277, 'worthless': 4954, 'popular': 3335, 'everyone': 1542, 'gang': 1866, 'rules': 3754, 'entertaining': 1499, 'given': 1912, 'wide': 4880, 'photo': 3259, 'shoots': 3944, 'construction': 960, 'mini': 2855, 'building': 614, 'chaos': 754, 'winner': 4897, 'paris': 3191, 'count': 1010, 'talents': 4357, 'novels': 3053, 'songs': 4072, 'unforgettable': 4651, 'quotes': 3499, 'director': 1263, 'max': 2774, 'offered': 3088, 'shining': 3933, 'wet': 4855, 'lights': 2597, 'glass': 1916, 'coffee': 869, 'night': 3013, 'own': 3159, 'associated': 326, 'collection': 873, '18': 10, 'talented': 4356, 'directors': 1265, 'familiar': 1643, 'city': 824, '20': 29, 'ages': 152, 'colors': 878, 'backgrounds': 380, 'deal': 1135, 'witnesses': 4916, 'unexpected': 4649, 'encounters': 1467, 'strangers': 4213, 'instant': 2304, 'muslim': 2949, 'whose': 4877, 'cultural': 1078, 'begins': 443, 'category': 717, 'humorous': 2192, 'van': 4712, 'le': 2544, 'heart': 2063, 'sudden': 4272, 'object': 3066, 'does': 1307, 'understand': 4642, 'french': 1829, 'poignant': 3317, 'walter': 4784, 'thomas': 4459, 'oscar': 3133, 'nominated': 3025, 'debut': 1143, 'full': 1845, 'grace': 1949, 'working': 4944, 'class': 832, 'mother': 2911, 'wealthy': 4827, 'neighborhood': 2993, 'drops': 1372, 'memorable': 2802, 'place': 3284, 'oliver': 3102, 'co': 866, 'star': 4149, 'happened': 2026, 'promises': 3434, 'cut': 1089, 'hatred': 2048, 'present': 3376, 'everywhere': 1545, 'starring': 4153, 'richardson': 3689, 'ready': 3547, 'beautiful': 427, 'mistress': 2875, 'news': 3005, 'doctor': 1303, 'arrives': 301, 'weak': 4824, 'forgotten': 1796, 'soon': 4074, 'am': 204, 'glad': 1915, 'bought': 552, 'return': 3666, 'favorite': 1671, 'mentioned': 2811, 'wes': 4851, 'craven': 1034, 'involves': 2347, 'ghost': 1901, 'men': 2805, 'alexander': 180, 'lonely': 2643, 'post': 3354, 'worker': 4942, 'voice': 4761, 'heavy': 2069, 'accent': 78, 'entry': 1504, 'along': 195, 'ethan': 1528, 'steve': 4180, 'absolute': 71, 'american': 213, 'results': 3663, 'feelings': 1685, 'sad': 3767, 'bright': 581, 'sometimes': 4067, 'useful': 4693, 'guide': 1992, 'doing': 1311, 'foreign': 1789, 'country': 1014, 'okay': 3099, 'keith': 2451, 'england': 1482, 'folks': 1770, 'peter': 3249, 'colonel': 875, 'lord': 2652, 'lady': 2507, 'younger': 4990, 'prime': 3397, 'mine': 2854, 'enough': 1491, 'toy': 4543, 'side': 3965, 'alright': 198, 'comes': 890, 'round': 3742, 'age': 148, 'equally': 1510, 'cover': 1022, 'finally': 1723, 'susan': 4327, 'serving': 3897, 'tea': 4374, 'office': 3091, 'deep': 1154, 'bit': 488, 'local': 2634, 'ah': 158, 'running': 3756, 'write': 4967, 'em': 1452, 'loss': 2659, 're': 3536, 'supporting': 4305, 'roles': 3728, 'paid': 3171, 'warning': 4800, 'sign': 3970, 'shooting': 3943, 'hey': 2094, 'leading': 2547, 'crying': 1074, 'eyes': 1613, 'eyed': 1612, 'shall': 3916, 'third': 4456, 'emily': 1456, 'award': 365, 'act': 97, 'use': 4691, 'fourth': 1812, 'mrs': 2930, 'whom': 4875, 'sum': 4289, 'ii': 2225, 'happening': 2027, 'ok': 3098, 'parents': 3190, 'japanese': 2381, 'prison': 3403, 'meanwhile': 2785, 'crush': 1072, 'tough': 4538, 'spot': 4130, 'somewhere': 4069, 'stories': 4204, 'hadnt': 2003, 'deserves': 1200, 'honor': 2149, 'spanish': 4091, 'pick': 3267, 'favorites': 1672, 'similar': 3978, 'blood': 512, 'wedding': 4836, '1983': 22, '2002': 32, 'conceived': 929, 'music': 2946, 'francisco': 1818, 'piano': 3266, 'audience': 351, 'france': 1815, 'early': 1400, 'influenced': 2286, 'imaginative': 2236, 'folk': 1769, 'styles': 4250, 'performing': 3235, 'direction': 1260, 'naturally': 2974, 'performers': 3234, 'terms': 4407, 'various': 4714, 'dances': 1106, 'source': 4086, 'dance': 1103, 'compared': 911, 'jewish': 2400, 'intense': 2315, 'mix': 2877, 'singing': 3995, 'dancing': 1107, 'manner': 2729, 'style': 4249, 'carries': 698, 'pride': 3393, 'moves': 2925, 'sequences': 3888, 'introduction': 2338, 'conclusion': 936, 'artists': 308, 'dropped': 1370, 'singers': 3994, 'dancers': 1105, 'stage': 4138, 'nice': 3008, 'screens': 3832, 'cinematographer': 818, 'filmmakers': 1719, 'endings': 1472, 'rough': 3741, 'atmospheric': 333, 'mixture': 2879, 'voices': 4763, 'dancer': 1104, 'interaction': 2321, 'creates': 1038, 'magic': 2703, 'conventional': 979, 'narration': 2965, 'brief': 579, 'titles': 4507, 'type': 4620, 'song': 4071, 'gradually': 1951, 'little': 2624, 'element': 1442, 'raw': 3533, 'ugly': 4624, 'listen': 2619, 'closest': 856, 'attention': 344, 'foot': 1780, 'combined': 884, 'elements': 1443, 'youll': 4988, 'doom': 1325, 'lesser': 2576, 'degree': 1164, 'power': 3361, 'rich': 3686, 'matter': 2769, '75': 57, 'stated': 4160, 'wonderfully': 4929, 'across': 96, 'vehicle': 4717, 'mr': 2929, 'strangely': 4211, 'friendly': 1835, 'endearing': 1469, 'nostalgic': 3039, 'references': 3584, 'fare': 1655, 'odd': 3080, 'band': 390, 'play': 3298, 'typical': 4622, 'recorded': 3575, 'studios': 4240, 'pity': 3283, 'original': 3129, 'survived': 4323, 'stock': 4192, 'documentary': 1306, 'bat': 409, 'effective': 1429, 'hanging': 2022, 'flying': 1763, 'near': 2979, 'unsettling': 4678, 'imagine': 2237, 'sequence': 3887, 'forty': 1806, 'mark': 2739, 'downright': 1336, 'attack': 336, 'bloody': 513, 'broken': 594, 'problem': 3410, 'happens': 2028, 'late': 2523, 'consists': 955, 'screaming': 3827, 'arms': 293, 'managed': 2723, 'vacation': 4703, 'fear': 1676, 'suck': 4269, 'ruined': 3751, 'peoples': 3224, 'reference': 3583, 'page': 3169, 'summary': 4290, 'stick': 4184, 'starts': 4158, 'trying': 4600, 'convince': 983, 'involved': 2345, 'mouth': 2920, 'covered': 1023, 'drugs': 1374, 'space': 4090, 'behave': 444, 'pushing': 3481, 'creature': 1045, 'kills': 2474, 'bunch': 622, 'essential': 1522, 'feature': 1678, 'tries': 4584, 'psychological': 3460, 'study': 4241, 'eventually': 1537, 'hills': 2108, 'human': 2187, 'chase': 768, 'expected': 1577, 'price': 3391, 'fifteen': 1705, 'twenty': 4611, 'thirty': 4457, 'journey': 2420, 'takes': 4352, 'front': 1840, 'involving': 2348, 'whos': 4876, 'moral': 2902, 'edge': 1418, 'paul': 3216, 'friend': 1834, 'message': 2819, 'missed': 2868, 'forgettable': 1793, 'run': 3755, 'italian': 2366, 'today': 4509, 'inspired': 2300, 'ideas': 2214, 'ago': 154, 'whenever': 4863, 'certain': 736, 'anime': 242, 'reminded': 3620, 'animation': 241, 'rushed': 3760, 'properly': 3439, 'ruin': 3750, 'viewing': 4740, 'answers': 251, 'historical': 2118, 'fit': 1739, 'interested': 2323, 'figures': 1712, 'pulled': 3464, 'nicely': 3009, 'id': 2211, 'built': 617, 'fantasy': 1652, 'prefer': 3370, 'robert': 3714, 'lloyd': 2630, 'martin': 2748, 'clever': 840, 'goldberg': 1932, 'straight': 4209, 'german': 1895, 'tons': 4521, 'symbolism': 4342, 'came': 655, 'friday': 1833, 'opera': 3116, 'follows': 1774, 'score': 3822, 'filmed': 1716, 'performed': 3232, 'bold': 528, 'bizarre': 492, 'cinematography': 819, 'controversial': 978, 'prior': 3402, 'released': 3604, 'hitler': 2123, 'richard': 3687, 'personal': 3242, 'anti': 253, 'grand': 1952, 'daughters': 1122, 'disturbing': 1299, 'gender': 1877, 'displays': 1292, 'quest': 3488, 'holy': 2139, 'serves': 3895, 'sinister': 3998, '20th': 38, 'century': 735, 'nude': 3058, 'portrayed': 3344, 'corrupt': 1001, 'mary': 2751, 'eve': 1532, 'beautifully': 428, 'european': 1530, 'appreciate': 278, 'lovers': 2673, 'focused': 1766, 'depth': 1189, 'greater': 1964, 'james': 2377, 'todays': 4510, 'voiced': 4762, 'dramatic': 1347, 'exciting': 1563, 'perfectly': 3228, 'certainly': 737, 'un': 4629, 'christian': 807, 'kings': 2481, 'turning': 4607, 'cult': 1077, 'overlooked': 3155, 'pass': 3203, 'paced': 3163, 'thriller': 4473, 'god': 1925, 'cars': 701, 'entertain': 1497, 'worth': 4953, 'breath': 573, 'helicopter': 2075, 'robot': 3718, 'pilot': 3278, 'maintain': 2710, 'constant': 957, 'flight': 1756, 'meant': 2784, 'hook': 2151, 'rip': 3701, 'pieces': 3275, 'laughing': 2533, 'starting': 4157, 'air': 164, 'hit': 2121, 'bridge': 578, 'tree': 4575, 'occurred': 3077, 'jesus': 2398, 'video': 4733, 'scripted': 3835, 'hollywood': 2136, 'learn': 2550, 'korean': 2495, 'productions': 3422, 'required': 3642, 'occasional': 3074, 'cg': 738, 'funniest': 1850, 'moment': 2887, 'became': 430, 'revealed': 3672, 'brings': 587, 'trailers': 4554, 'internet': 2326, 'theaters': 4429, 'jane': 2379, 'eyre': 1614, 'classics': 836, 'believed': 454, 'overrated': 3157, 'plots': 3312, 'changed': 749, 'fabulous': 1615, 'gives': 1913, 'portrayal': 3343, 'delightful': 1168, 'quiet': 3494, 'matches': 2764, 'exactly': 1551, 'timothy': 4500, 'dalton': 1098, 'rochester': 3720, 'passion': 3207, 'energy': 1478, 'born': 544, 'master': 2757, 'hall': 2008, 'sleep': 4024, 'haunting': 2050, 'inspiring': 2301, 'incredible': 2268, 'version': 4720, 'book': 535, 'later': 2525, 'closely': 854, 'followed': 1772, 'writing': 4971, 'change': 748, 'bbc': 416, 'remake': 3613, '1968': 15, 'begin': 441, 'scarecrow': 3804, 'image': 2232, 'soul': 4079, 'struggle': 4233, 'leader': 2546, 'prince': 3398, 'english': 1483, 'freak': 1823, 'movements': 2924, 'speak': 4093, 'modern': 2883, 'dressed': 1358, 'day': 1129, 'cheap': 773, 'close': 852, 'standards': 4144, 'women': 4923, 'piece': 3274, 'shown': 3959, 'previous': 3389, 'evening': 1534, 'user': 4695, '80': 58, 'spielberg': 4109, 'remember': 3617, 'saving': 3797, 'turns': 4608, 'cgi': 739, 'explosion': 1596, 'nor': 3032, 'craft': 1028, 'gone': 1934, 'wind': 4893, 'wake': 4774, 'busy': 634, 'common': 905, 'aside': 314, 'deadly': 1133, 'exaggerated': 1552, 'dramas': 1346, 'mistake': 2872, 'numerous': 3062, 'laughs': 2534, 'ridiculous': 3694, 'sucks': 4271, 'order': 3126, 'mention': 2810, 'pop': 3332, 'natural': 2973, 'easy': 1410, 'match': 2762, 'hard': 2032, 'chance': 746, 'joined': 2412, 'losers': 2656, 'plus': 3313, 'uncomfortable': 4636, 'ironically': 2355, 'intended': 2314, 'powerful': 3362, 'fits': 1740, 'laughter': 2535, 'serial': 3889, 'everybody': 1540, 'besides': 467, 'judging': 2424, 'adult': 125, 'kill': 2468, 'fortunately': 1804, 'rubbish': 3748, 'harry': 2038, 'nowadays': 3055, 'immensely': 2242, 'proper': 3438, 'soviet': 4089, '1950s': 13, 'extent': 1605, 'exist': 1569, 'sequel': 3885, 'solid': 4057, 'thoroughly': 4460, 'creative': 1041, 'creativity': 1042, 'spoof': 4126, '80s': 59, 'hell': 2076, 'heaven': 2067, 'mad': 2696, 'isnt': 2361, 'generally': 1880, '30': 42, 'sounds': 4084, 'hated': 2046, 'regular': 3593, 'bands': 391, 'testament': 4418, '70s': 56, 'portrays': 3346, 'rock': 3721, 'believable': 452, 'reminds': 3621, '50s': 52, 'rise': 3703, 'members': 2801, 'hurt': 2201, 'popularity': 3336, 'disneys': 1289, 'animated': 240, 'features': 1680, 'overly': 3156, 'criticism': 1063, 'least': 2554, 'alice': 182, 'pan': 3182, 'weakest': 4825, 'cinderella': 814, 'subtle': 4260, 'consistent': 953, 'swear': 4335, 'humans': 2189, 'arent': 287, 'animals': 239, 'studio': 4239, 'instance': 2303, 'creatures': 1046, 'draw': 1348, 'cat': 712, 'wicked': 4879, 'brilliantly': 584, 'ward': 4793, 'animal': 238, 'allows': 192, 'steal': 4169, 'drawing': 1349, 'duke': 1383, 'wants': 4791, 'appears': 277, 'struck': 4231, 'fashion': 1659, 'eight': 1436, 'subsequent': 4257, 'picking': 3269, 'heroine': 2090, 'havent': 2052, 'recent': 3567, 'nonetheless': 3029, 'remarkable': 3614, 'successful': 4266, 'disney': 1288, 'bringing': 586, 'cutting': 1092, 'fan': 1648, 'subject': 4253, 'explore': 1594, 'relatively': 3601, 'places': 3286, 'doc': 1302, 'able': 66, 'presentation': 3377, 'failed': 1626, 'possible': 3352, 'includes': 2262, 'makeup': 2717, 'mtv': 2933, 'speaking': 4094, 'reviewer': 3678, 'ape': 265, 'suit': 4284, 'plenty': 3309, 'portraying': 3345, 'dynamic': 1394, 'remotely': 3624, 'taken': 4351, 'lacked': 2503, 'dinosaurs': 1255, 'fate': 1665, 'engaged': 1480, 'care': 683, 'facts': 1624, 'fairly': 1631, 'otherwise': 3138, 'bother': 548, 'renting': 3630, 'unless': 4668, 'frequently': 1831, 'usually': 4699, 'rolling': 3731, 'belong': 458, 'shelf': 3926, 'directly': 1262, 'atmosphere': 332, 'throat': 4477, 'stunning': 4244, 'treat': 4571, 'shock': 3938, 'focus': 1765, 'grow': 1981, 'burt': 628, 'jon': 2415, 'voight': 4764, 'ned': 2986, 'beatty': 426, 'albeit': 173, 'opposed': 3122, 'justin': 2439, 'hype': 2206, 'veteran': 4724, 'terror': 4413, 'competition': 918, 'plays': 3303, 'lewis': 2586, 'group': 1979, 'four': 1811, 'trip': 4587, 'river': 3708, 'experienced': 1581, 'portray': 3342, 'proved': 3448, 'cox': 1026, 'drew': 1360, 'bob': 524, 'regard': 3589, 'treasure': 4570, 'ed': 1415, 'hero': 2087, 'opens': 3115, 'driving': 1368, 'drive': 1363, 'whilst': 4869, 'immediately': 2241, 'creepy': 1052, 'introduced': 2336, 'infamous': 2283, 'mountain': 2917, 'rape': 3522, 'confusion': 943, 'shape': 3919, 'shot': 3949, 'odds': 3082, 'survival': 4321, 'fights': 1709, 'enemy': 1477, 'shoot': 3942, 'floor': 1758, 'neck': 2985, 'carry': 699, 'date': 1118, 'remains': 3612, 'dealing': 1136, 'success': 4265, 'aging': 153, 'escape': 1517, 'ghosts': 1902, 'condition': 937, 'purpose': 3476, 'parallel': 3187, 'theatrical': 4431, 'relations': 3597, 'hopeless': 2157, 'comedies': 888, 'riveting': 3709, 'largely': 2518, 'intelligent': 2313, 'crisis': 1060, 'details': 1218, 'efforts': 1433, 'survive': 4322, 'repeat': 3631, 'spend': 4104, 'taste': 4370, 'continue': 969, 'accused': 91, 'shakespeare': 3915, 'hamlet': 2012, 'conflicts': 940, 'values': 4709, 'discussion': 1283, 'birth': 486, 'ultimate': 4626, 'path': 3211, 'value': 4708, 'responsibility': 3656, 'punishment': 3469, 'leads': 2548, 'lucy': 2684, 'russell': 3761, 'speaks': 4095, 'language': 2516, 'brilliant': 583, 'favor': 1670, 'curiosity': 1082, 'stayed': 4166, 'spite': 4116, 'politics': 3328, 'teenagers': 4392, 'lets': 2580, 'period': 3238, 'differences': 1246, 'apart': 263, 'teens': 4393, 'displayed': 1291, 'growing': 1982, 'drinking': 1362, 'sports': 4129, '1970s': 16, 'southern': 4088, 'california': 649, 'joy': 2421, 'youth': 4994, 'wont': 4932, 'earlier': 1399, 'honest': 2145, 'soft': 4051, 'sam': 3777, 'pictures': 3272, 'kick': 2460, 'wait': 4770, 'scared': 3805, 'sitting': 4007, 'theater': 4428, 'wished': 4905, 'protagonist': 3443, 'myself': 2953, 'jump': 2428, 'scary': 3807, 'cried': 1054, 'wise': 4903, 'psychotic': 3461, 'event': 1535, 'whoever': 4872, 'sick': 3963, 'psycho': 3459, 'compare': 910, 'grew': 1971, 'jason': 2382, 'freddy': 1825, 'spooky': 4127, 'ring': 3699, 'promising': 3435, 'brutal': 603, 'mask': 2752, 'killer': 2470, 'pretty': 3386, '1990s': 25, 'worked': 4941, 'die': 1242, 'andy': 230, 'earth': 1403, 'respect': 3653, 'honesty': 2147, 'simplistic': 3985, 'created': 1037, 'accepted': 82, 'scottish': 3825, 'humor': 2191, 'covers': 1024, 'minimal': 2856, 'fred': 1824, 'aspect': 320, 'underrated': 4641, 'parts': 3201, 'wins': 4899, 'twist': 4616, 'michelle': 2831, 'tony': 4522, 'gonna': 1935, 'mafia': 2700, 'dollar': 1313, 'gem': 1876, 'wow': 4962, 'centers': 733, 'teenage': 4390, 'witness': 4914, 'survivor': 4325, 'bullet': 619, 'miracle': 2861, 'thrown': 4482, 'slowly': 4032, 'painful': 3173, 'hate': 2045, 'lacking': 2504, 'cuts': 1091, 'reaches': 3539, 'goal': 1924, 'thousands': 4467, 'fails': 1628, 'considering': 952, 'travel': 4566, 'future': 1855, 'ancient': 225, 'uses': 4696, 'disgusting': 1285, 'nobody': 3022, 'tremendous': 4578, 'expert': 1585, 'realize': 3553, 'general': 1879, 'justify': 2438, 'needed': 2988, 'stolen': 4194, 'expensive': 1579, 'selling': 3873, 'holes': 2132, 'stuck': 4236, 'role': 3727, 'pain': 3172, 'travels': 4568, 'digital': 1250, 'mail': 2706, 'supernatural': 4302, 'installment': 2302, 'standard': 4143, 'picture': 3271, 'thus': 4487, 'oddly': 3081, 'watchable': 4812, 'violence': 4747, 'originally': 3131, '17': 9, 'america': 212, 'network': 3000, 'audiences': 352, 'problems': 3411, 'viewed': 4737, 'board': 522, 'rooms': 3737, 'clue': 863, 'seasons': 3844, 'direct': 1257, 'release': 3603, 'material': 2766, 'sub': 4252, 'context': 968, 'conversations': 981, 'surface': 4311, 'political': 3326, 'cringe': 1059, 'crude': 1069, 'embarrassing': 1454, 'madonna': 2699, 'guys': 2000, 'honestly': 2146, 'insult': 2308, 'intelligence': 2312, 'strange': 4210, 'regret': 3592, 'huge': 2184, 'sequels': 3886, 'days': 1130, 'rush': 3759, 'progress': 3427, 'pacino': 3165, 'check': 776, 'ask': 315, 'relevant': 3605, 'jail': 2375, 'minor': 2858, 'spoiler': 4122, 'hours': 2176, 'prequel': 3374, 'tried': 4583, 'appearance': 273, 'probably': 3409, 'cute': 1090, 'shower': 3957, 'number': 3060, 'charm': 766, 'dialogs': 1232, 'cheesy': 780, 'expecting': 1578, 'hotel': 2174, 'mans': 2730, 'blew': 505, 'hood': 2150, 'bette': 470, 'attractive': 350, 'career': 685, 'stopped': 4201, 'swim': 4338, 'marriage': 2743, 'johnny': 2409, 'eye': 1611, 'davis': 1126, 'suppose': 4306, 'reporter': 3637, 'simple': 3983, 'following': 1773, 'reasons': 3561, 'poetry': 3316, 'expressed': 1601, 'poem': 3314, 'chorus': 802, 'party': 3202, 'rendition': 3626, 'appreciation': 280, 'lynch': 2691, 'critics': 1064, 'talent': 4355, 'integrity': 2310, 'surreal': 4318, 'decade': 1144, 'rated': 3528, 'pacing': 3164, 'genuine': 1890, 'terrific': 4410, 'montage': 2894, 'breathtaking': 574, 'refreshing': 3587, 'notably': 3042, 'dean': 1139, 'crucial': 1068, 'motion': 2913, 'blue': 518, 'elephant': 1444, 'faith': 1633, 'twin': 4614, 'fire': 1733, 'showed': 3956, 'method': 2825, 'caught': 721, 'praise': 3366, 'nomination': 3026, 'question': 3489, 'husband': 2203, 'since': 3990, 'legendary': 2565, '1984': 23, 'win': 4892, 'basic': 405, 'planet': 3291, 'moon': 2900, 'remote': 3623, 'prisoners': 3405, 'walker': 4778, 'hunter': 2198, 'theyd': 4444, 'retired': 3665, 'suffers': 4278, 'nightmare': 3014, 'futuristic': 1856, 'chases': 770, 'sides': 3967, 'explosions': 1597, 'empire': 1464, 'shine': 3931, 'surprisingly': 4317, 'featuring': 1681, 'punk': 3470, 'mid': 2833, 'buying': 640, 'names': 2963, 'listed': 2618, '12': 3, 'pack': 3166, 'beer': 438, 'giving': 1914, 'credit': 1049, 'costumes': 1006, 'undoubtedly': 4647, 'lowest': 2678, 'clumsy': 865, 'william': 4887, 'sir': 4000, 'uninspired': 4656, 'dubbed': 1379, 'occasion': 3073, 'wit': 4908, 'evident': 1547, 'screenplay': 3831, 'extras': 1608, 'chinese': 795, 'asked': 316, 'sent': 3880, 'answer': 250, 'youve': 4995, 'focuses': 1767, 'boys': 559, 'players': 3301, 'village': 4743, 'forced': 1786, 'allow': 189, 'ordinary': 3128, 'depicts': 1185, 'behavior': 445, 'violent': 4748, 'encounter': 1466, 'throwing': 4481, 'bag': 383, 'kicks': 2463, 'brother': 598, 'buddies': 607, 'closer': 855, 'slightest': 4028, 'started': 4156, 'somewhat': 4068, 'changes': 750, 'mild': 2840, 'random': 3515, 'depicted': 1183, 'reality': 3552, 'means': 2783, 'birds': 485, 'manages': 2725, 'description': 1196, 'ourselves': 3141, 'follow': 1771, 'jack': 2372, 'neo': 2998, 'persons': 3246, 'dignity': 1251, 'routine': 3743, 'neighbor': 2992, 'daily': 1097, 'newly': 3004, 'producer': 3417, 'fail': 1625, 'business': 632, 'daughter': 1121, 'adults': 126, 'ego': 1435, 'protect': 3445, 'whats': 4860, 'everyday': 1541, 'smoking': 4040, 'finding': 1726, 'opposite': 3123, 'staying': 4167, 'aunt': 354, 'reveal': 3671, 'spoil': 4120, 'wanting': 4790, 'viewers': 4739, 'view': 4736, 'perspective': 3247, 'position': 3347, 'empty': 1465, 'significant': 3972, 'impact': 2243, 'mitchell': 2876, 'impress': 2249, 'hold': 2128, 'dawn': 1127, 'holiday': 2133, 'golden': 1933, 'suspect': 4328, 'musicals': 2948, 'scores': 3823, 'mediocre': 2791, 'twice': 4612, 'rare': 3524, 'murder': 2939, 'lisa': 2616, 'captain': 673, 'usa': 4690, 'tune': 4601, 'shouldnt': 3952, 'rogers': 3726, 'hart': 2040, '1930s': 11, 'assigned': 324, 'pleasant': 3304, 'centered': 732, 'player': 3300, 'blows': 517, 'thrills': 4476, 'ocean': 3079, 'constantly': 958, 'boss': 546, 'ships': 3935, 'ship': 3934, 'soldier': 4053, 'shortly': 3947, 'touch': 4534, 'talking': 4361, 'boat': 523, 'wall': 4781, 'hits': 2124, 'johnson': 2410, 'meets': 2795, 'reputation': 3641, 'dorothy': 1329, 'jazz': 2386, 'darker': 1116, 'caine': 646, 'stands': 4146, 'rarely': 3525, 'carl': 691, 'fair': 1630, 'charles': 763, 'usual': 4698, 'hands': 2019, 'embarrassment': 1455, 'lie': 2590, 'subtlety': 4261, 'major': 2711, 'glory': 1921, 'program': 3426, 'carol': 692, 'jenny': 2392, 'suddenly': 4273, 'slight': 4027, 'wondering': 4930, 'harvey': 2041, 'ryan': 3765, 'funnier': 1849, 'artist': 306, 'patients': 3214, 'worry': 4950, 'open': 3112, 'universal': 4664, 'asian': 313, 'chased': 769, 'soldiers': 4054, 'field': 1703, 'government': 1947, 'designs': 1203, 'explained': 1587, 'beyond': 475, 'united': 4663, 'states': 4162, 'process': 3414, 'artificial': 305, 'shut': 3961, 'stop': 4200, 'becoming': 434, 'casting': 710, 'breaking': 570, 'talk': 4359, 'train': 4555, 'appropriate': 282, 'villain': 4744, 'fighting': 1708, 'potentially': 3358, 'dolph': 1316, 'lousy': 2667, 'poetic': 3315, 'science': 3816, 'fiction': 1701, 'entertained': 1498, 'strip': 4227, 'club': 862, 'roger': 3725, 'nasty': 2968, 'pregnant': 3371, 'killings': 2473, 'adams': 112, 'virginia': 4750, 'square': 4135, 'fancy': 1649, 'meet': 2793, 'dr': 1339, 'karen': 2443, 'rate': 3527, 'couples': 1017, 'joke': 2413, 'extreme': 1609, 'treatment': 4573, 'matters': 2770, 'told': 4514, 'ya': 4976, 'might': 2836, 'putting': 3484, 'rental': 3628, 'quickly': 3493, 'picks': 3270, 'describes': 1195, 'australian': 356, 'clothes': 859, 'hasnt': 2043, 'explored': 1595, 'develops': 1225, 'captured': 676, 'guard': 1987, 'learns': 2553, 'executed': 1565, 'mentions': 2813, 'hearing': 2062, 'tells': 4398, 'sentence': 3881, 'according': 88, 'highest': 2101, 'warriors': 4803, 'japan': 2380, 'tense': 4404, 'easily': 1406, 'recognition': 3569, 'deserved': 1199, 'copy': 994, 'uk': 4625, 'packed': 3168, 'henry': 2083, 'football': 1782, 'lasted': 2522, 'wrestling': 4966, 'effect': 1428, 'promise': 3432, 'deliver': 1169, 'theory': 4438, 'showing': 3958, 'result': 3661, 'connection': 946, 'emotionally': 1460, 'attitude': 345, 'stronger': 4229, 'merely': 2815, 'hat': 2044, 'tap': 4365, 'available': 360, 'rent': 3627, 'fully': 1846, 'wasting': 4810, 'hair': 2004, 'wishes': 4906, 'mainly': 2708, 'skills': 4014, 'college': 874, 'magical': 2704, 'pretend': 3383, 'length': 2569, 'chaplin': 755, 'gotten': 1946, 'mere': 2814, 'charlie': 764, 'catching': 715, 'promised': 3433, 'visible': 4753, 'concerns': 934, 'race': 3501, 'finger': 1730, 'frankly': 1822, 'editing': 1421, 'gags': 1861, 'wore': 4939, 'suits': 4287, 'fashioned': 1660, 'track': 4545, 'edgar': 1417, 'kennedy': 2454, 'mindless': 2852, 'performer': 3233, 'add': 115, 'filming': 1717, 'lines': 2612, 'trite': 4588, 'passed': 3204, '60s': 54, 'eddie': 1416, 'addition': 118, 'reunion': 3670, 'fly': 1762, 'sid': 3964, 'unbelievable': 4633, 'robots': 3719, 'combination': 882, 'spots': 4131, 'writers': 4969, 'uncle': 4635, 'accident': 84, 'lily': 2605, 'drag': 1341, 'leg': 2562, 'stunt': 4245, 'fantastic': 1651, 'sensitive': 3879, 'attempted': 340, 'finest': 1729, 'brand': 565, 'measure': 2786, 'road': 3710, 'system': 4346, 'justice': 2437, 'concert': 935, 'singer': 3993, 'stand': 4142, 'cd': 727, 'excitement': 1562, 'ex': 1549, 'complete': 921, 'stranger': 4212, 'feels': 1686, 'leaves': 2556, 'bitter': 491, 'touching': 4537, 'awkward': 373, 'industry': 2279, 'makers': 2715, 'visit': 4755, 'nazi': 2977, 'naive': 2958, 'community': 907, 'footage': 1781, 'clips': 851, 'international': 2325, 'related': 3595, 'worlds': 4947, 'traditional': 4550, 'expression': 1602, 'racial': 3503, 'frightening': 1838, 'reach': 3537, 'knock': 2488, 'writer': 4968, 'blatant': 502, 'dude': 1381, 'situation': 4008, 'fell': 1689, 'felix': 1688, 'matthau': 2771, 'superficial': 4298, 'unfolds': 4650, 'versus': 4722, 'briefly': 580, 'divorce': 1300, 'francis': 1817, 'suicide': 4283, 'apartment': 264, 'member': 2800, 'inept': 2280, 'wear': 4830, 'cheese': 779, 'table': 4347, 'enjoys': 1489, 'altogether': 202, 'meeting': 2794, 'eating': 1413, 'calls': 653, 'health': 2059, 'public': 3462, 'helping': 2080, 'becomes': 433, 'climax': 848, 'occurs': 3078, 'sisters': 4002, 'performances': 3231, 'unfortunate': 4652, 'caliber': 648, 'warren': 4801, 'drunk': 1375, 'acts': 107, 'bottle': 550, 'comparing': 912, 'plan': 3289, 'outer': 3144, 'wouldnt': 4958, 'causes': 724, 'brain': 562, 'ears': 1402, 'starred': 4152, 'dreadful': 1352, 'skin': 4015, 'jackie': 2373, 'chan': 745, 'steven': 4181, 'silly': 3976, 'adventure': 130, 'seagal': 3839, 'vampire': 4710, 'super': 4295, 'strength': 4218, 'identity': 2216, 'issues': 2364, 'changing': 751, 'madness': 2698, 'thumbs': 4486, 'qualities': 3485, 'choice': 796, 'actresses': 106, 'zombie': 4997, 'uwe': 4702, 'boll': 529, '70': 55, 'vicious': 4728, 'waitress': 4773, 'leslie': 2574, 'obsessed': 3069, 'ms': 2931, 'stealing': 4170, 'academy': 77, 'shocking': 3940, 'themes': 4435, 'multiple': 2936, 'dated': 1119, 'thinks': 4455, 'dirty': 1267, 'needs': 2990, 'props': 3441, 'macy': 2695, 'unlikely': 4670, 'donald': 1320, 'sutherland': 4334, 'loves': 2674, 'campbell': 662, 'passionate': 3208, 'determined': 1220, 'strongly': 4230, 'childhood': 789, 'anybody': 256, 'site': 4005, 'devoted': 1230, 'tape': 4366, 'corporate': 998, 'lawyer': 2541, 'normal': 3033, 'amount': 219, 'rain': 3508, 'lately': 2524, 'huh': 2186, 'grasp': 1959, 'exact': 1550, 'eerie': 1427, 'ability': 65, 'create': 1036, 'literally': 2622, 'impressed': 2250, 'ten': 4400, 'tale': 4354, 'brian': 576, 'carrie': 696, 'photographer': 3261, 'americas': 215, 'killers': 2471, 'enormous': 1490, 'decide': 1148, 'spread': 4132, 'costs': 1004, 'trashy': 4565, 'murderer': 2941, 'brad': 560, 'pitt': 3282, 'childish': 790, 'surprise': 4313, 'graphic': 1957, 'stephen': 4175, 'remembered': 3618, 'suffer': 4275, 'described': 1194, 'describe': 1193, 'grown': 1983, 'social': 4049, 'tiny': 4501, 'pearl': 3222, 'intent': 2317, 'portrait': 3341, 'emotions': 1461, 'combine': 883, 'accompanied': 86, 'commercials': 902, 'documentaries': 1305, 'abuse': 74, 'push': 3479, 'resulting': 3662, 'twisted': 4617, 'minds': 2853, 'visual': 4757, 'medium': 2792, 'difficult': 1248, 'pull': 3463, 'fascinating': 1658, 'society': 4050, 'african': 142, 'americans': 214, 'aware': 367, 'grandmother': 1954, 'sister': 4001, 'plight': 3310, 'raising': 3511, 'depression': 1188, 'food': 1777, 'fascinated': 1657, 'library': 2589, 'cheating': 775, 'hospital': 2171, 'prostitute': 3442, 'satisfy': 3790, 'connect': 944, 'forward': 1807, 'sincere': 3991, 'desired': 1205, 'sticks': 4185, 'search': 3841, 'meaning': 2780, 'typically': 4623, 'contact': 961, 'pretending': 3384, 'provide': 3450, 'bar': 395, 'amazingly': 210, 'complex': 923, 'using': 4697, 'understandable': 4643, 'scare': 3803, 'online': 3109, 'anthony': 252, 'levels': 2585, 'rings': 3700, 'unusual': 4680, 'wrapped': 4964, 'gorgeous': 1941, 'emma': 1457, 'eager': 1396, 'alan': 171, 'mixed': 2878, 'mistaken': 2873, 'learning': 2552, 'witty': 4917, 'ease': 1404, 'jeremy': 2393, 'handsome': 2020, 'matched': 2763, 'began': 440, '16': 8, 'grows': 1984, 'understated': 4645, 'comic': 892, 'enjoyment': 1488, 'gordon': 1939, 'shines': 3932, 'wouldve': 4959, 'stunts': 4246, 'choreography': 801, 'showdown': 3955, 'thugs': 4485, 'ruthless': 3764, 'disjointed': 1286, 'island': 2360, 'underground': 4639, 'background': 379, 'facial': 1619, 'expressions': 1603, 'thick': 4448, 'educational': 1425, 'groups': 1980, 'empathy': 1462, 'developing': 1223, 'realism': 3550, 'disappointment': 1274, 'vhs': 4725, 'suspense': 4331, 'messed': 2821, 'hot': 2173, 'widmark': 4882, 'anne': 245, 'cook': 988, 'jr': 2422, 'cagney': 645, 'donna': 1322, 'rat': 3526, 'toilet': 4513, 'greedy': 1968, 'sends': 3876, 'plans': 3294, 'sing': 3992, 'aimed': 162, 'wallace': 4782, 'decent': 1147, 'spending': 4105, 'location': 2635, 'desert': 1197, 'exotic': 1574, 'ladies': 2506, 'nudity': 3059, 'ninja': 3018, 'inspector': 2298, 'smooth': 4041, 'pleasure': 3308, 'gary': 1872, 'attempting': 341, 'balls': 389, 'handle': 2017, 'pro': 3408, 'baker': 384, 'embarrassed': 1453, 'six': 4010, 'months': 2897, 'drawn': 1350, 'cure': 1081, 'ups': 4685, 'proud': 3446, 'composed': 926, 'rule': 3753, 'calling': 652, 'card': 680, 'projects': 3430, 'amateurish': 207, 'mistakes': 2874, 'presented': 3378, 'locations': 2636, 'storytelling': 4208, 'structure': 4232, 'visuals': 4759, 'audio': 353, 'apparent': 268, 'germans': 1896, 'accents': 79, 'tales': 4358, 'connected': 945, 'beast': 421, 'particularly': 3197, 'emphasis': 1463, 'chair': 741, 'green': 1970, 'mile': 2843, 'frank': 1820, '1999': 27, 'alien': 183, 'exploitation': 1592, 'inventive': 2340, 'boot': 538, 'demon': 1177, 'treated': 4572, 'innovative': 2294, 'murders': 2943, 'invisible': 2343, 'jackson': 2374, '2001': 31, 'naked': 2959, 'skill': 4013, 'eastwood': 1409, 'bone': 533, 'rights': 3698, 'fault': 1668, 'aids': 161, 'redemption': 3579, 'tradition': 4549, 'fooled': 1779, 'itll': 2368, '1980s': 21, 'gritty': 1976, 'realistic': 3551, 'touches': 4536, 'patrick': 3215, 'sally': 3776, 'fbi': 1675, 'agent': 150, 'holly': 2135, 'intimate': 2330, 'attacked': 337, 'elizabeth': 1445, 'africa': 141, 'bo': 521, 'extraordinary': 1607, 'beauty': 429, 'catherine': 718, 'jones': 2417, 'greek': 1969, 'sun': 4292, 'waters': 4817, 'abysmal': 76, 'unintentionally': 4658, 'touched': 4535, 'jerk': 2394, 'blame': 499, 'kept': 2456, 'stunned': 4243, 'superb': 4296, 'kate': 2445, 'featured': 1679, 'sight': 3969, 'unseen': 4677, 'martial': 2747, 'arts': 309, 'stretched': 4221, 'shake': 3914, 'disappointing': 1273, 'disbelief': 1276, 'blind': 506, 'hundreds': 2195, 'appeal': 270, 'trilogy': 4585, 'replaced': 3635, 'satisfied': 3789, 'hired': 2116, 'claire': 830, 'danes': 1108, 'bring': 585, 'competent': 917, 'edition': 1422, 'tricks': 4582, 'presence': 3375, 'douglas': 1333, 'affected': 137, 'president': 3380, 'biography': 483, 'potential': 3357, 'trek': 4577, 'hbo': 2054, 'warm': 4794, 'joseph': 2418, 'capable': 671, 'carrying': 700, 'jerry': 2395, 'widely': 4881, 'adequate': 120, 'dan': 1102, 'capture': 675, 'native': 2972, 'distance': 1293, 'weapons': 4829, 'west': 4852, 'arthur': 304, 'earned': 1401, 'civil': 825, 'china': 794, 'heroic': 2089, 'service': 3896, 'court': 1020, 'billy': 481, 'bonus': 534, 'chief': 787, 'staff': 4137, 'legend': 2564, 'aint': 163, 'achievement': 94, 'winning': 4898, 'peace': 3221, 'difference': 1245, 'historically': 2119, 'commentary': 898, 'record': 3574, 'joe': 2406, 'offer': 3087, 'march': 2734, 'larger': 2519, 'military': 2845, 'deaf': 1134, 'universe': 4665, 'secretary': 3850, 'ignored': 2224, 'frustrated': 1841, 'lips': 2615, 'reveals': 3674, 'convincing': 985, 'area': 285, 'urge': 4688, 'candy': 667, 'purposes': 3477, 'cares': 689, 'heroes': 2088, 'seventies': 3904, 'luke': 2687, 'vegas': 4716, 'adventures': 131, 'facing': 1620, 'kim': 2475, 'annie': 246, 'ripped': 3702, 'cheated': 774, 'goodness': 1937, 'cake': 647, 'screening': 3830, 'paying': 3219, 'highlight': 2102, 'adam': 111, 'snl': 4044, 'john': 2408, 'judge': 2423, 'merits': 2817, 'humble': 2190, 'rising': 3704, 'finish': 1731, 'silence': 3974, 'continued': 970, 'jean': 2388, 'simmons': 3981, 'pre': 3367, 'nose': 3037, 'ingredients': 2288, 'forgot': 1795, 'private': 3406, 'karloff': 2444, 'bela': 449, 'lugosi': 2686, 'dies': 1244, 'limited': 2606, 'realizes': 3555, 'possibilities': 3350, 'unbelievably': 4634, 'hysterical': 2207, 'credibility': 1047, '14': 6, 'ball': 387, 'teenager': 4391, 'battles': 414, 'sidekick': 3966, 'canada': 665, 'slightly': 4029, 'jim': 2401, 'accomplished': 87, 'incoherent': 2264, 'hippie': 2114, 'religious': 3609, 'hidden': 2095, 'gun': 1995, 'stewart': 4183, 'kane': 2441, 'gabriel': 1858, 'heads': 2058, 'australia': 355, 'womans': 4922, 'floating': 1757, 'catches': 714, 'report': 3636, 'media': 2789, 'laura': 2536, 'rose': 3739, 'deeper': 1155, 'mental': 2808, 'illness': 2229, 'lay': 2542, 'beneath': 463, 'led': 2558, 'discovery': 1281, 'current': 1084, 'willing': 4889, 'nearby': 2980, 'lake': 2509, 'swimming': 4339, 'contain': 962, 'forces': 1787, 'convoluted': 987, 'loose': 2650, 'cameras': 659, 'admittedly': 123, 'theyve': 4447, 'million': 2848, 'bored': 541, 'confusing': 942, 'miike': 2838, 'dozen': 1337, 'commercial': 901, 'gene': 1878, 'mystery': 2956, 'mysteries': 2954, 'cared': 684, 'morgan': 2905, 'mexico': 2828, 'sees': 3866, 'supposedly': 4308, 'masterful': 2758, 'plague': 3287, 'dealt': 1138, 'north': 3036, 'dangerous': 1110, 'scientist': 3818, 'cage': 644, 'beings': 448, 'jumping': 2430, 'fish': 1737, 'shark': 3921, 'warned': 4798, '60': 53, 'denzel': 1181, 'chris': 805, 'mickey': 2832, 'recognized': 3571, 'worn': 4948, 'jumped': 2429, 'delivered': 1170, 'adaptation': 113, 'appealing': 271, 'equipment': 1511, 'reaction': 3542, 'couldve': 1009, 'flesh': 1752, 'dry': 1377, 'benefit': 464, 'tongue': 4519, 'cheek': 778, 'previously': 3390, 'lies': 2591, 'doubts': 1332, 'hitchcock': 2122, 'household': 2178, 'thrillers': 4474, 'normally': 3034, 'raise': 3509, 'countries': 1013, 'drop': 1369, 'loyal': 2679, 'appreciated': 279, 'allowed': 190, '25': 40, 'thief': 4449, 'hopes': 2158, 'teach': 4375, 'drags': 1344, 'build': 613, 'abusive': 75, 'vincent': 4746, 'luck': 2681, 'offers': 3090, 'aliens': 184, 'rebel': 3562, 'saga': 3773, 'returns': 3669, 'sadness': 3770, 'tear': 4380, 'strike': 4223, 'williams': 4888, 'spoilers': 4123, 'biggest': 479, 'interpretation': 2327, 'menacing': 2807, 'flash': 1744, 'mirror': 2862, 'convey': 982, 'unpredictable': 4674, 'possessed': 3349, 'standing': 4145, 'perform': 3229, 'stress': 4219, 'dennis': 1179, 'howard': 2181, 'mentally': 2809, 'glenn': 1917, 'slick': 4026, 'resembles': 3647, 'student': 4237, 'grant': 1955, 'barely': 398, 'disaster': 1275, 'strictly': 4222, 'substance': 4258, 'jake': 2376, 'margaret': 2735, 'kidnapped': 2466, 'wayne': 4821, 'christopher': 810, 'writes': 4970, 'throws': 4483, 'stomach': 4195, 'adds': 119, 'bond': 532, 'abc': 63, 'website': 4834, '2007': 37, 'crazy': 1035, 'comments': 900, 'decision': 1151, 'hopefully': 2156, 'station': 4163, 'stooges': 4199, 'trio': 4586, 'constructed': 959, 'partly': 3199, 'antics': 254, 'reminiscent': 3622, 'recall': 3563, 'quick': 3492, 'critic': 1061, 'greed': 1967, 'zero': 4996, 'thru': 4484, 'lovable': 2668, 'delivery': 1173, 'angle': 235, 'backdrop': 378, 'implausible': 2244, 'fetched': 1697, 'spoken': 4125, 'bodies': 526, 'jeff': 2389, 'texas': 4419, 'bears': 420, 'passing': 3206, 'resemblance': 3646, 'legal': 2563, 'roy': 3745, 'knowing': 2490, 'western': 4853, 'subplots': 4256, 'sheriff': 3929, 'earl': 1398, 'predictable': 3369, 'finale': 1722, 'hence': 2082, 'formulaic': 1802, 'westerns': 4854, 'endure': 1475, 'sloppy': 4030, 'grave': 1961, 'lone': 2642, 'wolf': 4920, 'monkey': 2890, 'education': 1424, 'minimum': 2857, 'sue': 4274, '3000': 43, 'weapon': 4828, 'books': 536, 'existed': 1570, 'factor': 1622, 'smith': 4038, 'further': 1852, 'victor': 4731, 'virus': 4752, 'involvement': 2346, 'marty': 2749, 'seat': 3845, 'rachel': 3502, 'presumably': 3382, 'cia': 813, 'julia': 2426, 'drunken': 1376, 'females': 1693, 'saves': 3796, 'fat': 1663, 'dad': 1095, 'sunshine': 4294, 'kelly': 2452, 'irritating': 2358, 'genuinely': 1891, 'marketing': 2741, 'inside': 2296, 'positive': 3348, 'contrived': 976, 'womens': 4924, 'conspiracy': 956, 'overdone': 3153, 'speech': 4101, 'redeeming': 3578, 'che': 772, 'cuba': 1075, 'portion': 3340, 'revolution': 3681, 'realized': 3554, 'epic': 1506, 'lawrence': 2539, 'racist': 3505, 'unknown': 4667, 'alike': 185, 'identify': 2215, 'del': 1165, 'relate': 3594, 'revolutionary': 3682, 'five': 1742, 'motivation': 2914, 'machine': 2693, 'tour': 4539, 'transformation': 4559, 'forbidden': 1784, 'criminal': 1057, 'gory': 1942, 'domino': 1318, 'guns': 1997, 'falling': 1639, 'lovely': 2671, 'per': 3225, 'figure': 1710, 'walken': 4777, 'load': 2631, 'situations': 4009, 'mom': 2886, 'driver': 1366, 'represents': 3640, 'shirt': 3937, 'miserable': 2864, 'dozens': 1338, 'added': 116, 'easier': 1405, 'convinced': 984, 'psychiatrist': 3457, 'con': 928, 'videos': 4734, 'dream': 1353, 'transfer': 4558, 'pair': 3178, 'satan': 3787, 'pit': 3280, 'link': 2613, 'fears': 1677, 'likely': 2601, '90s': 61, 'disappeared': 1270, 'elaborate': 1439, 'anymore': 257, 'fatal': 1664, 'incident': 2259, 'clown': 861, 'steps': 4176, 'unit': 4662, 'sings': 3997, 'pops': 3334, 'buddy': 608, 'cleverly': 841, 'beats': 425, 'akshay': 169, 'matrix': 2767, 'superman': 4301, 'kapoor': 2442, 'unreal': 4675, 'range': 3517, 'capturing': 678, 'struggling': 4235, 'relative': 3600, '1940s': 12, 'sweet': 4337, 'authentic': 357, 'questions': 3491, 'glimpse': 1918, 'hip': 2113, 'liking': 2604, 'shallow': 3917, 'status': 4164, 'randomly': 3516, 'images': 2234, 'lazy': 2543, 'hoping': 2159, 'demented': 1176, 'chain': 740, 'metal': 2823, 'faces': 1618, 'base': 401, 'anywhere': 262, 'bergman': 465, 'wannabe': 4787, 'equal': 1509, 'throw': 4480, 'afternoon': 144, 'hideous': 2097, 'crimes': 1056, 'horrific': 2165, '40': 48, 'keeping': 2449, 'caused': 723, 'gruesome': 1985, 'trust': 4597, 'consequences': 947, 'fake': 1635, 'orson': 3132, 'welles': 4844, 'irish': 2352, 'blonde': 511, 'hung': 2196, 'citizen': 823, 'mike': 2839, 'bite': 489, 'borrowed': 545, 'heavily': 2068, 'fresh': 1832, 'pink': 3279, 'fill': 1713, 'mundane': 2938, 'purchased': 3472, 'timeless': 4497, 'marks': 2742, 'desperation': 1209, 'mob': 2880, 'surprising': 4316, 'support': 4303, 'subtitles': 4259, 'increasingly': 2267, 'urban': 4687, 'chicago': 784, 'planned': 3292, 'flaws': 1751, 'wed': 4835, 'buried': 623, 'shadows': 3913, 'task': 4369, 'intentionally': 2319, 'profound': 3425, 'literature': 2623, 'believing': 456, 'obnoxious': 3067, 'till': 4494, 'improved': 2254, 'myers': 2952, 'farce': 1654, 'iii': 2226, 'core': 995, 'porn': 3338, 'dawson': 1128, 'remain': 3610, 'broad': 590, 'engaging': 1481, 'ultra': 4628, 'contrast': 975, 'detail': 1216, 'grim': 1973, 'blade': 495, 'brave': 567, 'clean': 837, 'capital': 672, 'sophisticated': 4075, 'environment': 1505, 'technology': 4386, 'design': 1201, 'dust': 1388, 'eastern': 1408, 'europe': 1529, 'metaphor': 2824, 'initial': 2289, 'official': 3094, 'smoke': 4039, 'bullets': 620, 'text': 4420, 'sin': 3988, 'resolution': 3650, 'raised': 3510, 'coherent': 870, 'occasionally': 3075, 'vision': 4754, 'creation': 1040, 'ground': 1978, 'superbly': 4297, 'pathetic': 3212, 'heck': 2070, 'santa': 3783, 'sympathy': 4344, 'tall': 4363, 'pg': 3252, 'conversation': 980, 'parent': 3189, 'produce': 3415, 'authority': 359, 'influence': 2285, 'wisdom': 4902, 'painted': 3176, 'formula': 1801, 'outrageous': 3146, 'stale': 4140, 'castle': 711, 'notorious': 3051, 'cost': 1003, 'techniques': 4385, 'jeffrey': 2390, 'countless': 1012, 'understanding': 4644, 'rival': 3707, 'alfred': 181, 'icon': 2210, 'fame': 1642, 'separate': 3883, 'roman': 3732, 'polanski': 3323, 'opportunities': 3120, 'lifetime': 2594, 'wild': 4885, 'surely': 4310, 'upset': 4686, 'terry': 4416, 'reflection': 3586, 'experiences': 1582, 'annoyed': 247, 'noted': 3045, 'pretentious': 3385, 'claim': 827, 'marie': 2737, 'outcome': 3143, 'author': 358, 'april': 283, 'families': 1644, 'chemistry': 781, 'remind': 3619, 'lemmon': 2567, 'diane': 1237, 'leo': 2571, 'jessica': 2397, 'blunt': 520, 'amy': 222, 'serve': 3893, 'cardboard': 681, 'incompetent': 2265, 'blair': 497, 'witch': 4909, '15': 7, 'coach': 867, 'irrelevant': 2357, 'distant': 1294, 'cousin': 1021, 'stay': 4165, 'settle': 3902, 'subplot': 4255, 'san': 3780, 'ginger': 1907, 'correct': 1000, 'suspend': 4330, 'land': 2511, 'chose': 803, 'carter': 702, 'branagh': 564, 'humanity': 2188, 'opened': 3113, 'rural': 3758, 'mouse': 2919, 'york': 4985, 'communist': 906, 'spy': 4134, 'pat': 3210, 'juvenile': 2440, 'farm': 1656, 'shirley': 3936, 'enthusiasm': 1501, 'belongs': 459, 'bargain': 399, 'bin': 482, 'depressed': 1186, 'necessarily': 2983, 'foul': 1809, 'sake': 3775, 'threw': 4471, 'brown': 601, 'highlights': 2103, 'favourite': 1673, 'horrendous': 2161, 'bush': 631, 'parker': 3193, 'matt': 2768, 'stone': 4196, 'lived': 2626, 'weeks': 4839, 'dvds': 1392, 'web': 4833, 'edie': 1419, 'superior': 4300, 'sexual': 3908, 'retarded': 3664, '1972': 18, 'grey': 1972, 'afford': 138, 'devoid': 1229, 'lyrics': 2692, 'failing': 1627, 'devil': 1227, 'unaware': 4631, 'dropping': 1371, 'hints': 2112, 'london': 2641, 'rescue': 3644, 'jet': 2399, 'ben': 462, 'rocket': 3722, 'enemies': 1476, 'loads': 2633, 'multi': 2935, 'challenging': 743, 'games': 1864, 'repetitive': 3634, 'graphics': 1958, 'improvement': 2255, 'al': 170, 'festival': 1696, 'notes': 3046, 'amusing': 221, 'curious': 1083, 'adapted': 114, 'horrid': 2164, 'directorial': 1264, 'bomb': 531, 'ahead': 159, 'soap': 4047, 'misses': 2869, 'motivations': 2915, 'personality': 3244, 'jennifer': 2391, 'explaining': 1588, 'dire': 1256, 'union': 4660, 'workers': 4943, 'flashbacks': 1746, 'explicit': 1591, 'unnecessary': 4671, 'mexican': 2827, 'truth': 4598, 'hurts': 2202, 'spoiled': 4121, 'mass': 2753, 'meaningless': 2782, 'kitchen': 2485, 'kirk': 2482, 'crew': 1053, 'extended': 1604, 'duty': 1390, 'ideal': 2213, 'advance': 127, 'rabbit': 3500, 'similarly': 3980, 'discovered': 1279, 'ensues': 1493, 'don': 1319, 'tiger': 4492, 'fighter': 1707, 'plane': 3290, 'ruth': 3763, 'elderly': 1440, 'explains': 1589, 'wizard': 4919, 'confused': 941, 'eighties': 1437, 'oz': 3161, 'attached': 335, 'designed': 1202, 'mario': 2738, 'crack': 1027, 'row': 3744, 'hunt': 2197, 'granted': 1956, 'nowhere': 3056, 'cable': 643, 'double': 1330, 'notch': 3043, 'forever': 1791, 'motives': 2916, 'dating': 1120, 'tim': 4495, 'dracula': 1340, 'rocky': 3724, 'championship': 744, 'boxing': 556, 'stones': 4197, 'occur': 3076, 'frame': 1814, '90': 60, 'arguably': 288, 'fitting': 1741, 'sunday': 4293, 'defined': 1160, 'roll': 3729, 'wilson': 4891, 'toward': 4540, 'dedicated': 1153, 'cameo': 656, 'nick': 3012, 'oil': 3097, 'generation': 1882, 'baseball': 402, 'panic': 3183, 'calm': 654, 'handed': 2015, 'hundred': 2194, 'miles': 2844, 'aforementioned': 139, 'columbo': 880, 'falk': 1636, 'creators': 1044, 'satisfying': 3791, 'lucas': 2680, 'maker': 2714, 'lee': 2559, 'quote': 3498, 'flawless': 1750, 'joey': 2407, 'eva': 1531, 'perfection': 3227, 'performs': 3236, 'compelled': 915, 'committed': 904, 'sentimental': 3882, 'hitting': 2125, 'chicks': 786, 'tender': 4402, 'leaving': 2557, 'upper': 4684, 'fu': 1843, 'neil': 2995, 'simon': 3982, 'theatre': 4430, '30s': 44, 'excited': 1561, 'brought': 600, 'ruby': 3749, 'presents': 3379, 'confidence': 938, 'pulls': 3466, 'hoped': 2155, 'stilted': 4189, 'complexity': 924, 'ridiculously': 3695, 'edward': 1426, 'hopper': 2160, 'painting': 3177, 'eric': 1514, 'continuity': 972, 'errors': 1516, 'ham': 2010, 'distracting': 1296, 'pig': 3276, 'vote': 4766, 'oscars': 3134, 'directs': 1266, 'false': 1641, 'letters': 2582, 'buildings': 615, 'slapstick': 4019, 'gag': 1860, 'wondered': 4927, 'chosen': 804, 'admire': 121, 'lessons': 2578, 'daring': 1114, 'sacrifice': 3766, 'stanwyck': 4148, 'furthermore': 1853, 'financial': 1724, 'poverty': 3359, 'format': 1798, 'concern': 931, 'league': 2549, 'attend': 343, 'response': 3655, 'accept': 80, 'happiness': 2030, 'held': 2073, 'unhappy': 4655, 'innocence': 2292, 'impression': 2251, 'protagonists': 3444, 'surprised': 4314, 'houses': 2179, 'kevin': 2457, 'plastic': 3296, 'monsters': 2893, 'corny': 997, 'samurai': 3779, 'introduces': 2337, 'ted': 4387, 'spirits': 4114, 'alex': 179, 'inevitable': 2281, 'omen': 3104, 'silver': 3977, 'smile': 4036, 'mechanical': 2788, 'asks': 318, 'daddy': 1096, 'laurel': 2537, 'hardy': 2036, 'blown': 516, 'signed': 3971, 'homeless': 2142, 'sellers': 3872, 'contract': 973, 'responsible': 3657, 'students': 4238, 'kinds': 2478, 'buck': 605, 'rick': 3690, 'nelson': 2997, 'stiff': 4186, 'simpson': 3987, 'executive': 1567, 'specifically': 4099, 'terribly': 4409, 'miscast': 2863, '45': 50, 'pamela': 3181, 'unwatchable': 4681, 'charismatic': 762, 'gain': 1862, 'sounded': 4082, 'junior': 2434, 'awfully': 372, 'suspenseful': 4332, 'werewolf': 4850, 'jamie': 2378, 'map': 2733, 'discover': 1278, 'alive': 186, 'suggest': 4280, 'revelation': 3675, 'teeth': 4394, 'reasonable': 3559, 'gore': 1940, '2006': 36, 'technically': 4383, 'south': 4087, 'crash': 1033, 'mission': 2871, 'zombies': 4998, 'pulling': 3465, 'yelling': 4980, 'noise': 3024, 'vice': 4727, 'luckily': 2682, 'warmth': 4796, 'colour': 879, 'anderson': 227, 'magnificent': 2705, 'copies': 992, 'courage': 1018, 'compassion': 914, 'generations': 1883, 'spectacular': 4100, 'stood': 4198, 'hunting': 2200, 'businessman': 633, 'passes': 3205, 'therefore': 4440, 'revolves': 3683, 'argument': 290, 'arm': 291, 'contest': 967, 'idiotic': 2218, 'split': 4119, 'scooby': 3820, 'doo': 1324, 'center': 731, 'faster': 1662, 'trapped': 4563, 'mansion': 2731, 'bear': 419, 'section': 3853, 'indians': 2274, 'linda': 2609, 'celebrity': 728, 'trees': 4576, 'storm': 4205, 'sadistic': 3768, 'witches': 4910, 'nights': 3016, 'hunters': 2199, 'handled': 2018, 'laughably': 2531, 'sounding': 4083, 'hilariously': 2106, 'bland': 500, 'suspects': 4329, 'splatter': 4117, 'harsh': 2039, 'succeed': 4262, 'unconvincing': 4637, 'dig': 1249, 'princess': 3399, 'choreographed': 800, 'colorful': 877, 'acid': 95, 'kidding': 2465, 'reviewers': 3679, 'filmmaker': 1718, 'goofy': 1938, 'saturday': 3792, 'wealth': 4826, 'steel': 4172, 'mill': 2846, 'ran': 3514, 'progresses': 3428, 'barbara': 396, 'locked': 2637, 'issue': 2363, 'tracy': 4547, 'prove': 3447, 'relies': 3607, 'brains': 563, 'everyones': 1543, 'tiresome': 4503, '24': 39, 'erotic': 1515, 'bath': 410, 'butler': 636, 'channels': 753, 'frequent': 1830, 'massive': 2756, 'shoes': 3941, 'talks': 4362, 'rob': 3711, 'ford': 1788, 'clip': 850, 'holding': 2129, 'bull': 618, 'stretch': 4220, 'edited': 1420, 'familys': 1646, 'massacre': 2754, 'creep': 1051, 'craig': 1030, 'necessary': 2984, 'overcome': 3152, 'intellectual': 2311, 'ticket': 4488, 'offended': 3085, 'travesty': 4569, 'walked': 4776, 'closing': 858, 'terrifying': 4411, 'ritter': 3706, 'block': 508, 'miserably': 2865, 'burn': 624, 'destroyed': 1213, 'mentioning': 2812, 'stanley': 4147, 'plant': 3295, 'basement': 404, 'avoided': 363, 'quit': 3496, 'secrets': 3852, 'decades': 1145, 'reed': 3581, 'proceedings': 3412, 'sole': 4055, 'population': 3337, 'aid': 160, 'established': 1524, 'cliche': 842, 'alas': 172, 'hole': 2131, 'accidentally': 85, 'titled': 4506, 'generic': 1884, 'target': 4367, 'market': 2740, 'topic': 4527, 'catholic': 719, 'specific': 4098, 'guessed': 1989, 'religion': 3608, 'alcoholic': 177, 'danger': 1109, 'loses': 2657, 'paper': 3185, 'imagined': 2238, 'existence': 1571, 'jumps': 2431, 'dubbing': 1380, 'enjoying': 1487, 'eccentric': 1414, 'canadian': 666, 'beating': 424, 'philosophical': 3255, 'werent': 4849, 'magazine': 2701, 'desire': 1204, 'memory': 2804, 'perry': 3239, 'trap': 4562, 'thankfully': 4423, 'preview': 3388, 'ellen': 1446, 'hollywoods': 2137, 'keaton': 2447, 'rolled': 3730, 'royal': 3746, 'worried': 4949, 'kicked': 2461, 'tag': 4349, 'achieved': 93, 'hed': 2071, 'slaughter': 4021, 'causing': 725, 'blow': 514, 'defeat': 1157, 'ken': 2453, 'revenge': 3676, 'burning': 626, 'guest': 1991, 'suffered': 4276, 'mainstream': 2709, 'queen': 3487, 'victoria': 4732, 'draws': 1351, 'hooked': 2152, 'widow': 4883, 'prevent': 3387, 'mothers': 2912, 'birthday': 487, 'deals': 1137, 'hiding': 2098, 'masses': 2755, 'conservative': 948, 'wives': 4918, 'returned': 3667, 'philip': 3254, 'germany': 1897, 'laws': 2540, 'husbands': 2204, 'shadow': 3912, 'lesson': 2577, 'provoking': 3454, 'button': 638, 'claimed': 828, 'ignorant': 2222, 'simplicity': 3984, 'reel': 3582, 'survivors': 4326, 'molly': 2885, 'steals': 4171, 'homage': 2140, 'melodramatic': 2798, 'moody': 2899, 'disturbed': 1298, 'ear': 1397, '11': 2, 'september': 3884, 'affect': 136, 'junk': 2435, 'execution': 1566, 'faults': 1669, 'resident': 3648, 'satire': 3788, 'contrary': 974, 'ought': 3139, 'dislike': 1287, '1990': 24, 'hong': 2148, 'wave': 4818, 'waves': 4819, 'namely': 2962, 'irony': 2356, 'vengeance': 4718, 'purely': 3474, 'priest': 3394, 'temple': 4399, 'imagery': 2233, 'despair': 1206, 'clichés': 845, 'limits': 2607, 'translation': 4561, 'larry': 2520, 'kenneth': 2455, 'mars': 2746, 'teen': 4389, 'nevertheless': 3002, 'chuck': 811, 'methods': 2826, 'nations': 2971, 'balance': 386, 'forgive': 1794, 'tight': 4493, 'delivers': 1172, 'removed': 3625, 'insulting': 2309, 'forest': 1790, 'angels': 233, 'lower': 2677, 'treats': 4574, 'seeking': 3859, 'versions': 4721, 'pleasantly': 3305, 'hyde': 2205, 'repeatedly': 3633, 'shy': 3962, 'critical': 1062, 'clint': 849, 'understood': 4646, 'represented': 3639, 'freedom': 1827, 'spirited': 4113, 'gray': 1962, 'fortune': 1805, 'border': 539, 'recognize': 3570, 'notion': 3050, 'convincingly': 986, 'generous': 1885, 'damon': 1101, 'unoriginal': 4672, 'propaganda': 3437, 'petty': 3251, 'angles': 236, 'sharp': 3922, 'asleep': 319, 'prom': 3431, 'elsewhere': 1449, 'lou': 2663, 'wendy': 4846, 'rage': 3507, 'chick': 785, 'pool': 3329, 'wishing': 4907, 'dog': 1309, 'alternate': 200, 'scenario': 3808, 'clark': 831, 'insane': 2295, 'phantom': 3253, 'zone': 4999, 'exposed': 1598, 'stupidity': 4248, 'civilization': 826, 'letting': 2583, 'sleeping': 4025, 'elegant': 1441, 'timing': 4499, 'acceptable': 81, 'dinner': 1253, 'boyfriend': 558, 'agreed': 156, 'creator': 1043, 'striking': 4225, 'code': 868, 'bird': 484, 'kicking': 2462, 'catchy': 716, 'seven': 3903, 'awe': 369, 'thoughtful': 4464, 'comedian': 886, 'turkey': 4603, 'paint': 3175, 'imitation': 2240, 'captivating': 674, 'segments': 3868, 'segment': 3867, 'wood': 4933, 'appearances': 274, 'vampires': 4711, 'loser': 2655, 'switch': 4340, 'blockbuster': 509, 'reads': 3546, 'desperately': 1208, 'classes': 833, 'hates': 2047, 'cary': 705, 'brady': 561, 'barry': 400, 'bobby': 525, 'model': 2881, 'holmes': 2138, 'hudson': 2183, 'alongside': 196, 'pal': 3179, 'bruce': 602, 'kingdom': 2480, 'streets': 4216, 'cruel': 1070, 'teacher': 4376, 'neighbors': 2994, 'shelley': 3928, 'winters': 4901, 'needless': 2989, 'planning': 3293, 'prepared': 3373, 'scientists': 3819, 'damn': 1100, 'developed': 1222, 'norman': 3035, 'ties': 4491, 'advise': 134, 'jaw': 2383, 'scott': 3824, 'dragon': 1343, 'gerard': 1894, 'lees': 2560, 'gross': 1977, 'fictional': 1702, 'proof': 3436, 'arrested': 297, 'refuses': 3588, 'washington': 4806, 'daniel': 1111, 'stiller': 4188, 'sucked': 4270, 'fx': 1857, 'root': 3738, 'fields': 1704, 'betty': 473, 'ralph': 3512, 'jesse': 2396, 'effectively': 1430, 'comfortable': 891, 'parody': 3194, 'sold': 4052, 'trade': 4548, 'horrifying': 2166, 'ron': 3735, 'latest': 2526, 'importance': 2245, 'restaurant': 3659, 'seed': 3856, 'destroying': 1214, 'chasing': 771, 'security': 3854, 'robbins': 3713, 'frustration': 1842, 'receive': 3564, 'threat': 4468, 'deceased': 1146, 'glorious': 1920, 'breasts': 572, 'demons': 1178, 'marry': 2745, 'spell': 4103, 'topless': 4528, 'extra': 1606, 'bucks': 606, 'mann': 2728, 'heat': 2066, 'finished': 1732, 'distinct': 1295, 'von': 4765, 'descent': 1192, 'terrorists': 4415, 'nazis': 2978, 'pseudo': 3456, 'gas': 1873, 'berlin': 466, 'closed': 853, 'kung': 2498, 'eg': 1434, 'inner': 2291, 'kong': 2494, 'inappropriate': 2258, 'bay': 415, 'gotta': 1945, 'obsession': 3070, 'troubles': 4593, 'triumph': 4589, 'innocent': 2293, 'represent': 3638, 'exists': 1573, 'sinatra': 3989, 'solo': 4058, 'astaire': 329, 'navy': 2976, 'ireland': 2351, 'headed': 2057, 'belief': 450, 'loaded': 2632, 'sitcom': 4004, 'et': 1526, 'property': 3440, 'ray': 3534, 'arrival': 298, 'sell': 3871, 'italy': 2367, 'haunted': 2049, 'murderous': 2942, 'involve': 2344, 'villains': 4745, 'smiling': 4037, 'horses': 2170, 'moore': 2901, 'newspaper': 3006, 'term': 4406, 'fonda': 1776, 'nancy': 2964, 'roberts': 3715, 'pie': 3273, 'resources': 3652, 'iran': 2349, 'splendid': 4118, 'soccer': 4048, 'cup': 1080, 'armed': 292, 'enter': 1494, 'dressing': 1359, 'philosophy': 3256, 'demands': 1175, 'purple': 3475, 'popcorn': 3333, 'assumed': 328, 'kurt': 2499, 'fix': 1743, 'settings': 3901, 'museum': 2945, 'surrounded': 4319, 'illegal': 2228, 'thoughts': 4465, 'frankenstein': 1821, 'gothic': 1944, 'banned': 394, 'believes': 455, 'opinions': 3119, 'ps': 3455, 'twilight': 4613, 'whereas': 4865, 'cube': 1076, 'tired': 4502, 'activities': 102, 'crocodile': 1065, 'fay': 1674, 'commit': 903, 'fool': 1778, 'guarantee': 1986, 'relation': 3596, 'primary': 3396, 'countryside': 1015, 'letter': 2581, 'relatives': 3602, 'bride': 577, 'lust': 2689, 'attitudes': 346, 'fury': 1854, 'unbearable': 4632, 'instinct': 2307, 'sexuality': 3909, 'waited': 4771, 'revealing': 3673, 'georges': 1893, 'selfish': 3870, 'circle': 820, 'eaten': 1412, 'catch': 713, 'brooklyn': 595, 'wonders': 4931, 'titanic': 4504, 'lane': 2515, 'safety': 3772, 'interviews': 2329, 'desperate': 1207, 'realise': 3549, 'remaining': 3611, 'mayor': 2777, 'surviving': 4324, 'staged': 4139, 'wanna': 4786, 'movement': 2923, 'stylish': 4251, 'willis': 4890, 'twelve': 4610, 'monkeys': 2891, 'brazil': 568, 'tribute': 4580, 'poster': 3355, 'commented': 899, 'trained': 4556, 'ice': 2209, 'nurse': 3063, 'succeeds': 4264, '3d': 46, 'detailed': 1217, 'richards': 3688, 'cooper': 990, 'sarah': 3785, 'semi': 3874, 'listening': 2620, 'humour': 2193, 'factory': 1623, 'individual': 2276, 'individuals': 2277, 'cruise': 1071, 'destroy': 1212, 'intriguing': 2334, 'carpenter': 693, 'climactic': 847, 'blank': 501, 'brando': 566, 'choices': 797, 'mel': 2796, 'guessing': 1990, 'weight': 4840, 'firstly': 1736, 'pants': 3184, 'reaching': 3540, 'inspiration': 2299, 'drivel': 1364, 'shell': 3927, 'clothing': 860, 'corner': 996, 'safe': 3771, 'breaks': 571, 'inducing': 2278, 'spare': 4092, 'size': 4012, 'pet': 3248, 'suitable': 4285, 'chapter': 756, 'rambo': 3513, 'knife': 2487, 'rented': 3629, 'blond': 510, 'phony': 3258, 'attracted': 348, 'lena': 2568, 'hearts': 2065, 'helen': 2074, 'kay': 2446, 'supported': 4304, 'apes': 266, 'brenda': 575, 'hugh': 2185, 'checking': 777, 'chilling': 793, 'sons': 4073, 'savage': 3793, 'matthew': 2772, 'powers': 3363, 'domestic': 1317, 'hello': 2077, 'jay': 2385, 'broadway': 592, 'lengthy': 2570, 'sidney': 3968, 'lumet': 2688, 'ashley': 312, 'franco': 1819, 'press': 3381, 'disc': 1277, 'tarzan': 4368, 'derek': 1191, 'narrator': 2967, 'abraham': 69, 'flawed': 1749, 'cards': 682, 'riding': 3696, 'fathers': 1667, 'host': 2172, 'vaguely': 4705, 'sandler': 3781, 'morris': 2908, 'shop': 3945, 'reduced': 3580, 'criminals': 1058, 'scale': 3802, 'introduce': 2335, 'valuable': 4707, 'served': 3894, 'blah': 496, 'appalling': 267, 'freeman': 1828, 'builds': 616, 'disappoint': 1271, 'ruins': 3752, 'nuts': 3064, 'destiny': 1211, 'cell': 729, 'mate': 2765, 'suspicious': 4333, 'cinemas': 816, 'cash': 708, 'streep': 4214, 'lifestyle': 2593, '2000': 30, 'wwii': 4975, 'horrors': 2168, 'trick': 4581, 'photography': 3262, 'prize': 3407, 'legs': 2566, 'deliberately': 1166, 'tracks': 4546, 'nostalgia': 3038, 'principal': 3400, 'regardless': 3591, 'laid': 2508, 'airplane': 166, 'dick': 1238, 'loosely': 2651, 'childrens': 792, 'olivier': 3103, 'wells': 4845, 'attorney': 347, 'beach': 418, 'sword': 4341, 'escaped': 1518, 'depiction': 1184, '1980': 20, 'foster': 1808, 'taxi': 4372, 'guts': 1998, 'careful': 687, 'melodrama': 2797, 'interview': 2328, 'merit': 2816, 'print': 3401, 'logic': 2638, 'suffice': 4279, 'destruction': 1215, 'jungle': 2433, 'rubber': 3747, 'taylor': 4373, 'credible': 1048, 'andrews': 229, 'species': 4097, 'ho': 2126, 'detective': 1219, 'threatening': 4469, 'millions': 2849, 'dollars': 1314, 'nyc': 3065, 'disagree': 1268, 'disappear': 1269, 'babe': 374, 'louis': 2665, 'traveling': 4567, 'jealous': 2387, 'montana': 2895, 'gifted': 1906, 'fisher': 1738, 'aired': 165, 'elvis': 1451, 'patient': 3213, 'drives': 1367, 'nail': 2957, 'assume': 327, 'inane': 2257, 'butt': 637, 'device': 1226, 'psychic': 3458, 'caring': 690, 'homosexual': 2144, 'insight': 2297, 'considerable': 950, 'tortured': 4531, 'companion': 908, 'prisoner': 3404, 'suited': 4286, 'joan': 2403, 'june': 2432, 'lit': 2621, 'spike': 4110, 'sandra': 3782, 'placed': 3285, 'pushed': 3480, 'comparison': 913, 'brooks': 596, 'phone': 3257, 'chooses': 799, 'concerned': 932, 'mighty': 2837, 'east': 1407, 'exposure': 1599, 'gangsters': 1868, 'gangster': 1867, 'offering': 3089, 'bigger': 478, 'scares': 3806, 'secretly': 3851, 'succeeded': 4263, 'flaw': 1748, 'gods': 1927, 'stinks': 4191, 'latter': 2528, 'ad': 110, 'chest': 783, 'winds': 4895, 'nicholson': 3011, 'bakshi': 385, 'lively': 2627, 'tends': 4403, 'shed': 3924, 'included': 2261, 'sorts': 4078, 'showcase': 3954, 'captures': 677, 'brutally': 604, 'focusing': 1768, 'lion': 2614, '2nd': 41, 'discuss': 1282, 'obscure': 3068, 'murdered': 2940, 'britain': 588, 'jaws': 2384, 'exercise': 1568, 'amongst': 218, 'burns': 627, 'allen': 188, 'garden': 1871, 'contained': 963, 'politically': 3327, 'nation': 2969, 'combat': 881, 'intentions': 2320, 'dutch': 1389, 'cynical': 1093, 'consistently': 954, 'st': 4136, 'university': 4666, 'doors': 1328, 'worthwhile': 4955, 'variety': 4713, 'heights': 2072, 'scope': 3821, 'access': 83, 'territory': 4412, 'advantage': 129, 'terrorist': 4414, 'carrey': 695, 'bound': 553, 'thrill': 4472, 'meat': 2787, 'inevitably': 2282, 'questionable': 3490, 'screenwriter': 3833, 'estate': 1525, 'ballet': 388, 'wing': 4896, 'strikes': 4224, 'plausible': 3297, 'concerning': 933, 'christ': 806, 'midnight': 2835, 'adding': 117, 'pulp': 3467, 'pleased': 3307, 'risk': 3705, 'buffs': 611, 'unpleasant': 4673, 'rats': 3532, 'ashamed': 311, 'marvelous': 2750, 'contemporary': 965, 'relief': 3606, 'experiment': 1583, 'failure': 1629, 'hardcore': 2033, '13th': 5, 'orders': 3127, 'bleak': 503, 'flies': 1755, 'bourne': 554, 'similarities': 3979, 'unintentional': 4657, 'clichéd': 844, 'landing': 2512, 'kubrick': 2496, 'gentle': 1889, 'mildly': 2841, 'initially': 2290, 'cowboy': 1025, 'valley': 4706, 'corpse': 999, 'arrogant': 302, 'chances': 747, 'agrees': 157, 'repeated': 3632, 'viewings': 4741, 'ranks': 3520, 'doomed': 1326, '1996': 26, 'counter': 1011, 'nonsensical': 3031, 'charlotte': 765, 'melting': 2799, 'pot': 3356, '2005': 35, 'racism': 3504, 'lesbian': 2573, 'feminist': 1694, 'react': 3541, 'challenge': 742, 'exceptional': 1558, 'fox': 1813, 'sky': 4017, 'talked': 4360, 'franchise': 1816, 'ratings': 3531, 'elm': 1447, 'godfather': 1926, 'afterwards': 145, 'amounts': 220, 'parties': 3198, 'devils': 1228, 'physically': 3265, 'masters': 2761, 'sneak': 4043, 'kudos': 2497, 'snake': 4042, 'photos': 3263, 'truck': 4594, 'stereotype': 4177, 'masterpieces': 2760, 'misery': 2866, 'raped': 3523, 'complicated': 925, 'warner': 4799, 'argue': 289, 'downhill': 1335, 'homer': 2143, 'struggles': 4234, 'vivid': 4760, 'agents': 151, 'arrive': 299, 'superhero': 4299, 'alert': 178, 'resort': 3651, 'minded': 2851, 'souls': 4080, 'classical': 835, 'via': 4726, 'christians': 808, 'transition': 4560, 'hanks': 2024, 'hoffman': 2127, 'dentist': 1180, 'searching': 3842, 'driven': 1365, 'glover': 1922, '1973': 19, 'resist': 3649, 'louise': 2666, 'morality': 2903, 'visits': 4756, 'abilities': 64, 'bible': 476, 'instantly': 2305, 'teachers': 4377, 'curse': 1086, 'severe': 3906, 'sleazy': 4023, 'vast': 4715, 'achieve': 92, 'wandering': 4785, 'harder': 2034, 'florida': 1760, 'rotten': 3740, 'rap': 3521, 'grab': 1948, 'album': 175, '1971': 17, 'cliff': 846, 'tad': 4348, 'tommy': 4517, 'sullivan': 4288, 'der': 1190, 'beloved': 460, 'stan': 4141, 'persona': 3241, 'moronic': 2907, 'maggie': 2702, 'thrilling': 4475, 'fulci': 1844, 'fest': 1695, 'sits': 4006, 'escapes': 1519, 'proceeds': 3413, 'medical': 2790, 'gripping': 1975, 'blake': 498, 'arnold': 295, 'join': 2411, 'generated': 1881, 'quirky': 3495, 'wrap': 4963, 'cameos': 657, 'recording': 3576, 'likewise': 2603, 'enters': 1496, 'cats': 720, 'judy': 2425, 'scientific': 3817, 'ridden': 3692, 'murphy': 2944, 'rex': 3684, 'bacall': 376, 'celluloid': 730, 'trial': 4579, 'lab': 2501, 'doll': 1312, 'slave': 4022, 'teaching': 4378, 'broadcast': 591, 'comics': 894, 'reflect': 3585, 'vague': 4704, 'suggested': 4281, 'defend': 1158, 'absence': 70, 'todd': 4511, 'basketball': 408, 'dialogues': 1234, 'li': 2587, 'nuclear': 3057, 'assault': 323, 'bet': 469, 'allowing': 191, 'feed': 1682, 'appearing': 276, 'flop': 1759, 'attraction': 349, 'subjects': 4254, 'seeks': 3860, 'witnessed': 4915, 'cusack': 1088, 'burned': 625, 'tonight': 4520, 'diamond': 1235, 'twins': 4615, 'exploration': 1593, 'statement': 4161, 'par': 3186, 'damage': 1099, 'reynolds': 3685, 'sappy': 3784, 'giallo': 1903, 'surfing': 4312, 'basis': 407, 'exceptionally': 1559, 'decisions': 1152, 'iron': 2353, 'someones': 4065, 'returning': 3668, 'nicholas': 3010, 'welcome': 4842, 'swedish': 4336, 'grandfather': 1953, 'ambitious': 211, 'hank': 2023, 'hint': 2111, 'cole': 872, 'solution': 4059, 'package': 3167, 'editor': 1423, 'dreck': 1356, 'broke': 593, 'carradine': 694, 'duo': 1386, 'amitabh': 216, 'liberal': 2588, 'engage': 1479, 'overlook': 3154, 'enterprise': 1495, 'demand': 1174, 'sport': 4128, 'burton': 629, 'funeral': 1848, 'sixties': 4011, 'curtis': 1087, 'producing': 3419, 'stole': 4193, 'troops': 4590, 'remarkably': 3615, 'hammer': 2013, 'closet': 857, 'bell': 457, 'anna': 244, 'staring': 4151, 'invasion': 2339, 'stinker': 4190, 'directions': 1261, 'carefully': 688, 'losing': 2658, 'global': 1919, 'warming': 4795, 'beliefs': 451, '3rd': 47, 'gift': 1905, 'toys': 4544, 'spider': 4108, 'thousand': 4466, 'string': 4226, 'orange': 3125, 'mgm': 2829, 'tie': 4489, 'hal': 2005, 'powell': 3360, 'command': 896, 'dinosaur': 1254, 'intention': 2318, 'suggests': 4282, 'equivalent': 1512, 'menace': 2806, 'pointed': 3319, 'leonard': 2572, 'wholly': 4874, 'analysis': 224, 'investigation': 2342, 'sexually': 3910, 'paranoia': 3188, 'stellar': 4173, 'gadget': 1859, 'guilt': 1993, 'peters': 3250, 'manhattan': 2726, 'possibility': 3351, 'photographed': 3260, 'ensemble': 1492, 'dear': 1140, 'illogical': 2230, 'tame': 4364, 'experiments': 1584, 'ann': 243, 'iraq': 2350, 'vulnerable': 4768, 'bettie': 472, 'pages': 3170, 'bumbling': 621, 'los': 2653, 'angeles': 232, 'robbery': 3712, 'hollow': 2134, 'diana': 1236, 'harris': 2037, 'latin': 2527, 'anyways': 261, 'fever': 1698, 'cities': 822, 'yesterday': 4983, 'niro': 3019, 'robinson': 3717, 'whale': 4857, 'happily': 2029, 'journalist': 2419, 'nervous': 2999, 'buff': 610, 'godzilla': 1928, 'julie': 2427, 'restored': 3660, 'woody': 4936, 'khan': 2459, 'streisand': 4217, 'machines': 2694, 'complain': 919, 'solely': 4056, 'delivering': 1171, 'cave': 726, 'messages': 2820, 'pays': 3220, 'scrooge': 3837, 'jonathan': 2416, 'mall': 2720, 'flynn': 1764, 'davies': 1125, 'othello': 3135, 'dickens': 1239, 'fond': 1775, 'fairy': 1632, 'blob': 507, 'landscape': 2513, 'amanda': 205, 'raymond': 3535, 'atlantis': 331, 'signs': 3973, 'purchase': 3471, 'clues': 864, 'overacting': 3150, 'advanced': 128, 'bollywood': 530, 'solve': 4060, 'tomatoes': 4516, 'garbo': 1870, 'mst3k': 2932, 'pursuit': 3478, 'receives': 3566, 'hamilton': 2011, 'spiritual': 4115, 'cameron': 660, 'advertising': 132, 'overwhelming': 3158, 'definition': 1163, 'modesty': 2884, 'blues': 519, 'schools': 3814, 'brosnan': 597, 'grinch': 1974, 'careers': 686, 'excessive': 1560, 'chess': 782, 'dub': 1378, 'inferior': 2284, 'hop': 2153, 'elvira': 1450, 'cannibal': 668, 'stargate': 4150, 'isolated': 2362, 'rangers': 3518, 'awake': 364, 'primarily': 3395, 'gundam': 1996, 'heston': 2093, 'da': 1094, 'gandhi': 1865, 'verhoeven': 4719, 'disease': 1284, 'lincoln': 2608, 'pokemon': 3322, 'airport': 167, 'models': 2882, 'blacks': 494, 'tooth': 4525, 'warrior': 4802, 'stevens': 4182}\n"
     ]
    }
   ],
   "source": [
    "print(str(vocabulary))"
   ]
  },
  {
   "cell_type": "markdown",
   "metadata": {},
   "source": [
    "Once you have added the endpoint name to the Lambda function, click on **Save**. Your Lambda function is now up and running. Next we need to create a way for our web app to execute the Lambda function."
   ]
  },
  {
   "cell_type": "markdown",
   "metadata": {},
   "source": [
    "### Setting up API Gateway\n",
    "\n",
    "Now that our Lambda function is set up, it is time to create a new API using API Gateway that will trigger the Lambda function we have just created.\n",
    "\n",
    "Using AWS Console, navigate to **Amazon API Gateway** and then click on **Get started**.\n",
    "\n",
    "On the next page, make sure that **New API** is selected and give the new api a name, for example, `sentiment_analysis_web_app`. Then, click on **Create API**.\n",
    "\n",
    "Now we have created an API, however it doesn't currently do anything. What we want it to do is to trigger the Lambda function that we created earlier.\n",
    "\n",
    "Select the **Actions** dropdown menu and click **Create Method**. A new blank method will be created, select its dropdown menu and select **POST**, then click on the check mark beside it.\n",
    "\n",
    "For the integration point, make sure that **Lambda Function** is selected and click on the **Use Lambda Proxy integration**. This option makes sure that the data that is sent to the API is then sent directly to the Lambda function with no processing. It also means that the return value must be a proper response object as it will also not be processed by API Gateway.\n",
    "\n",
    "Type the name of the Lambda function you created earlier into the **Lambda Function** text entry box and then click on **Save**. Click on **OK** in the pop-up box that then appears, giving permission to API Gateway to invoke the Lambda function you created.\n",
    "\n",
    "The last step in creating the API Gateway is to select the **Actions** dropdown and click on **Deploy API**. You will need to create a new Deployment stage and name it anything you like, for example `prod`.\n",
    "\n",
    "You have now successfully set up a public API to access your SageMaker model. Make sure to copy or write down the URL provided to invoke your newly created public API as this will be needed in the next step. This URL can be found at the top of the page, highlighted in blue next to the text **Invoke URL**."
   ]
  },
  {
   "cell_type": "markdown",
   "metadata": {},
   "source": [
    "## Step 7: Deploying our web app\n",
    "\n",
    "Now that we have a publicly available API, we can start using it in a web app. For our purposes, we have provided a simple static html file which can make use of the public api you created earlier.\n",
    "\n",
    "In the `website` folder there should be a file called `index.html`. Download the file to your computer and open that file up in a text editor of your choice. There should be a line which contains **\\*\\*REPLACE WITH PUBLIC API URL\\*\\***. Replace this string with the url that you wrote down in the last step and then save the file.\n",
    "\n",
    "Now, if you open `index.html` on your local computer, your browser will behave as a local web server and you can use the provided site to interact with your SageMaker model.\n",
    "\n",
    "If you'd like to go further, you can host this html file anywhere you'd like, for example using github or hosting a static site on Amazon's S3. Once you have done this you can share the link with anyone you'd like and have them play with it too!\n",
    "\n",
    "> **Important Note** In order for the web app to communicate with the SageMaker endpoint, the endpoint has to actually be deployed and running. This means that you are paying for it. Make sure that the endpoint is running when you want to use the web app but that you shut it down when you don't need it, otherwise you will end up with a surprisingly large AWS bill."
   ]
  },
  {
   "cell_type": "markdown",
   "metadata": {},
   "source": [
    "### Delete the endpoint\n",
    "\n",
    "Remember to always shut down your endpoint if you are no longer using it. You are charged for the length of time that the endpoint is running so if you forget and leave it on you could end up with an unexpectedly large bill."
   ]
  },
  {
   "cell_type": "code",
   "execution_count": null,
   "metadata": {},
   "outputs": [],
   "source": [
    "xgb_predictor.delete_endpoint()"
   ]
  },
  {
   "cell_type": "markdown",
   "metadata": {},
   "source": [
    "## Optional: Clean up\n",
    "\n",
    "The default notebook instance on SageMaker doesn't have a lot of excess disk space available. As you continue to complete and execute notebooks you will eventually fill up this disk space, leading to errors which can be difficult to diagnose. Once you are completely finished using a notebook it is a good idea to remove the files that you created along the way. Of course, you can do this from the terminal or from the notebook hub if you would like. The cell below contains some commands to clean up the created files from within the notebook."
   ]
  },
  {
   "cell_type": "code",
   "execution_count": null,
   "metadata": {},
   "outputs": [],
   "source": [
    "# First we will remove all of the files contained in the data_dir directory\n",
    "!rm $data_dir/*\n",
    "\n",
    "# And then we delete the directory itself\n",
    "!rmdir $data_dir\n",
    "\n",
    "# Similarly we remove the files in the cache_dir directory and the directory itself\n",
    "!rm $cache_dir/*\n",
    "!rmdir $cache_dir"
   ]
  },
  {
   "cell_type": "code",
   "execution_count": null,
   "metadata": {},
   "outputs": [],
   "source": []
  }
 ],
 "metadata": {
  "kernelspec": {
   "display_name": "conda_python3",
   "language": "python",
   "name": "conda_python3"
  },
  "language_info": {
   "codemirror_mode": {
    "name": "ipython",
    "version": 3
   },
   "file_extension": ".py",
   "mimetype": "text/x-python",
   "name": "python",
   "nbconvert_exporter": "python",
   "pygments_lexer": "ipython3",
   "version": "3.6.10"
  }
 },
 "nbformat": 4,
 "nbformat_minor": 2
}
